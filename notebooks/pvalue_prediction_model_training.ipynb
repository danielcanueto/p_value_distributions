{
 "cells": [
  {
   "cell_type": "markdown",
   "metadata": {},
   "source": [
    "# Training of model of p-value prediction and analysis of the importance and effect of the features analyzed"
   ]
  },
  {
   "cell_type": "markdown",
   "metadata": {},
   "source": [
    "## Introduction"
   ]
  },
  {
   "cell_type": "markdown",
   "metadata": {},
   "source": [
    "On the \"p_value_distribution_exploratory_analysis.ipynb\" notebook, we observed apparent clear differences between subsets of p-values depending on several factors (affiliation country, field, species/kingdom, citation count). We also observed that the p-value dataset showed several modes of p-value roundings (0.00001, 0.001, 0.01 and 0.05) and that the most relevant ones were the 0.01 and 0.05 roundings.\n",
    "\n",
    "Now, we want to combine the effect of each of these factors in a single prediction model of high (-Inf,0.01] and low (0.01-0.05] p-values. Thanks to this model, we will be able to evaluate if the factors analyzed can meaningfully help improve the prediction of low and high p-values achieved by the citation count. If true, this would mean that these factors are actually relevant in the distribution of p-values and their information should be taken into account when evaluating the possible quality of the study. Next, the importance of each variable in the prediction is evaluated with state-of-the-art machine learning interpretability methods. Lastly, the effect of each feature in the model is analyzed to evaluate how it influences the prediction in order to exploit its predictive potential."
   ]
  },
  {
   "cell_type": "code",
   "execution_count": 1,
   "metadata": {},
   "outputs": [],
   "source": [
    "setwd(\"C:\\\\Users\\\\dani5\\\\Documents\\\\Projects\\\\PhD\\\\p_value_dist\\\\data\")"
   ]
  },
  {
   "cell_type": "code",
   "execution_count": 2,
   "metadata": {},
   "outputs": [
    {
     "name": "stderr",
     "output_type": "stream",
     "text": [
      "Loading required package: lattice\n",
      "Loading required package: ggplot2\n",
      "\n",
      "Attaching package: 'MLmetrics'\n",
      "\n",
      "The following objects are masked from 'package:caret':\n",
      "\n",
      "    MAE, RMSE\n",
      "\n",
      "The following object is masked from 'package:base':\n",
      "\n",
      "    Recall\n",
      "\n",
      "\n",
      "Attaching package: 'dplyr'\n",
      "\n",
      "The following objects are masked from 'package:stats':\n",
      "\n",
      "    filter, lag\n",
      "\n",
      "The following objects are masked from 'package:base':\n",
      "\n",
      "    intersect, setdiff, setequal, union\n",
      "\n",
      "\n",
      "Attaching package: 'xgboost'\n",
      "\n",
      "The following object is masked from 'package:dplyr':\n",
      "\n",
      "    slice\n",
      "\n",
      "Welcome to DALEX (version: 0.2.4).\n",
      "\n",
      "Attaching package: 'DALEX'\n",
      "\n",
      "The following object is masked from 'package:dplyr':\n",
      "\n",
      "    explain\n",
      "\n",
      "Type 'citation(\"pROC\")' for a citation.\n",
      "\n",
      "Attaching package: 'pROC'\n",
      "\n",
      "The following objects are masked from 'package:stats':\n",
      "\n",
      "    cov, smooth, var\n",
      "\n"
     ]
    }
   ],
   "source": [
    "library(readr)\n",
    "library(tidypvals)\n",
    "library(caret)\n",
    "library(MLmetrics)\n",
    "library(dplyr)\n",
    "library(xgboost)\n",
    "library(DALEX)\n",
    "library(pROC)"
   ]
  },
  {
   "cell_type": "markdown",
   "metadata": {},
   "source": [
    "## Loading of information"
   ]
  },
  {
   "cell_type": "markdown",
   "metadata": {},
   "source": [
    "We create a p-values dataset with the information of the year, the article ID and the dataset where it was taken from. The dataset is in numeric form to encode as effectively as ppossible the information (1=only in 'head2015' dataset, 2=only in 'chavalarias2016' dataset, 1.5= in both datasets)."
   ]
  },
  {
   "cell_type": "code",
   "execution_count": 3,
   "metadata": {},
   "outputs": [
    {
     "name": "stderr",
     "output_type": "stream",
     "text": [
      "Joining, by = c(\"pvalue\", \"year\", \"journal\", \"field\", \"abstract\", \"operator\", \"doi\", \"pmid\")\n",
      "Joining, by = c(\"pvalue\", \"year\", \"journal\", \"field\", \"abstract\", \"operator\", \"doi\", \"pmid\")\n",
      "Joining, by = c(\"pvalue\", \"year\", \"journal\", \"field\", \"abstract\", \"operator\", \"doi\", \"pmid\")\n"
     ]
    }
   ],
   "source": [
    "aj1 = anti_join(head2015,chavalarias2016)%>%mutate(dataset=1)\n",
    "aj2 = anti_join(chavalarias2016,head2015)%>%mutate(dataset=2)\n",
    "sj1 = semi_join(head2015,chavalarias2016)%>%mutate(dataset=1.5)\n",
    "allp = rbind(aj1,aj2,sj1) %>% select(c(pvalue,year,doi,pmid,dataset))"
   ]
  },
  {
   "cell_type": "markdown",
   "metadata": {},
   "source": [
    "Now we load the information achieved from the Pubmed and Scopus websites."
   ]
  },
  {
   "cell_type": "markdown",
   "metadata": {},
   "source": [
    "By country:"
   ]
  },
  {
   "cell_type": "code",
   "execution_count": 10,
   "metadata": {},
   "outputs": [
    {
     "name": "stderr",
     "output_type": "stream",
     "text": [
      "Parsed with column specification:\n",
      "cols(\n",
      "  Title = col_character(),\n",
      "  URL = col_character(),\n",
      "  Description = col_character(),\n",
      "  Details = col_character(),\n",
      "  ShortDetails = col_character(),\n",
      "  Resource = col_character(),\n",
      "  Type = col_character(),\n",
      "  Identifiers = col_character(),\n",
      "  Db = col_character(),\n",
      "  EntrezUID = col_character(),\n",
      "  Properties = col_character()\n",
      ")\n",
      "Warning message in rbind(names(probs), probs_f):\n",
      "\"number of columns of result is not a multiple of vector length (arg 1)\"Warning message:\n",
      "\"6154 parsing failures.\n",
      "row # A tibble: 5 x 5 col     row col   expected   actual     file                     expected   <int> <chr> <chr>      <chr>      <chr>                    actual 1     1 <NA>  11 columns 12 columns 'germany_proteomics.csv' file 2     2 <NA>  11 columns 12 columns 'germany_proteomics.csv' row 3     3 <NA>  11 columns 12 columns 'germany_proteomics.csv' col 4     4 <NA>  11 columns 12 columns 'germany_proteomics.csv' expected 5     5 <NA>  11 columns 12 columns 'germany_proteomics.csv'\n",
      "... ................. ... ............................................................ ........ ............................................................ ...... ............................................................ .... ............................................................ ... ............................................................ ... ............................................................ ........ ............................................................\n",
      "See problems(...) for more details.\n",
      "\"Parsed with column specification:\n",
      "cols(\n",
      "  Title = col_character(),\n",
      "  URL = col_character(),\n",
      "  Description = col_character(),\n",
      "  Details = col_character(),\n",
      "  ShortDetails = col_character(),\n",
      "  Resource = col_character(),\n",
      "  Type = col_character(),\n",
      "  Identifiers = col_character(),\n",
      "  Db = col_character(),\n",
      "  EntrezUID = col_character(),\n",
      "  Properties = col_character()\n",
      ")\n",
      "Warning message in rbind(names(probs), probs_f):\n",
      "\"number of columns of result is not a multiple of vector length (arg 1)\"Warning message:\n",
      "\"8847 parsing failures.\n",
      "row # A tibble: 5 x 5 col     row col   expected   actual     file                   expected   <int> <chr> <chr>      <chr>      <chr>                  actual 1     1 <NA>  11 columns 12 columns 'china_proteomics.csv' file 2     2 <NA>  11 columns 12 columns 'china_proteomics.csv' row 3     3 <NA>  11 columns 12 columns 'china_proteomics.csv' col 4     4 <NA>  11 columns 12 columns 'china_proteomics.csv' expected 5     5 <NA>  11 columns 12 columns 'china_proteomics.csv'\n",
      "... ................. ... .......................................................... ........ .......................................................... ...... .......................................................... .... .......................................................... ... .......................................................... ... .......................................................... ........ ..........................................................\n",
      "See problems(...) for more details.\n",
      "\"Parsed with column specification:\n",
      "cols(\n",
      "  Title = col_character(),\n",
      "  URL = col_character(),\n",
      "  Description = col_character(),\n",
      "  Details = col_character(),\n",
      "  ShortDetails = col_character(),\n",
      "  Resource = col_character(),\n",
      "  Type = col_character(),\n",
      "  Identifiers = col_character(),\n",
      "  Db = col_character(),\n",
      "  EntrezUID = col_character(),\n",
      "  Properties = col_character()\n",
      ")\n",
      "Warning message in rbind(names(probs), probs_f):\n",
      "\"number of columns of result is not a multiple of vector length (arg 1)\"Warning message:\n",
      "\"2205 parsing failures.\n",
      "row # A tibble: 5 x 5 col     row col   expected   actual     file                expected   <int> <chr> <chr>      <chr>      <chr>               actual 1     1 <NA>  11 columns 12 columns 'us_proteomics.csv' file 2     2 <NA>  11 columns 12 columns 'us_proteomics.csv' row 3     3 <NA>  11 columns 12 columns 'us_proteomics.csv' col 4     4 <NA>  11 columns 12 columns 'us_proteomics.csv' expected 5     5 <NA>  11 columns 12 columns 'us_proteomics.csv'\n",
      "... ................. ... ....................................................... ........ ....................................................... ...... ....................................................... .... ....................................................... ... ....................................................... ... ....................................................... ........ .......................................................\n",
      "See problems(...) for more details.\n",
      "\"Parsed with column specification:\n",
      "cols(\n",
      "  Title = col_character(),\n",
      "  URL = col_character(),\n",
      "  Description = col_character(),\n",
      "  Details = col_character(),\n",
      "  ShortDetails = col_character(),\n",
      "  Resource = col_character(),\n",
      "  Type = col_character(),\n",
      "  Identifiers = col_character(),\n",
      "  Db = col_character(),\n",
      "  EntrezUID = col_character(),\n",
      "  Properties = col_character()\n",
      ")\n",
      "Warning message in rbind(names(probs), probs_f):\n",
      "\"number of columns of result is not a multiple of vector length (arg 1)\"Warning message:\n",
      "\"2243 parsing failures.\n",
      "row # A tibble: 5 x 5 col     row col   expected   actual     file                   expected   <int> <chr> <chr>      <chr>      <chr>                  actual 1     1 <NA>  11 columns 12 columns 'spain_proteomics.csv' file 2     2 <NA>  11 columns 12 columns 'spain_proteomics.csv' row 3     3 <NA>  11 columns 12 columns 'spain_proteomics.csv' col 4     4 <NA>  11 columns 12 columns 'spain_proteomics.csv' expected 5     5 <NA>  11 columns 12 columns 'spain_proteomics.csv'\n",
      "... ................. ... .......................................................... ........ .......................................................... ...... .......................................................... .... .......................................................... ... .......................................................... ... .......................................................... ........ ..........................................................\n",
      "See problems(...) for more details.\n",
      "\"Parsed with column specification:\n",
      "cols(\n",
      "  Title = col_character(),\n",
      "  URL = col_character(),\n",
      "  Description = col_character(),\n",
      "  Details = col_character(),\n",
      "  ShortDetails = col_character(),\n",
      "  Resource = col_character(),\n",
      "  Type = col_character(),\n",
      "  Identifiers = col_character(),\n",
      "  Db = col_character(),\n",
      "  EntrezUID = col_character(),\n",
      "  Properties = col_character()\n",
      ")\n",
      "Warning message in rbind(names(probs), probs_f):\n",
      "\"number of columns of result is not a multiple of vector length (arg 1)\"Warning message:\n",
      "\"1240 parsing failures.\n",
      "row # A tibble: 5 x 5 col     row col   expected   actual     file                expected   <int> <chr> <chr>      <chr>      <chr>               actual 1     1 <NA>  11 columns 12 columns 'uk_proteomics.csv' file 2     2 <NA>  11 columns 12 columns 'uk_proteomics.csv' row 3     3 <NA>  11 columns 12 columns 'uk_proteomics.csv' col 4     4 <NA>  11 columns 12 columns 'uk_proteomics.csv' expected 5     5 <NA>  11 columns 12 columns 'uk_proteomics.csv'\n",
      "... ................. ... ....................................................... ........ ....................................................... ...... ....................................................... .... ....................................................... ... ....................................................... ... ....................................................... ........ .......................................................\n",
      "See problems(...) for more details.\n",
      "\"Parsed with column specification:\n",
      "cols(\n",
      "  Title = col_character(),\n",
      "  URL = col_character(),\n",
      "  Description = col_character(),\n",
      "  Details = col_character(),\n",
      "  ShortDetails = col_character(),\n",
      "  Resource = col_character(),\n",
      "  Type = col_character(),\n",
      "  Identifiers = col_character(),\n",
      "  Db = col_character(),\n",
      "  EntrezUID = col_character(),\n",
      "  Properties = col_character()\n",
      ")\n",
      "Warning message in rbind(names(probs), probs_f):\n",
      "\"number of columns of result is not a multiple of vector length (arg 1)\"Warning message:\n",
      "\"2771 parsing failures.\n",
      "row # A tibble: 5 x 5 col     row col   expected   actual     file                    expected   <int> <chr> <chr>      <chr>      <chr>                   actual 1     1 <NA>  11 columns 12 columns 'france_proteomics.csv' file 2     2 <NA>  11 columns 12 columns 'france_proteomics.csv' row 3     3 <NA>  11 columns 12 columns 'france_proteomics.csv' col 4     4 <NA>  11 columns 12 columns 'france_proteomics.csv' expected 5     5 <NA>  11 columns 12 columns 'france_proteomics.csv'\n",
      "... ................. ... ........................................................... ........ ........................................................... ...... ........................................................... .... ........................................................... ... ........................................................... ... ........................................................... ........ ...........................................................\n",
      "See problems(...) for more details.\n"
     ]
    },
    {
     "name": "stderr",
     "output_type": "stream",
     "text": [
      "\"Parsed with column specification:\n",
      "cols(\n",
      "  Title = col_character(),\n",
      "  URL = col_character(),\n",
      "  Description = col_character(),\n",
      "  Details = col_character(),\n",
      "  ShortDetails = col_character(),\n",
      "  Resource = col_character(),\n",
      "  Type = col_character(),\n",
      "  Identifiers = col_character(),\n",
      "  Db = col_character(),\n",
      "  EntrezUID = col_character(),\n",
      "  Properties = col_character()\n",
      ")\n",
      "Warning message in rbind(names(probs), probs_f):\n",
      "\"number of columns of result is not a multiple of vector length (arg 1)\"Warning message:\n",
      "\"2837 parsing failures.\n",
      "row # A tibble: 5 x 5 col     row col   expected   actual     file                   expected   <int> <chr> <chr>      <chr>      <chr>                  actual 1     1 <NA>  11 columns 12 columns 'italy_proteomics.csv' file 2     2 <NA>  11 columns 12 columns 'italy_proteomics.csv' row 3     3 <NA>  11 columns 12 columns 'italy_proteomics.csv' col 4     4 <NA>  11 columns 12 columns 'italy_proteomics.csv' expected 5     5 <NA>  11 columns 12 columns 'italy_proteomics.csv'\n",
      "... ................. ... .......................................................... ........ .......................................................... ...... .......................................................... .... .......................................................... ... .......................................................... ... .......................................................... ........ ..........................................................\n",
      "See problems(...) for more details.\n",
      "\"Parsed with column specification:\n",
      "cols(\n",
      "  Title = col_character(),\n",
      "  URL = col_character(),\n",
      "  Description = col_character(),\n",
      "  Details = col_character(),\n",
      "  ShortDetails = col_character(),\n",
      "  Resource = col_character(),\n",
      "  Type = col_character(),\n",
      "  Identifiers = col_character(),\n",
      "  Db = col_character(),\n",
      "  EntrezUID = col_character(),\n",
      "  Properties = col_character()\n",
      ")\n",
      "Warning message in rbind(names(probs), probs_f):\n",
      "\"number of columns of result is not a multiple of vector length (arg 1)\"Warning message:\n",
      "\"2972 parsing failures.\n",
      "row # A tibble: 5 x 5 col     row col   expected   actual     file                   expected   <int> <chr> <chr>      <chr>      <chr>                  actual 1     1 <NA>  11 columns 12 columns 'japan_proteomics.csv' file 2     2 <NA>  11 columns 12 columns 'japan_proteomics.csv' row 3     3 <NA>  11 columns 12 columns 'japan_proteomics.csv' col 4     4 <NA>  11 columns 12 columns 'japan_proteomics.csv' expected 5     5 <NA>  11 columns 12 columns 'japan_proteomics.csv'\n",
      "... ................. ... .......................................................... ........ .......................................................... ...... .......................................................... .... .......................................................... ... .......................................................... ... .......................................................... ........ ..........................................................\n",
      "See problems(...) for more details.\n",
      "\"Parsed with column specification:\n",
      "cols(\n",
      "  Title = col_character(),\n",
      "  URL = col_character(),\n",
      "  Description = col_character(),\n",
      "  Details = col_character(),\n",
      "  ShortDetails = col_character(),\n",
      "  Resource = col_character(),\n",
      "  Type = col_character(),\n",
      "  Identifiers = col_character(),\n",
      "  Db = col_character(),\n",
      "  EntrezUID = col_character(),\n",
      "  Properties = col_character()\n",
      ")\n",
      "Warning message in rbind(names(probs), probs_f):\n",
      "\"number of columns of result is not a multiple of vector length (arg 1)\"Warning message:\n",
      "\"2103 parsing failures.\n",
      "row # A tibble: 5 x 5 col     row col   expected   actual     file                         expected   <int> <chr> <chr>      <chr>      <chr>                        actual 1     1 <NA>  11 columns 12 columns 'netherlands_proteomics.csv' file 2     2 <NA>  11 columns 12 columns 'netherlands_proteomics.csv' row 3     3 <NA>  11 columns 12 columns 'netherlands_proteomics.csv' col 4     4 <NA>  11 columns 12 columns 'netherlands_proteomics.csv' expected 5     5 <NA>  11 columns 12 columns 'netherlands_proteomics.csv'\n",
      "... ................. ... ................................................................ ........ ................................................................ ...... ................................................................ .... ................................................................ ... ................................................................ ... ................................................................ ........ ................................................................\n",
      "See problems(...) for more details.\n",
      "\"Parsed with column specification:\n",
      "cols(\n",
      "  Title = col_character(),\n",
      "  URL = col_character(),\n",
      "  Description = col_character(),\n",
      "  Details = col_character(),\n",
      "  ShortDetails = col_character(),\n",
      "  Resource = col_character(),\n",
      "  Type = col_character(),\n",
      "  Identifiers = col_character(),\n",
      "  Db = col_character(),\n",
      "  EntrezUID = col_character(),\n",
      "  Properties = col_character()\n",
      ")\n",
      "Warning message in rbind(names(probs), probs_f):\n",
      "\"number of columns of result is not a multiple of vector length (arg 1)\"Warning message:\n",
      "\"2820 parsing failures.\n",
      "row # A tibble: 5 x 5 col     row col   expected   actual     file                    expected   <int> <chr> <chr>      <chr>      <chr>                   actual 1     1 <NA>  11 columns 12 columns 'canada_proteomics.csv' file 2     2 <NA>  11 columns 12 columns 'canada_proteomics.csv' row 3     3 <NA>  11 columns 12 columns 'canada_proteomics.csv' col 4     4 <NA>  11 columns 12 columns 'canada_proteomics.csv' expected 5     5 <NA>  11 columns 12 columns 'canada_proteomics.csv'\n",
      "... ................. ... ........................................................... ........ ........................................................... ...... ........................................................... .... ........................................................... ... ........................................................... ... ........................................................... ........ ...........................................................\n",
      "See problems(...) for more details.\n",
      "\"Parsed with column specification:\n",
      "cols(\n",
      "  Title = col_character(),\n",
      "  URL = col_character(),\n",
      "  Description = col_character(),\n",
      "  Details = col_character(),\n",
      "  ShortDetails = col_character(),\n",
      "  Resource = col_character(),\n",
      "  Type = col_character(),\n",
      "  Identifiers = col_character(),\n",
      "  Db = col_character(),\n",
      "  EntrezUID = col_character(),\n",
      "  Properties = col_character()\n",
      ")\n",
      "Warning message in rbind(names(probs), probs_f):\n",
      "\"number of columns of result is not a multiple of vector length (arg 1)\"Warning message:\n",
      "\"12634 parsing failures.\n",
      "row # A tibble: 5 x 5 col     row col   expected   actual     file                   expected   <int> <chr> <chr>      <chr>      <chr>                  actual 1     1 <NA>  11 columns 12 columns 'germany_genomics.csv' file 2     2 <NA>  11 columns 12 columns 'germany_genomics.csv' row 3     3 <NA>  11 columns 12 columns 'germany_genomics.csv' col 4     4 <NA>  11 columns 12 columns 'germany_genomics.csv' expected 5     5 <NA>  11 columns 12 columns 'germany_genomics.csv'\n",
      "... ................. ... .......................................................... ........ .......................................................... ...... .......................................................... .... .......................................................... ... .......................................................... ... .......................................................... ........ ..........................................................\n",
      "See problems(...) for more details.\n",
      "\"Parsed with column specification:\n",
      "cols(\n",
      "  Title = col_character(),\n",
      "  URL = col_character(),\n",
      "  Description = col_character(),\n",
      "  Details = col_character(),\n",
      "  ShortDetails = col_character(),\n",
      "  Resource = col_character(),\n",
      "  Type = col_character(),\n",
      "  Identifiers = col_character(),\n",
      "  Db = col_character(),\n",
      "  EntrezUID = col_character(),\n",
      "  Properties = col_character()\n",
      ")\n",
      "Warning message in rbind(names(probs), probs_f):\n",
      "\"number of columns of result is not a multiple of vector length (arg 1)\"Warning message:\n",
      "\"18965 parsing failures.\n",
      "row # A tibble: 5 x 5 col     row col   expected   actual     file                 expected   <int> <chr> <chr>      <chr>      <chr>                actual 1     1 <NA>  11 columns 12 columns 'china_genomics.csv' file 2     2 <NA>  11 columns 12 columns 'china_genomics.csv' row 3     3 <NA>  11 columns 12 columns 'china_genomics.csv' col 4     4 <NA>  11 columns 12 columns 'china_genomics.csv' expected 5     5 <NA>  11 columns 12 columns 'china_genomics.csv'\n",
      "... ................. ... ........................................................ ........ ........................................................ ...... ........................................................ .... ........................................................ ... ........................................................ ... ........................................................ ........ ........................................................\n",
      "See problems(...) for more details.\n"
     ]
    },
    {
     "name": "stderr",
     "output_type": "stream",
     "text": [
      "\"Parsed with column specification:\n",
      "cols(\n",
      "  Title = col_character(),\n",
      "  URL = col_character(),\n",
      "  Description = col_character(),\n",
      "  Details = col_character(),\n",
      "  ShortDetails = col_character(),\n",
      "  Resource = col_character(),\n",
      "  Type = col_character(),\n",
      "  Identifiers = col_character(),\n",
      "  Db = col_character(),\n",
      "  EntrezUID = col_character(),\n",
      "  Properties = col_character()\n",
      ")\n",
      "Warning message in rbind(names(probs), probs_f):\n",
      "\"number of columns of result is not a multiple of vector length (arg 1)\"Warning message:\n",
      "\"5611 parsing failures.\n",
      "row # A tibble: 5 x 5 col     row col   expected   actual     file              expected   <int> <chr> <chr>      <chr>      <chr>             actual 1     1 <NA>  11 columns 12 columns 'us_genomics.csv' file 2     2 <NA>  11 columns 12 columns 'us_genomics.csv' row 3     3 <NA>  11 columns 12 columns 'us_genomics.csv' col 4     4 <NA>  11 columns 12 columns 'us_genomics.csv' expected 5     5 <NA>  11 columns 12 columns 'us_genomics.csv'\n",
      "... ................. ... ..................................................... ........ ..................................................... ...... ..................................................... .... ..................................................... ... ..................................................... ... ..................................................... ........ .....................................................\n",
      "See problems(...) for more details.\n",
      "\"Parsed with column specification:\n",
      "cols(\n",
      "  Title = col_character(),\n",
      "  URL = col_character(),\n",
      "  Description = col_character(),\n",
      "  Details = col_character(),\n",
      "  ShortDetails = col_character(),\n",
      "  Resource = col_character(),\n",
      "  Type = col_character(),\n",
      "  Identifiers = col_character(),\n",
      "  Db = col_character(),\n",
      "  EntrezUID = col_character(),\n",
      "  Properties = col_character()\n",
      ")\n",
      "Warning message in rbind(names(probs), probs_f):\n",
      "\"number of columns of result is not a multiple of vector length (arg 1)\"Warning message:\n",
      "\"5702 parsing failures.\n",
      "row # A tibble: 5 x 5 col     row col   expected   actual     file                 expected   <int> <chr> <chr>      <chr>      <chr>                actual 1     1 <NA>  11 columns 12 columns 'spain_genomics.csv' file 2     2 <NA>  11 columns 12 columns 'spain_genomics.csv' row 3     3 <NA>  11 columns 12 columns 'spain_genomics.csv' col 4     4 <NA>  11 columns 12 columns 'spain_genomics.csv' expected 5     5 <NA>  11 columns 12 columns 'spain_genomics.csv'\n",
      "... ................. ... ........................................................ ........ ........................................................ ...... ........................................................ .... ........................................................ ... ........................................................ ... ........................................................ ........ ........................................................\n",
      "See problems(...) for more details.\n",
      "\"Parsed with column specification:\n",
      "cols(\n",
      "  Title = col_character(),\n",
      "  URL = col_character(),\n",
      "  Description = col_character(),\n",
      "  Details = col_character(),\n",
      "  ShortDetails = col_character(),\n",
      "  Resource = col_character(),\n",
      "  Type = col_character(),\n",
      "  Identifiers = col_character(),\n",
      "  Db = col_character(),\n",
      "  EntrezUID = col_character(),\n",
      "  Properties = col_character()\n",
      ")\n",
      "Warning message in rbind(names(probs), probs_f):\n",
      "\"number of columns of result is not a multiple of vector length (arg 1)\"Warning message:\n",
      "\"3966 parsing failures.\n",
      "row # A tibble: 5 x 5 col     row col   expected   actual     file              expected   <int> <chr> <chr>      <chr>      <chr>             actual 1     1 <NA>  11 columns 12 columns 'uk_genomics.csv' file 2     2 <NA>  11 columns 12 columns 'uk_genomics.csv' row 3     3 <NA>  11 columns 12 columns 'uk_genomics.csv' col 4     4 <NA>  11 columns 12 columns 'uk_genomics.csv' expected 5     5 <NA>  11 columns 12 columns 'uk_genomics.csv'\n",
      "... ................. ... ..................................................... ........ ..................................................... ...... ..................................................... .... ..................................................... ... ..................................................... ... ..................................................... ........ .....................................................\n",
      "See problems(...) for more details.\n",
      "\"Parsed with column specification:\n",
      "cols(\n",
      "  Title = col_character(),\n",
      "  URL = col_character(),\n",
      "  Description = col_character(),\n",
      "  Details = col_character(),\n",
      "  ShortDetails = col_character(),\n",
      "  Resource = col_character(),\n",
      "  Type = col_character(),\n",
      "  Identifiers = col_character(),\n",
      "  Db = col_character(),\n",
      "  EntrezUID = col_character(),\n",
      "  Properties = col_character()\n",
      ")\n",
      "Warning message in rbind(names(probs), probs_f):\n",
      "\"number of columns of result is not a multiple of vector length (arg 1)\"Warning message:\n",
      "\"7850 parsing failures.\n",
      "row # A tibble: 5 x 5 col     row col   expected   actual     file                  expected   <int> <chr> <chr>      <chr>      <chr>                 actual 1     1 <NA>  11 columns 12 columns 'france_genomics.csv' file 2     2 <NA>  11 columns 12 columns 'france_genomics.csv' row 3     3 <NA>  11 columns 12 columns 'france_genomics.csv' col 4     4 <NA>  11 columns 12 columns 'france_genomics.csv' expected 5     5 <NA>  11 columns 12 columns 'france_genomics.csv'\n",
      "... ................. ... ......................................................... ........ ......................................................... ...... ......................................................... .... ......................................................... ... ......................................................... ... ......................................................... ........ .........................................................\n",
      "See problems(...) for more details.\n",
      "\"Parsed with column specification:\n",
      "cols(\n",
      "  Title = col_character(),\n",
      "  URL = col_character(),\n",
      "  Description = col_character(),\n",
      "  Details = col_character(),\n",
      "  ShortDetails = col_character(),\n",
      "  Resource = col_character(),\n",
      "  Type = col_character(),\n",
      "  Identifiers = col_character(),\n",
      "  Db = col_character(),\n",
      "  EntrezUID = col_character(),\n",
      "  Properties = col_character()\n",
      ")\n",
      "Warning message in rbind(names(probs), probs_f):\n",
      "\"number of columns of result is not a multiple of vector length (arg 1)\"Warning message:\n",
      "\"5824 parsing failures.\n",
      "row # A tibble: 5 x 5 col     row col   expected   actual     file                 expected   <int> <chr> <chr>      <chr>      <chr>                actual 1     1 <NA>  11 columns 12 columns 'italy_genomics.csv' file 2     2 <NA>  11 columns 12 columns 'italy_genomics.csv' row 3     3 <NA>  11 columns 12 columns 'italy_genomics.csv' col 4     4 <NA>  11 columns 12 columns 'italy_genomics.csv' expected 5     5 <NA>  11 columns 12 columns 'italy_genomics.csv'\n",
      "... ................. ... ........................................................ ........ ........................................................ ...... ........................................................ .... ........................................................ ... ........................................................ ... ........................................................ ........ ........................................................\n",
      "See problems(...) for more details.\n",
      "\"Parsed with column specification:\n",
      "cols(\n",
      "  Title = col_character(),\n",
      "  URL = col_character(),\n",
      "  Description = col_character(),\n",
      "  Details = col_character(),\n",
      "  ShortDetails = col_character(),\n",
      "  Resource = col_character(),\n",
      "  Type = col_character(),\n",
      "  Identifiers = col_character(),\n",
      "  Db = col_character(),\n",
      "  EntrezUID = col_character(),\n",
      "  Properties = col_character()\n",
      ")\n",
      "Warning message in rbind(names(probs), probs_f):\n",
      "\"number of columns of result is not a multiple of vector length (arg 1)\"Warning message:\n",
      "\"7531 parsing failures.\n",
      "row # A tibble: 5 x 5 col     row col   expected   actual     file                 expected   <int> <chr> <chr>      <chr>      <chr>                actual 1     1 <NA>  11 columns 12 columns 'japan_genomics.csv' file 2     2 <NA>  11 columns 12 columns 'japan_genomics.csv' row 3     3 <NA>  11 columns 12 columns 'japan_genomics.csv' col 4     4 <NA>  11 columns 12 columns 'japan_genomics.csv' expected 5     5 <NA>  11 columns 12 columns 'japan_genomics.csv'\n",
      "... ................. ... ........................................................ ........ ........................................................ ...... ........................................................ .... ........................................................ ... ........................................................ ... ........................................................ ........ ........................................................\n",
      "See problems(...) for more details.\n"
     ]
    },
    {
     "name": "stderr",
     "output_type": "stream",
     "text": [
      "\"Parsed with column specification:\n",
      "cols(\n",
      "  Title = col_character(),\n",
      "  URL = col_character(),\n",
      "  Description = col_character(),\n",
      "  Details = col_character(),\n",
      "  ShortDetails = col_character(),\n",
      "  Resource = col_character(),\n",
      "  Type = col_character(),\n",
      "  Identifiers = col_character(),\n",
      "  Db = col_character(),\n",
      "  EntrezUID = col_character(),\n",
      "  Properties = col_character()\n",
      ")\n",
      "Warning message in rbind(names(probs), probs_f):\n",
      "\"number of columns of result is not a multiple of vector length (arg 1)\"Warning message:\n",
      "\"5991 parsing failures.\n",
      "row # A tibble: 5 x 5 col     row col   expected   actual     file                       expected   <int> <chr> <chr>      <chr>      <chr>                      actual 1     1 <NA>  11 columns 12 columns 'netherlands_genomics.csv' file 2     2 <NA>  11 columns 12 columns 'netherlands_genomics.csv' row 3     3 <NA>  11 columns 12 columns 'netherlands_genomics.csv' col 4     4 <NA>  11 columns 12 columns 'netherlands_genomics.csv' expected 5     5 <NA>  11 columns 12 columns 'netherlands_genomics.csv'\n",
      "... ................. ... .............................................................. ........ .............................................................. ...... .............................................................. .... .............................................................. ... .............................................................. ... .............................................................. ........ ..............................................................\n",
      "See problems(...) for more details.\n",
      "\"Parsed with column specification:\n",
      "cols(\n",
      "  Title = col_character(),\n",
      "  URL = col_character(),\n",
      "  Description = col_character(),\n",
      "  Details = col_character(),\n",
      "  ShortDetails = col_character(),\n",
      "  Resource = col_character(),\n",
      "  Type = col_character(),\n",
      "  Identifiers = col_character(),\n",
      "  Db = col_character(),\n",
      "  EntrezUID = col_character(),\n",
      "  Properties = col_character()\n",
      ")\n",
      "Warning message in rbind(names(probs), probs_f):\n",
      "\"number of columns of result is not a multiple of vector length (arg 1)\"Warning message:\n",
      "\"8338 parsing failures.\n",
      "row # A tibble: 5 x 5 col     row col   expected   actual     file                  expected   <int> <chr> <chr>      <chr>      <chr>                 actual 1     1 <NA>  11 columns 12 columns 'canada_genomics.csv' file 2     2 <NA>  11 columns 12 columns 'canada_genomics.csv' row 3     3 <NA>  11 columns 12 columns 'canada_genomics.csv' col 4     4 <NA>  11 columns 12 columns 'canada_genomics.csv' expected 5     5 <NA>  11 columns 12 columns 'canada_genomics.csv'\n",
      "... ................. ... ......................................................... ........ ......................................................... ...... ......................................................... .... ......................................................... ... ......................................................... ... ......................................................... ........ .........................................................\n",
      "See problems(...) for more details.\n",
      "\"Parsed with column specification:\n",
      "cols(\n",
      "  Title = col_character(),\n",
      "  URL = col_character(),\n",
      "  Description = col_character(),\n",
      "  Details = col_character(),\n",
      "  ShortDetails = col_character(),\n",
      "  Resource = col_character(),\n",
      "  Type = col_character(),\n",
      "  Identifiers = col_character(),\n",
      "  Db = col_character(),\n",
      "  EntrezUID = col_character(),\n",
      "  Properties = col_character()\n",
      ")\n",
      "Warning message in rbind(names(probs), probs_f):\n",
      "\"number of columns of result is not a multiple of vector length (arg 1)\"Warning message:\n",
      "\"4222 parsing failures.\n",
      "row # A tibble: 5 x 5 col     row col   expected   actual     file                          expected   <int> <chr> <chr>      <chr>      <chr>                         actual 1     1 <NA>  11 columns 12 columns 'germany_transcriptomics.csv' file 2     2 <NA>  11 columns 12 columns 'germany_transcriptomics.csv' row 3     3 <NA>  11 columns 12 columns 'germany_transcriptomics.csv' col 4     4 <NA>  11 columns 12 columns 'germany_transcriptomics.csv' expected 5     5 <NA>  11 columns 12 columns 'germany_transcriptomics.csv'\n",
      "... ................. ... ................................................................. ........ ................................................................. ...... ................................................................. .... ................................................................. ... ................................................................. ... ................................................................. ........ .................................................................\n",
      "See problems(...) for more details.\n",
      "\"Parsed with column specification:\n",
      "cols(\n",
      "  Title = col_character(),\n",
      "  URL = col_character(),\n",
      "  Description = col_character(),\n",
      "  Details = col_character(),\n",
      "  ShortDetails = col_character(),\n",
      "  Resource = col_character(),\n",
      "  Type = col_character(),\n",
      "  Identifiers = col_character(),\n",
      "  Db = col_character(),\n",
      "  EntrezUID = col_character(),\n",
      "  Properties = col_character()\n",
      ")\n",
      "Warning message in rbind(names(probs), probs_f):\n",
      "\"number of columns of result is not a multiple of vector length (arg 1)\"Warning message:\n",
      "\"7740 parsing failures.\n",
      "row # A tibble: 5 x 5 col     row col   expected   actual     file                        expected   <int> <chr> <chr>      <chr>      <chr>                       actual 1     1 <NA>  11 columns 12 columns 'china_transcriptomics.csv' file 2     2 <NA>  11 columns 12 columns 'china_transcriptomics.csv' row 3     3 <NA>  11 columns 12 columns 'china_transcriptomics.csv' col 4     4 <NA>  11 columns 12 columns 'china_transcriptomics.csv' expected 5     5 <NA>  11 columns 12 columns 'china_transcriptomics.csv'\n",
      "... ................. ... ............................................................... ........ ............................................................... ...... ............................................................... .... ............................................................... ... ............................................................... ... ............................................................... ........ ...............................................................\n",
      "See problems(...) for more details.\n",
      "\"Parsed with column specification:\n",
      "cols(\n",
      "  Title = col_character(),\n",
      "  URL = col_character(),\n",
      "  Description = col_character(),\n",
      "  Details = col_character(),\n",
      "  ShortDetails = col_character(),\n",
      "  Resource = col_character(),\n",
      "  Type = col_character(),\n",
      "  Identifiers = col_character(),\n",
      "  Db = col_character(),\n",
      "  EntrezUID = col_character(),\n",
      "  Properties = col_character()\n",
      ")\n",
      "Warning message in rbind(names(probs), probs_f):\n",
      "\"number of columns of result is not a multiple of vector length (arg 1)\"Warning message:\n",
      "\"2158 parsing failures.\n",
      "row # A tibble: 5 x 5 col     row col   expected   actual     file                     expected   <int> <chr> <chr>      <chr>      <chr>                    actual 1     1 <NA>  11 columns 12 columns 'us_transcriptomics.csv' file 2     2 <NA>  11 columns 12 columns 'us_transcriptomics.csv' row 3     3 <NA>  11 columns 12 columns 'us_transcriptomics.csv' col 4     4 <NA>  11 columns 12 columns 'us_transcriptomics.csv' expected 5     5 <NA>  11 columns 12 columns 'us_transcriptomics.csv'\n",
      "... ................. ... ............................................................ ........ ............................................................ ...... ............................................................ .... ............................................................ ... ............................................................ ... ............................................................ ........ ............................................................\n",
      "See problems(...) for more details.\n",
      "\"Parsed with column specification:\n",
      "cols(\n",
      "  Title = col_character(),\n",
      "  URL = col_character(),\n",
      "  Description = col_character(),\n",
      "  Details = col_character(),\n",
      "  ShortDetails = col_character(),\n",
      "  Resource = col_character(),\n",
      "  Type = col_character(),\n",
      "  Identifiers = col_character(),\n",
      "  Db = col_character(),\n",
      "  EntrezUID = col_character(),\n",
      "  Properties = col_character()\n",
      ")\n"
     ]
    },
    {
     "name": "stderr",
     "output_type": "stream",
     "text": [
      "Warning message in rbind(names(probs), probs_f):\n",
      "\"number of columns of result is not a multiple of vector length (arg 1)\"Warning message:\n",
      "\"1370 parsing failures.\n",
      "row # A tibble: 5 x 5 col     row col   expected   actual     file                        expected   <int> <chr> <chr>      <chr>      <chr>                       actual 1     1 <NA>  11 columns 12 columns 'spain_transcriptomics.csv' file 2     2 <NA>  11 columns 12 columns 'spain_transcriptomics.csv' row 3     3 <NA>  11 columns 12 columns 'spain_transcriptomics.csv' col 4     4 <NA>  11 columns 12 columns 'spain_transcriptomics.csv' expected 5     5 <NA>  11 columns 12 columns 'spain_transcriptomics.csv'\n",
      "... ................. ... ............................................................... ........ ............................................................... ...... ............................................................... .... ............................................................... ... ............................................................... ... ............................................................... ........ ...............................................................\n",
      "See problems(...) for more details.\n",
      "\"Parsed with column specification:\n",
      "cols(\n",
      "  Title = col_character(),\n",
      "  URL = col_character(),\n",
      "  Description = col_character(),\n",
      "  Details = col_character(),\n",
      "  ShortDetails = col_character(),\n",
      "  Resource = col_character(),\n",
      "  Type = col_character(),\n",
      "  Identifiers = col_character(),\n",
      "  Db = col_character(),\n",
      "  EntrezUID = col_character(),\n",
      "  Properties = col_character()\n",
      ")\n",
      "Warning message in rbind(names(probs), probs_f):\n",
      "\"number of columns of result is not a multiple of vector length (arg 1)\"Warning message:\n",
      "\"875 parsing failures.\n",
      "row # A tibble: 5 x 5 col     row col   expected   actual     file                     expected   <int> <chr> <chr>      <chr>      <chr>                    actual 1     1 <NA>  11 columns 12 columns 'uk_transcriptomics.csv' file 2     2 <NA>  11 columns 12 columns 'uk_transcriptomics.csv' row 3     3 <NA>  11 columns 12 columns 'uk_transcriptomics.csv' col 4     4 <NA>  11 columns 12 columns 'uk_transcriptomics.csv' expected 5     5 <NA>  11 columns 12 columns 'uk_transcriptomics.csv'\n",
      "... ................. ... ............................................................ ........ ............................................................ ...... ............................................................ .... ............................................................ ... ............................................................ ... ............................................................ ........ ............................................................\n",
      "See problems(...) for more details.\n",
      "\"Parsed with column specification:\n",
      "cols(\n",
      "  Title = col_character(),\n",
      "  URL = col_character(),\n",
      "  Description = col_character(),\n",
      "  Details = col_character(),\n",
      "  ShortDetails = col_character(),\n",
      "  Resource = col_character(),\n",
      "  Type = col_character(),\n",
      "  Identifiers = col_character(),\n",
      "  Db = col_character(),\n",
      "  EntrezUID = col_character(),\n",
      "  Properties = col_character()\n",
      ")\n",
      "Warning message in rbind(names(probs), probs_f):\n",
      "\"number of columns of result is not a multiple of vector length (arg 1)\"Warning message:\n",
      "\"2481 parsing failures.\n",
      "row # A tibble: 5 x 5 col     row col   expected   actual     file                         expected   <int> <chr> <chr>      <chr>      <chr>                        actual 1     1 <NA>  11 columns 12 columns 'france_transcriptomics.csv' file 2     2 <NA>  11 columns 12 columns 'france_transcriptomics.csv' row 3     3 <NA>  11 columns 12 columns 'france_transcriptomics.csv' col 4     4 <NA>  11 columns 12 columns 'france_transcriptomics.csv' expected 5     5 <NA>  11 columns 12 columns 'france_transcriptomics.csv'\n",
      "... ................. ... ................................................................ ........ ................................................................ ...... ................................................................ .... ................................................................ ... ................................................................ ... ................................................................ ........ ................................................................\n",
      "See problems(...) for more details.\n",
      "\"Parsed with column specification:\n",
      "cols(\n",
      "  Title = col_character(),\n",
      "  URL = col_character(),\n",
      "  Description = col_character(),\n",
      "  Details = col_character(),\n",
      "  ShortDetails = col_character(),\n",
      "  Resource = col_character(),\n",
      "  Type = col_character(),\n",
      "  Identifiers = col_character(),\n",
      "  Db = col_character(),\n",
      "  EntrezUID = col_character(),\n",
      "  Properties = col_character()\n",
      ")\n",
      "Warning message in rbind(names(probs), probs_f):\n",
      "\"number of columns of result is not a multiple of vector length (arg 1)\"Warning message:\n",
      "\"1519 parsing failures.\n",
      "row # A tibble: 5 x 5 col     row col   expected   actual     file                        expected   <int> <chr> <chr>      <chr>      <chr>                       actual 1     1 <NA>  11 columns 12 columns 'italy_transcriptomics.csv' file 2     2 <NA>  11 columns 12 columns 'italy_transcriptomics.csv' row 3     3 <NA>  11 columns 12 columns 'italy_transcriptomics.csv' col 4     4 <NA>  11 columns 12 columns 'italy_transcriptomics.csv' expected 5     5 <NA>  11 columns 12 columns 'italy_transcriptomics.csv'\n",
      "... ................. ... ............................................................... ........ ............................................................... ...... ............................................................... .... ............................................................... ... ............................................................... ... ............................................................... ........ ...............................................................\n",
      "See problems(...) for more details.\n",
      "\"Parsed with column specification:\n",
      "cols(\n",
      "  Title = col_character(),\n",
      "  URL = col_character(),\n",
      "  Description = col_character(),\n",
      "  Details = col_character(),\n",
      "  ShortDetails = col_character(),\n",
      "  Resource = col_character(),\n",
      "  Type = col_character(),\n",
      "  Identifiers = col_character(),\n",
      "  Db = col_character(),\n",
      "  EntrezUID = col_character(),\n",
      "  Properties = col_character()\n",
      ")\n",
      "Warning message in rbind(names(probs), probs_f):\n",
      "\"number of columns of result is not a multiple of vector length (arg 1)\"Warning message:\n",
      "\"2321 parsing failures.\n",
      "row # A tibble: 5 x 5 col     row col   expected   actual     file                        expected   <int> <chr> <chr>      <chr>      <chr>                       actual 1     1 <NA>  11 columns 12 columns 'japan_transcriptomics.csv' file 2     2 <NA>  11 columns 12 columns 'japan_transcriptomics.csv' row 3     3 <NA>  11 columns 12 columns 'japan_transcriptomics.csv' col 4     4 <NA>  11 columns 12 columns 'japan_transcriptomics.csv' expected 5     5 <NA>  11 columns 12 columns 'japan_transcriptomics.csv'\n",
      "... ................. ... ............................................................... ........ ............................................................... ...... ............................................................... .... ............................................................... ... ............................................................... ... ............................................................... ........ ...............................................................\n",
      "See problems(...) for more details.\n",
      "\"Parsed with column specification:\n",
      "cols(\n",
      "  Title = col_character(),\n",
      "  URL = col_character(),\n",
      "  Description = col_character(),\n",
      "  Details = col_character(),\n",
      "  ShortDetails = col_character(),\n",
      "  Resource = col_character(),\n",
      "  Type = col_character(),\n",
      "  Identifiers = col_character(),\n",
      "  Db = col_character(),\n",
      "  EntrezUID = col_character(),\n",
      "  Properties = col_character()\n",
      ")\n",
      "Warning message in rbind(names(probs), probs_f):\n",
      "\"number of columns of result is not a multiple of vector length (arg 1)\"Warning message:\n",
      "\"1562 parsing failures.\n",
      "row # A tibble: 5 x 5 col     row col   expected   actual     file                              expected   <int> <chr> <chr>      <chr>      <chr>                             actual 1     1 <NA>  11 columns 12 columns 'netherlands_transcriptomics.csv' file 2     2 <NA>  11 columns 12 columns 'netherlands_transcriptomics.csv' row 3     3 <NA>  11 columns 12 columns 'netherlands_transcriptomics.csv' col 4     4 <NA>  11 columns 12 columns 'netherlands_transcriptomics.csv' expected 5     5 <NA>  11 columns 12 columns 'netherlands_transcriptomics.csv'\n",
      "... ................. ... ..................................................................... ........ ..................................................................... ...... ..................................................................... .... ..................................................................... ... ..................................................................... ... ..................................................................... ........ .....................................................................\n",
      "See problems(...) for more details.\n"
     ]
    },
    {
     "name": "stderr",
     "output_type": "stream",
     "text": [
      "\"Parsed with column specification:\n",
      "cols(\n",
      "  Title = col_character(),\n",
      "  URL = col_character(),\n",
      "  Description = col_character(),\n",
      "  Details = col_character(),\n",
      "  ShortDetails = col_character(),\n",
      "  Resource = col_character(),\n",
      "  Type = col_character(),\n",
      "  Identifiers = col_character(),\n",
      "  Db = col_character(),\n",
      "  EntrezUID = col_character(),\n",
      "  Properties = col_character()\n",
      ")\n",
      "Warning message in rbind(names(probs), probs_f):\n",
      "\"number of columns of result is not a multiple of vector length (arg 1)\"Warning message:\n",
      "\"1935 parsing failures.\n",
      "row # A tibble: 5 x 5 col     row col   expected   actual     file                         expected   <int> <chr> <chr>      <chr>      <chr>                        actual 1     1 <NA>  11 columns 12 columns 'canada_transcriptomics.csv' file 2     2 <NA>  11 columns 12 columns 'canada_transcriptomics.csv' row 3     3 <NA>  11 columns 12 columns 'canada_transcriptomics.csv' col 4     4 <NA>  11 columns 12 columns 'canada_transcriptomics.csv' expected 5     5 <NA>  11 columns 12 columns 'canada_transcriptomics.csv'\n",
      "... ................. ... ................................................................ ........ ................................................................ ...... ................................................................ .... ................................................................ ... ................................................................ ... ................................................................ ........ ................................................................\n",
      "See problems(...) for more details.\n",
      "\"Warning message:\n",
      "\"Missing column names filled in: 'X1' [1]\"Warning message:\n",
      "\"Duplicated column names deduplicated: 'X1' => 'X1_1' [3]\"Parsed with column specification:\n",
      "cols(\n",
      "  .default = col_character(),\n",
      "  X1 = col_integer(),\n",
      "  X1_1 = col_integer(),\n",
      "  Citation = col_integer(),\n",
      "  Year = col_integer(),\n",
      "  Page.count = col_integer(),\n",
      "  PubMed.ID = col_integer()\n",
      ")\n",
      "See spec(...) for full column specifications.\n",
      "Joining, by = c(\"EntrezUID\", \"Country\", \"Field\")\n",
      "Joining, by = c(\"EntrezUID\", \"Country\", \"Field\")\n",
      "Joining, by = c(\"EntrezUID\", \"Country\", \"Field\")\n",
      "Warning message in evalq(as.integer(EntrezUID), <environment>):\n",
      "\"NAs introduced by coercion\""
     ]
    }
   ],
   "source": [
    "country_proteomics=rbind(\n",
    "    read_csv(\"germany_proteomics.csv\")%>%mutate(Country=\"Germany\"),\n",
    "    read_csv(\"china_proteomics.csv\")%>%mutate(Country=\"China\"),\n",
    "    read_csv(\"us_proteomics.csv\")%>%mutate(Country=\"US\"),\n",
    "    read_csv(\"spain_proteomics.csv\")%>%mutate(Country=\"Spain\"),\n",
    "    read_csv(\"uk_proteomics.csv\")%>%mutate(Country=\"UK\"),\n",
    "    read_csv(\"france_proteomics.csv\")%>%mutate(Country=\"France\"),\n",
    "    read_csv(\"italy_proteomics.csv\")%>%mutate(Country=\"Italy\"),\n",
    "    read_csv(\"japan_proteomics.csv\")%>%mutate(Country=\"Japan\"),\n",
    "    read_csv(\"netherlands_proteomics.csv\")%>%mutate(Country=\"Netherlands\"),\n",
    "    read_csv(\"canada_proteomics.csv\")%>%mutate(Country=\"Canada\")\n",
    ") %>% select(EntrezUID,Country) %>%\n",
    "mutate(Field=\"Proteomics\")\n",
    "\n",
    "country_genomics=rbind(\n",
    "    read_csv(\"germany_genomics.csv\")%>%mutate(Country=\"Germany\"),\n",
    "    read_csv(\"china_genomics.csv\")%>%mutate(Country=\"China\"),\n",
    "    read_csv(\"us_genomics.csv\")%>%mutate(Country=\"US\"),\n",
    "    read_csv(\"spain_genomics.csv\")%>%mutate(Country=\"Spain\"),\n",
    "    read_csv(\"uk_genomics.csv\")%>%mutate(Country=\"UK\"),\n",
    "    read_csv(\"france_genomics.csv\")%>%mutate(Country=\"France\"),\n",
    "    read_csv(\"italy_genomics.csv\")%>%mutate(Country=\"Italy\"),\n",
    "    read_csv(\"japan_genomics.csv\")%>%mutate(Country=\"Japan\"),\n",
    "    read_csv(\"netherlands_genomics.csv\")%>%mutate(Country=\"Netherlands\"),\n",
    "    read_csv(\"canada_genomics.csv\")%>%mutate(Country=\"Canada\")\n",
    ") %>% select(EntrezUID,Country) %>% \n",
    "mutate(Field=\"Genomics\")\n",
    "\n",
    "country_transcriptomics=rbind(\n",
    "    read_csv(\"germany_transcriptomics.csv\")%>%mutate(Country=\"Germany\"),\n",
    "    read_csv(\"china_transcriptomics.csv\")%>%mutate(Country=\"China\"),\n",
    "    read_csv(\"us_transcriptomics.csv\")%>%mutate(Country=\"US\"),\n",
    "    read_csv(\"spain_transcriptomics.csv\")%>%mutate(Country=\"Spain\"),\n",
    "    read_csv(\"uk_transcriptomics.csv\")%>%mutate(Country=\"UK\"),\n",
    "    read_csv(\"france_transcriptomics.csv\")%>%mutate(Country=\"France\"),\n",
    "    read_csv(\"italy_transcriptomics.csv\")%>%mutate(Country=\"Italy\"),\n",
    "    read_csv(\"japan_transcriptomics.csv\")%>%mutate(Country=\"Japan\"),\n",
    "    read_csv(\"netherlands_transcriptomics.csv\")%>%mutate(Country=\"Netherlands\"),\n",
    "    read_csv(\"canada_transcriptomics.csv\")%>%mutate(Country=\"Canada\")\n",
    ") %>% select(EntrezUID,Country) %>% \n",
    "mutate(Field=\"Transcriptomics\")\n",
    "\n",
    "metabolomics_scopus_data=read_csv('metabolomics_scopus_data.csv')\n",
    "\n",
    "country_metabolomics=rbind(\n",
    "    metabolomics_scopus_data[grep('Germany',metabolomics_scopus_data$Affiliations),]%>%mutate(Country=\"Germany\"),\n",
    "    metabolomics_scopus_data[grep('China',metabolomics_scopus_data$Affiliations),]%>%mutate(Country=\"China\"),\n",
    "    metabolomics_scopus_data[grep('United States',metabolomics_scopus_data$Affiliations),]%>%mutate(Country=\"US\"),\n",
    "    metabolomics_scopus_data[grep('Spain',metabolomics_scopus_data$Affiliations),]%>%mutate(Country=\"Spain\"),\n",
    "    metabolomics_scopus_data[grep('United Kingdom',metabolomics_scopus_data$Affiliations),]%>%mutate(Country=\"UK\"),\n",
    "    metabolomics_scopus_data[grep('France',metabolomics_scopus_data$Affiliations),]%>%mutate(Country=\"France\"),\n",
    "    metabolomics_scopus_data[grep('Italy',metabolomics_scopus_data$Affiliations),]%>%mutate(Country=\"Italy\"),\n",
    "    metabolomics_scopus_data[grep('Japan',metabolomics_scopus_data$Affiliations),]%>%mutate(Country=\"Japan\"),\n",
    "    metabolomics_scopus_data[grep('Netherlands',metabolomics_scopus_data$Affiliations),]%>%mutate(Country=\"Netherlands\"),\n",
    "    metabolomics_scopus_data[grep('Canada',metabolomics_scopus_data$Affiliations),]%>%mutate(Country=\"Canada\")\n",
    ") %>% select(PubMed.ID,Country) %>% rename(EntrezUID=PubMed.ID) %>%\n",
    "mutate(Field=\"Metabolomics\",EntrezUID=as.character(EntrezUID))\n",
    "\n",
    "country = country_proteomics %>% \n",
    "full_join(.,country_genomics) %>%\n",
    "full_join(.,country_transcriptomics) %>%\n",
    "full_join(.,country_metabolomics) %>% \n",
    "distinct() %>% \n",
    "mutate(Field=as.factor(Field),Country=as.factor(Country),pmid=as.integer(EntrezUID))"
   ]
  },
  {
   "cell_type": "markdown",
   "metadata": {},
   "source": [
    "By species/kingdom:"
   ]
  },
  {
   "cell_type": "code",
   "execution_count": 11,
   "metadata": {},
   "outputs": [
    {
     "name": "stderr",
     "output_type": "stream",
     "text": [
      "Parsed with column specification:\n",
      "cols(\n",
      "  Title = col_character(),\n",
      "  URL = col_character(),\n",
      "  Description = col_character(),\n",
      "  Details = col_character(),\n",
      "  ShortDetails = col_character(),\n",
      "  Resource = col_character(),\n",
      "  Type = col_character(),\n",
      "  Identifiers = col_character(),\n",
      "  Db = col_character(),\n",
      "  EntrezUID = col_character(),\n",
      "  Properties = col_character()\n",
      ")\n",
      "Warning message in rbind(names(probs), probs_f):\n",
      "\"number of columns of result is not a multiple of vector length (arg 1)\"Warning message:\n",
      "\"38699 parsing failures.\n",
      "row # A tibble: 5 x 5 col     row col   expected   actual     file                   expected   <int> <chr> <chr>      <chr>      <chr>                  actual 1     1 <NA>  11 columns 12 columns 'human_proteomics.csv' file 2     2 <NA>  11 columns 12 columns 'human_proteomics.csv' row 3     3 <NA>  11 columns 12 columns 'human_proteomics.csv' col 4     4 <NA>  11 columns 12 columns 'human_proteomics.csv' expected 5     5 <NA>  11 columns 12 columns 'human_proteomics.csv'\n",
      "... ................. ... .......................................................... ........ .......................................................... ...... .......................................................... .... .......................................................... ... .......................................................... ... .......................................................... ........ ..........................................................\n",
      "See problems(...) for more details.\n",
      "\"Parsed with column specification:\n",
      "cols(\n",
      "  Title = col_character(),\n",
      "  URL = col_character(),\n",
      "  Description = col_character(),\n",
      "  Details = col_character(),\n",
      "  ShortDetails = col_character(),\n",
      "  Resource = col_character(),\n",
      "  Type = col_character(),\n",
      "  Identifiers = col_character(),\n",
      "  Db = col_character(),\n",
      "  EntrezUID = col_character(),\n",
      "  Properties = col_character()\n",
      ")\n",
      "Warning message in rbind(names(probs), probs_f):\n",
      "\"number of columns of result is not a multiple of vector length (arg 1)\"Warning message:\n",
      "\"23731 parsing failures.\n",
      "row # A tibble: 5 x 5 col     row col   expected   actual     file                    expected   <int> <chr> <chr>      <chr>      <chr>                   actual 1     1 <NA>  11 columns 12 columns 'animal_proteomics.csv' file 2     2 <NA>  11 columns 12 columns 'animal_proteomics.csv' row 3     3 <NA>  11 columns 12 columns 'animal_proteomics.csv' col 4     4 <NA>  11 columns 12 columns 'animal_proteomics.csv' expected 5     5 <NA>  11 columns 12 columns 'animal_proteomics.csv'\n",
      "... ................. ... ........................................................... ........ ........................................................... ...... ........................................................... .... ........................................................... ... ........................................................... ... ........................................................... ........ ...........................................................\n",
      "See problems(...) for more details.\n",
      "\"Parsed with column specification:\n",
      "cols(\n",
      "  Title = col_character(),\n",
      "  URL = col_character(),\n",
      "  Description = col_character(),\n",
      "  Details = col_character(),\n",
      "  ShortDetails = col_character(),\n",
      "  Resource = col_character(),\n",
      "  Type = col_character(),\n",
      "  Identifiers = col_character(),\n",
      "  Db = col_character(),\n",
      "  EntrezUID = col_character(),\n",
      "  Properties = col_character()\n",
      ")\n",
      "Warning message in rbind(names(probs), probs_f):\n",
      "\"number of columns of result is not a multiple of vector length (arg 1)\"Warning message:\n",
      "\"6899 parsing failures.\n",
      "row # A tibble: 5 x 5 col     row col   expected   actual     file                   expected   <int> <chr> <chr>      <chr>      <chr>                  actual 1     1 <NA>  11 columns 12 columns 'plant_proteomics.csv' file 2     2 <NA>  11 columns 12 columns 'plant_proteomics.csv' row 3     3 <NA>  11 columns 12 columns 'plant_proteomics.csv' col 4     4 <NA>  11 columns 12 columns 'plant_proteomics.csv' expected 5     5 <NA>  11 columns 12 columns 'plant_proteomics.csv'\n",
      "... ................. ... .......................................................... ........ .......................................................... ...... .......................................................... .... .......................................................... ... .......................................................... ... .......................................................... ........ ..........................................................\n",
      "See problems(...) for more details.\n",
      "\"Parsed with column specification:\n",
      "cols(\n",
      "  Title = col_character(),\n",
      "  URL = col_character(),\n",
      "  Description = col_character(),\n",
      "  Details = col_character(),\n",
      "  ShortDetails = col_character(),\n",
      "  Resource = col_character(),\n",
      "  Type = col_character(),\n",
      "  Identifiers = col_character(),\n",
      "  Db = col_character(),\n",
      "  EntrezUID = col_character(),\n",
      "  Properties = col_character()\n",
      ")\n",
      "Warning message in rbind(names(probs), probs_f):\n",
      "\"number of columns of result is not a multiple of vector length (arg 1)\"Warning message:\n",
      "\"9904 parsing failures.\n",
      "row # A tibble: 5 x 5 col     row col   expected   actual     file                      expected   <int> <chr> <chr>      <chr>      <chr>                     actual 1     1 <NA>  11 columns 12 columns 'bacteria_proteomics.csv' file 2     2 <NA>  11 columns 12 columns 'bacteria_proteomics.csv' row 3     3 <NA>  11 columns 12 columns 'bacteria_proteomics.csv' col 4     4 <NA>  11 columns 12 columns 'bacteria_proteomics.csv' expected 5     5 <NA>  11 columns 12 columns 'bacteria_proteomics.csv'\n",
      "... ................. ... ............................................................. ........ ............................................................. ...... ............................................................. .... ............................................................. ... ............................................................. ... ............................................................. ........ .............................................................\n",
      "See problems(...) for more details.\n",
      "\"Parsed with column specification:\n",
      "cols(\n",
      "  Title = col_character(),\n",
      "  URL = col_character(),\n",
      "  Description = col_character(),\n",
      "  Details = col_character(),\n",
      "  ShortDetails = col_character(),\n",
      "  Resource = col_character(),\n",
      "  Type = col_character(),\n",
      "  Identifiers = col_character(),\n",
      "  Db = col_character(),\n",
      "  EntrezUID = col_character(),\n",
      "  Properties = col_character()\n",
      ")\n",
      "Warning message in rbind(names(probs), probs_f):\n",
      "\"number of columns of result is not a multiple of vector length (arg 1)\"Warning message:\n",
      "\"45256 parsing failures.\n",
      "row # A tibble: 5 x 5 col     row col   expected   actual     file                 expected   <int> <chr> <chr>      <chr>      <chr>                actual 1     1 <NA>  11 columns 12 columns 'human_genomics.csv' file 2     2 <NA>  11 columns 12 columns 'human_genomics.csv' row 3     3 <NA>  11 columns 12 columns 'human_genomics.csv' col 4     4 <NA>  11 columns 12 columns 'human_genomics.csv' expected 5     5 <NA>  11 columns 12 columns 'human_genomics.csv'\n",
      "... ................. ... ........................................................ ........ ........................................................ ...... ........................................................ .... ........................................................ ... ........................................................ ... ........................................................ ........ ........................................................\n",
      "See problems(...) for more details.\n",
      "\"Parsed with column specification:\n",
      "cols(\n",
      "  Title = col_character(),\n",
      "  URL = col_character(),\n",
      "  Description = col_character(),\n",
      "  Details = col_character(),\n",
      "  ShortDetails = col_character(),\n",
      "  Resource = col_character(),\n",
      "  Type = col_character(),\n",
      "  Identifiers = col_character(),\n",
      "  Db = col_character(),\n",
      "  EntrezUID = col_character(),\n",
      "  Properties = col_character()\n",
      ")\n",
      "Warning message in rbind(names(probs), probs_f):\n",
      "\"number of columns of result is not a multiple of vector length (arg 1)\"Warning message:\n",
      "\"60349 parsing failures.\n",
      "row # A tibble: 5 x 5 col     row col   expected   actual     file                  expected   <int> <chr> <chr>      <chr>      <chr>                 actual 1     1 <NA>  11 columns 12 columns 'animal_genomics.csv' file 2     2 <NA>  11 columns 12 columns 'animal_genomics.csv' row 3     3 <NA>  11 columns 12 columns 'animal_genomics.csv' col 4     4 <NA>  11 columns 12 columns 'animal_genomics.csv' expected 5     5 <NA>  11 columns 12 columns 'animal_genomics.csv'\n",
      "... ................. ... ......................................................... ........ ......................................................... ...... ......................................................... .... ......................................................... ... ......................................................... ... ......................................................... ........ .........................................................\n",
      "See problems(...) for more details.\n"
     ]
    },
    {
     "name": "stderr",
     "output_type": "stream",
     "text": [
      "\"Parsed with column specification:\n",
      "cols(\n",
      "  Title = col_character(),\n",
      "  URL = col_character(),\n",
      "  Description = col_character(),\n",
      "  Details = col_character(),\n",
      "  ShortDetails = col_character(),\n",
      "  Resource = col_character(),\n",
      "  Type = col_character(),\n",
      "  Identifiers = col_character(),\n",
      "  Db = col_character(),\n",
      "  EntrezUID = col_character(),\n",
      "  Properties = col_character()\n",
      ")\n",
      "Warning message in rbind(names(probs), probs_f):\n",
      "\"number of columns of result is not a multiple of vector length (arg 1)\"Warning message:\n",
      "\"22825 parsing failures.\n",
      "row # A tibble: 5 x 5 col     row col   expected   actual     file                 expected   <int> <chr> <chr>      <chr>      <chr>                actual 1     1 <NA>  11 columns 12 columns 'plant_genomics.csv' file 2     2 <NA>  11 columns 12 columns 'plant_genomics.csv' row 3     3 <NA>  11 columns 12 columns 'plant_genomics.csv' col 4     4 <NA>  11 columns 12 columns 'plant_genomics.csv' expected 5     5 <NA>  11 columns 12 columns 'plant_genomics.csv'\n",
      "... ................. ... ........................................................ ........ ........................................................ ...... ........................................................ .... ........................................................ ... ........................................................ ... ........................................................ ........ ........................................................\n",
      "See problems(...) for more details.\n",
      "\"Parsed with column specification:\n",
      "cols(\n",
      "  Title = col_character(),\n",
      "  URL = col_character(),\n",
      "  Description = col_character(),\n",
      "  Details = col_character(),\n",
      "  ShortDetails = col_character(),\n",
      "  Resource = col_character(),\n",
      "  Type = col_character(),\n",
      "  Identifiers = col_character(),\n",
      "  Db = col_character(),\n",
      "  EntrezUID = col_character(),\n",
      "  Properties = col_character()\n",
      ")\n",
      "Warning message in rbind(names(probs), probs_f):\n",
      "\"number of columns of result is not a multiple of vector length (arg 1)\"Warning message:\n",
      "\"27186 parsing failures.\n",
      "row # A tibble: 5 x 5 col     row col   expected   actual     file                    expected   <int> <chr> <chr>      <chr>      <chr>                   actual 1     1 <NA>  11 columns 12 columns 'bacteria_genomics.csv' file 2     2 <NA>  11 columns 12 columns 'bacteria_genomics.csv' row 3     3 <NA>  11 columns 12 columns 'bacteria_genomics.csv' col 4     4 <NA>  11 columns 12 columns 'bacteria_genomics.csv' expected 5     5 <NA>  11 columns 12 columns 'bacteria_genomics.csv'\n",
      "... ................. ... ........................................................... ........ ........................................................... ...... ........................................................... .... ........................................................... ... ........................................................... ... ........................................................... ........ ...........................................................\n",
      "See problems(...) for more details.\n",
      "\"Parsed with column specification:\n",
      "cols(\n",
      "  Title = col_character(),\n",
      "  URL = col_character(),\n",
      "  Description = col_character(),\n",
      "  Details = col_character(),\n",
      "  ShortDetails = col_character(),\n",
      "  Resource = col_character(),\n",
      "  Type = col_character(),\n",
      "  Identifiers = col_character(),\n",
      "  Db = col_character(),\n",
      "  EntrezUID = col_character(),\n",
      "  Properties = col_character()\n",
      ")\n",
      "Warning message in rbind(names(probs), probs_f):\n",
      "\"number of columns of result is not a multiple of vector length (arg 1)\"Warning message:\n",
      "\"20483 parsing failures.\n",
      "row # A tibble: 5 x 5 col     row col   expected   actual     file                        expected   <int> <chr> <chr>      <chr>      <chr>                       actual 1     1 <NA>  11 columns 12 columns 'human_transcriptomics.csv' file 2     2 <NA>  11 columns 12 columns 'human_transcriptomics.csv' row 3     3 <NA>  11 columns 12 columns 'human_transcriptomics.csv' col 4     4 <NA>  11 columns 12 columns 'human_transcriptomics.csv' expected 5     5 <NA>  11 columns 12 columns 'human_transcriptomics.csv'\n",
      "... ................. ... ............................................................... ........ ............................................................... ...... ............................................................... .... ............................................................... ... ............................................................... ... ............................................................... ........ ...............................................................\n",
      "See problems(...) for more details.\n",
      "\"Parsed with column specification:\n",
      "cols(\n",
      "  Title = col_character(),\n",
      "  URL = col_character(),\n",
      "  Description = col_character(),\n",
      "  Details = col_character(),\n",
      "  ShortDetails = col_character(),\n",
      "  Resource = col_character(),\n",
      "  Type = col_character(),\n",
      "  Identifiers = col_character(),\n",
      "  Db = col_character(),\n",
      "  EntrezUID = col_character(),\n",
      "  Properties = col_character()\n",
      ")\n",
      "Warning message in rbind(names(probs), probs_f):\n",
      "\"number of columns of result is not a multiple of vector length (arg 1)\"Warning message:\n",
      "\"18516 parsing failures.\n",
      "row # A tibble: 5 x 5 col     row col   expected   actual     file                         expected   <int> <chr> <chr>      <chr>      <chr>                        actual 1     1 <NA>  11 columns 12 columns 'animal_transcriptomics.csv' file 2     2 <NA>  11 columns 12 columns 'animal_transcriptomics.csv' row 3     3 <NA>  11 columns 12 columns 'animal_transcriptomics.csv' col 4     4 <NA>  11 columns 12 columns 'animal_transcriptomics.csv' expected 5     5 <NA>  11 columns 12 columns 'animal_transcriptomics.csv'\n",
      "... ................. ... ................................................................ ........ ................................................................ ...... ................................................................ .... ................................................................ ... ................................................................ ... ................................................................ ........ ................................................................\n",
      "See problems(...) for more details.\n",
      "\"Parsed with column specification:\n",
      "cols(\n",
      "  Title = col_character(),\n",
      "  URL = col_character(),\n",
      "  Description = col_character(),\n",
      "  Details = col_character(),\n",
      "  ShortDetails = col_character(),\n",
      "  Resource = col_character(),\n",
      "  Type = col_character(),\n",
      "  Identifiers = col_character(),\n",
      "  Db = col_character(),\n",
      "  EntrezUID = col_character(),\n",
      "  Properties = col_character()\n",
      ")\n",
      "Warning message in rbind(names(probs), probs_f):\n",
      "\"number of columns of result is not a multiple of vector length (arg 1)\"Warning message:\n",
      "\"10087 parsing failures.\n",
      "row # A tibble: 5 x 5 col     row col   expected   actual     file                        expected   <int> <chr> <chr>      <chr>      <chr>                       actual 1     1 <NA>  11 columns 12 columns 'plant_transcriptomics.csv' file 2     2 <NA>  11 columns 12 columns 'plant_transcriptomics.csv' row 3     3 <NA>  11 columns 12 columns 'plant_transcriptomics.csv' col 4     4 <NA>  11 columns 12 columns 'plant_transcriptomics.csv' expected 5     5 <NA>  11 columns 12 columns 'plant_transcriptomics.csv'\n",
      "... ................. ... ............................................................... ........ ............................................................... ...... ............................................................... .... ............................................................... ... ............................................................... ... ............................................................... ........ ...............................................................\n",
      "See problems(...) for more details.\n",
      "\"Parsed with column specification:\n",
      "cols(\n",
      "  Title = col_character(),\n",
      "  URL = col_character(),\n",
      "  Description = col_character(),\n",
      "  Details = col_character(),\n",
      "  ShortDetails = col_character(),\n",
      "  Resource = col_character(),\n",
      "  Type = col_character(),\n",
      "  Identifiers = col_character(),\n",
      "  Db = col_character(),\n",
      "  EntrezUID = col_character(),\n",
      "  Properties = col_character()\n",
      ")\n",
      "Warning message in rbind(names(probs), probs_f):\n"
     ]
    },
    {
     "name": "stderr",
     "output_type": "stream",
     "text": [
      "\"number of columns of result is not a multiple of vector length (arg 1)\"Warning message:\n",
      "\"7114 parsing failures.\n",
      "row # A tibble: 5 x 5 col     row col   expected   actual     file                           expected   <int> <chr> <chr>      <chr>      <chr>                          actual 1     1 <NA>  11 columns 12 columns 'bacteria_transcriptomics.csv' file 2     2 <NA>  11 columns 12 columns 'bacteria_transcriptomics.csv' row 3     3 <NA>  11 columns 12 columns 'bacteria_transcriptomics.csv' col 4     4 <NA>  11 columns 12 columns 'bacteria_transcriptomics.csv' expected 5     5 <NA>  11 columns 12 columns 'bacteria_transcriptomics.csv'\n",
      "... ................. ... .................................................................. ........ .................................................................. ...... .................................................................. .... .................................................................. ... .................................................................. ... .................................................................. ........ ..................................................................\n",
      "See problems(...) for more details.\n",
      "\"Warning message:\n",
      "\"Missing column names filled in: 'X1' [1]\"Warning message:\n",
      "\"Duplicated column names deduplicated: 'X1' => 'X1_1' [3]\"Parsed with column specification:\n",
      "cols(\n",
      "  .default = col_character(),\n",
      "  X1 = col_integer(),\n",
      "  X1_1 = col_integer(),\n",
      "  Citation = col_integer(),\n",
      "  Year = col_integer(),\n",
      "  Page.count = col_integer(),\n",
      "  PubMed.ID = col_integer()\n",
      ")\n",
      "See spec(...) for full column specifications.\n",
      "Joining, by = c(\"EntrezUID\", \"Species\", \"Field\")\n",
      "Joining, by = c(\"EntrezUID\", \"Species\", \"Field\")\n",
      "Joining, by = c(\"EntrezUID\", \"Species\", \"Field\")\n",
      "Warning message in evalq(as.integer(EntrezUID), <environment>):\n",
      "\"NAs introduced by coercion\""
     ]
    }
   ],
   "source": [
    "species_proteomics=rbind(\n",
    "    read_csv(\"human_proteomics.csv\")%>%mutate(Species=\"Human\"),\n",
    "    read_csv(\"animal_proteomics.csv\")%>%mutate(Species=\"Animal\"),\n",
    "    read_csv(\"plant_proteomics.csv\")%>%mutate(Species=\"Plant\"),\n",
    "    read_csv(\"bacteria_proteomics.csv\")%>%mutate(Species=\"Bacteria\")\n",
    ") %>% select(EntrezUID,Species) %>% mutate(Field=\"Proteomics\")\n",
    "\n",
    "species_genomics=rbind(\n",
    "    read_csv(\"human_genomics.csv\")%>%mutate(Species=\"Human\"),\n",
    "    read_csv(\"animal_genomics.csv\")%>%mutate(Species=\"Animal\"),\n",
    "    read_csv(\"plant_genomics.csv\")%>%mutate(Species=\"Plant\"),\n",
    "    read_csv(\"bacteria_genomics.csv\")%>%mutate(Species=\"Bacteria\")\n",
    ") %>% select(EntrezUID,Species) %>% mutate(Field=\"Genomics\")\n",
    "\n",
    "species_transcriptomics=rbind(\n",
    "    read_csv(\"human_transcriptomics.csv\")%>%mutate(Species=\"Human\"),\n",
    "    read_csv(\"animal_transcriptomics.csv\")%>%mutate(Species=\"Animal\"),\n",
    "    read_csv(\"plant_transcriptomics.csv\")%>%mutate(Species=\"Plant\"),\n",
    "    read_csv(\"bacteria_transcriptomics.csv\")%>%mutate(Species=\"Bacteria\")\n",
    ") %>% select(EntrezUID,Species) %>% mutate(Field=\"Transcriptomics\")\n",
    "\n",
    "metabolomics_scopus_data=read_csv('metabolomics_scopus_data.csv')\n",
    "\n",
    "species_metabolomics=rbind(\n",
    "    metabolomics_scopus_data[grep('human',metabolomics_scopus_data$Abstract),]%>%mutate(Species=\"Human\"),\n",
    "    metabolomics_scopus_data[grep('animal',metabolomics_scopus_data$Abstract),]%>%mutate(Species=\"Animal\"),\n",
    "    metabolomics_scopus_data[grep('plant',metabolomics_scopus_data$Abstract),]%>%mutate(Species=\"Plant\"),\n",
    "    metabolomics_scopus_data[grep('bacteria',metabolomics_scopus_data$Abstract),]%>%mutate(Species=\"Bacteria\")\n",
    ") %>% select(PubMed.ID,Species) %>% rename(EntrezUID=PubMed.ID) %>%\n",
    "mutate(Field=\"Metabolomics\",EntrezUID=as.character(EntrezUID))\n",
    "\n",
    "species = species_proteomics %>% \n",
    "full_join(.,species_genomics) %>%\n",
    "full_join(.,species_transcriptomics) %>%\n",
    "full_join(.,species_metabolomics)  %>% \n",
    "distinct() %>% \n",
    "mutate(Field=as.factor(Field),Species=as.factor(Species),pmid=as.integer(EntrezUID))\n"
   ]
  },
  {
   "cell_type": "markdown",
   "metadata": {},
   "source": [
    "By citation:"
   ]
  },
  {
   "cell_type": "code",
   "execution_count": 12,
   "metadata": {},
   "outputs": [
    {
     "name": "stderr",
     "output_type": "stream",
     "text": [
      "Parsed with column specification:\n",
      "cols(\n",
      "  `Publication Year` = col_integer(),\n",
      "  `Document Title` = col_character(),\n",
      "  Authors = col_character(),\n",
      "  ISSN = col_character(),\n",
      "  `Journal Title` = col_character(),\n",
      "  Volume = col_character(),\n",
      "  Issue = col_character(),\n",
      "  `38` = col_integer(),\n",
      "  `2` = col_integer(),\n",
      "  `15` = col_integer(),\n",
      "  `1079` = col_integer(),\n",
      "  `14561` = col_integer(),\n",
      "  `38530` = col_integer(),\n",
      "  `64211` = col_integer(),\n",
      "  `118398` = col_integer(),\n",
      "  `214506` = col_integer(),\n",
      "  `332942` = col_integer()\n",
      ")\n",
      "Parsed with column specification:\n",
      "cols(\n",
      "  `Publication Year` = col_integer(),\n",
      "  `Document Title` = col_character(),\n",
      "  Authors = col_character(),\n",
      "  ISSN = col_character(),\n",
      "  `Journal Title` = col_character(),\n",
      "  Volume = col_character(),\n",
      "  Issue = col_character(),\n",
      "  `27483` = col_integer(),\n",
      "  `44770` = col_integer(),\n",
      "  `68158` = col_integer(),\n",
      "  `90447` = col_integer(),\n",
      "  `100508` = col_integer(),\n",
      "  `95765` = col_integer(),\n",
      "  `88016` = col_integer(),\n",
      "  `487664` = col_integer(),\n",
      "  `194794` = col_integer(),\n",
      "  `709941` = col_integer()\n",
      ")\n",
      "Parsed with column specification:\n",
      "cols(\n",
      "  Authors = col_character(),\n",
      "  Title = col_character(),\n",
      "  Year = col_integer(),\n",
      "  `Source title` = col_character(),\n",
      "  Volume = col_character(),\n",
      "  Issue = col_character(),\n",
      "  `Art. No.` = col_character(),\n",
      "  `Page start` = col_character(),\n",
      "  `Page end` = col_character(),\n",
      "  `Page count` = col_character(),\n",
      "  `Cited by` = col_integer(),\n",
      "  DOI = col_character(),\n",
      "  Link = col_character(),\n",
      "  `Document Type` = col_character(),\n",
      "  Source = col_character(),\n",
      "  EID = col_character()\n",
      ")\n",
      "Warning message in rbind(names(probs), probs_f):\n",
      "\"number of columns of result is not a multiple of vector length (arg 1)\"Warning message:\n",
      "\"5 parsing failures.\n",
      "row # A tibble: 5 x 5 col     row col          expected           actual     file                      expected   <int> <chr>        <chr>              <chr>      <chr>                     actual 1  1808 Source title delimiter or quote S          'proteomics_scopus_1.csv' file 2  1808 <NA>         16 columns         17 columns 'proteomics_scopus_1.csv' row 3  1811 Source title delimiter or quote S          'proteomics_scopus_1.csv' col 4  1811 <NA>         16 columns         17 columns 'proteomics_scopus_1.csv' expected 5  2846 <NA>         16 columns         17 columns 'proteomics_scopus_1.csv'\n",
      "\"Parsed with column specification:\n",
      "cols(\n",
      "  Authors = col_character(),\n",
      "  Title = col_character(),\n",
      "  Year = col_integer(),\n",
      "  `Source title` = col_character(),\n",
      "  Volume = col_character(),\n",
      "  Issue = col_character(),\n",
      "  `Art. No.` = col_character(),\n",
      "  `Page start` = col_character(),\n",
      "  `Page end` = col_character(),\n",
      "  `Page count` = col_character(),\n",
      "  `Cited by` = col_integer(),\n",
      "  DOI = col_character(),\n",
      "  Link = col_character(),\n",
      "  `Document Type` = col_character(),\n",
      "  Source = col_character(),\n",
      "  EID = col_character()\n",
      ")\n",
      "Warning message in rbind(names(probs), probs_f):\n",
      "\"number of columns of result is not a multiple of vector length (arg 1)\"Warning message:\n",
      "\"9 parsing failures.\n",
      "row # A tibble: 5 x 5 col     row col          expected           actual    file                      expected   <int> <chr>        <chr>              <chr>     <chr>                     actual 1  4065 Source title delimiter or quote E         'proteomics_scopus_2.csv' file 2  4065 Source title delimiter or quote h         'proteomics_scopus_2.csv' row 3  4065 <NA>         16 columns         7 columns 'proteomics_scopus_2.csv' col 4  8349 Source title delimiter or quote P         'proteomics_scopus_2.csv' expected 5  8349 Source title delimiter or quote h         'proteomics_scopus_2.csv'\n",
      "... ................. ... ........................................................................... ........ ........................................................................... ...... ........................................................................... .... ........................................................................... ... ........................................................................... ... ........................................................................... ........ ...........................................................................\n",
      "See problems(...) for more details.\n",
      "\"Parsed with column specification:\n",
      "cols(\n",
      "  `Publication Year` = col_integer(),\n",
      "  `Document Title` = col_character(),\n",
      "  Authors = col_character(),\n",
      "  ISSN = col_character(),\n",
      "  `Journal Title` = col_character(),\n",
      "  Volume = col_character(),\n",
      "  Issue = col_character(),\n",
      "  `17` = col_integer(),\n",
      "  `30` = col_integer(),\n",
      "  `2` = col_integer(),\n",
      "  `10` = col_integer(),\n",
      "  `39` = col_integer(),\n",
      "  `3585` = col_integer(),\n",
      "  `24296` = col_integer(),\n",
      "  `57856` = col_integer(),\n",
      "  `94629` = col_integer(),\n",
      "  `180447` = col_integer(),\n",
      "  `324693` = col_integer(),\n",
      "  `505157` = col_integer()\n",
      ")\n",
      "Parsed with column specification:\n",
      "cols(\n",
      "  `Publication Year` = col_integer(),\n",
      "  `Document Title` = col_character(),\n",
      "  Authors = col_character(),\n",
      "  ISSN = col_character(),\n",
      "  `Journal Title` = col_character(),\n",
      "  Volume = col_character(),\n",
      "  Issue = col_character(),\n",
      "  `78` = col_integer(),\n",
      "  `4999` = col_integer(),\n",
      "  `23787` = col_integer(),\n",
      "  `51563` = col_integer(),\n",
      "  `77816` = col_integer(),\n",
      "  `106674` = col_integer(),\n",
      "  `131524` = col_integer(),\n",
      "  `134784` = col_integer(),\n",
      "  `130552` = col_integer(),\n",
      "  `661699` = col_integer(),\n",
      "  `304299` = col_integer(),\n",
      "  `966076` = col_integer()\n",
      ")\n",
      "Parsed with column specification:\n",
      "cols(\n",
      "  Authors = col_character(),\n",
      "  Title = col_character(),\n",
      "  Year = col_integer(),\n",
      "  `Source title` = col_character(),\n",
      "  Volume = col_character(),\n",
      "  Issue = col_character(),\n",
      "  `Art. No.` = col_character(),\n",
      "  `Page start` = col_character(),\n",
      "  `Page end` = col_character(),\n",
      "  `Page count` = col_character(),\n",
      "  `Cited by` = col_integer(),\n",
      "  DOI = col_character(),\n",
      "  Link = col_character(),\n",
      "  `Document Type` = col_character(),\n",
      "  Source = col_character(),\n",
      "  EID = col_character()\n",
      ")\n",
      "Warning message in rbind(names(probs), probs_f):\n",
      "\"number of columns of result is not a multiple of vector length (arg 1)\"Warning message:\n",
      "\"15 parsing failures.\n",
      "row # A tibble: 5 x 5 col     row col          expected           actual     file                    expected   <int> <chr>        <chr>              <chr>      <chr>                   actual 1   431 <NA>         16 columns         18 columns 'genomics_scopus_1.csv' file 2   804 <NA>         16 columns         18 columns 'genomics_scopus_1.csv' row 3  7261 Source title delimiter or quote P          'genomics_scopus_1.csv' col 4  7261 Source title delimiter or quote h          'genomics_scopus_1.csv' expected 5  7261 <NA>         16 columns         7 columns  'genomics_scopus_1.csv'\n",
      "... ................. ... .......................................................................... ........ .......................................................................... ...... .......................................................................... .... .......................................................................... ... .......................................................................... ... .......................................................................... ........ ..........................................................................\n",
      "See problems(...) for more details.\n",
      "\"Parsed with column specification:\n",
      "cols(\n",
      "  Authors = col_character(),\n",
      "  Title = col_character(),\n",
      "  Year = col_integer(),\n",
      "  `Source title` = col_character(),\n",
      "  Volume = col_character(),\n",
      "  Issue = col_character(),\n",
      "  `Art. No.` = col_character(),\n",
      "  `Page start` = col_character(),\n",
      "  `Page end` = col_character(),\n",
      "  `Page count` = col_character(),\n",
      "  `Cited by` = col_integer(),\n",
      "  DOI = col_character(),\n",
      "  Link = col_character(),\n",
      "  `Document Type` = col_character(),\n",
      "  Source = col_character(),\n",
      "  EID = col_character()\n",
      ")\n",
      "Warning message in rbind(names(probs), probs_f):\n",
      "\"number of columns of result is not a multiple of vector length (arg 1)\"Warning message:\n",
      "\"5 parsing failures.\n",
      "row # A tibble: 5 x 5 col     row col          expected           actual     file                    expected   <int> <chr>        <chr>              <chr>      <chr>                   actual 1   306 Source title delimiter or quote D          'genomics_scopus_2.csv' file 2   306 Source title delimiter or quote \" \"        'genomics_scopus_2.csv' row 3  2826 <NA>         16 columns         17 columns 'genomics_scopus_2.csv' col 4  8250 <NA>         16 columns         17 columns 'genomics_scopus_2.csv' expected 5 19302 <NA>         16 columns         17 columns 'genomics_scopus_2.csv'\n"
     ]
    },
    {
     "name": "stderr",
     "output_type": "stream",
     "text": [
      "\"Parsed with column specification:\n",
      "cols(\n",
      "  `Publication Year` = col_integer(),\n",
      "  `Document Title` = col_character(),\n",
      "  Authors = col_character(),\n",
      "  ISSN = col_character(),\n",
      "  `Journal Title` = col_character(),\n",
      "  Volume = col_character(),\n",
      "  Issue = col_character(),\n",
      "  `21` = col_integer(),\n",
      "  `20` = col_integer(),\n",
      "  `0` = col_integer(),\n",
      "  `2` = col_integer(),\n",
      "  `19` = col_integer(),\n",
      "  `1026` = col_integer(),\n",
      "  `14195` = col_integer(),\n",
      "  `44240` = col_integer(),\n",
      "  `84525` = col_integer(),\n",
      "  `144027` = col_integer(),\n",
      "  `323361` = col_integer(),\n",
      "  `467409` = col_integer()\n",
      ")\n",
      "Parsed with column specification:\n",
      "cols(\n",
      "  `Publication Year` = col_integer(),\n",
      "  `Document Title` = col_character(),\n",
      "  Authors = col_character(),\n",
      "  ISSN = col_character(),\n",
      "  `Journal Title` = col_character(),\n",
      "  Volume = col_character(),\n",
      "  Issue = col_character(),\n",
      "  `42` = col_integer(),\n",
      "  `1332` = col_integer(),\n",
      "  `7373` = col_integer(),\n",
      "  `16556` = col_integer(),\n",
      "  `29007` = col_integer(),\n",
      "  `42892` = col_integer(),\n",
      "  `66527` = col_integer(),\n",
      "  `96895` = col_integer(),\n",
      "  `126457` = col_integer(),\n",
      "  `387039` = col_integer(),\n",
      "  `330820` = col_integer(),\n",
      "  `717901` = col_integer()\n",
      ")\n",
      "Parsed with column specification:\n",
      "cols(\n",
      "  Authors = col_character(),\n",
      "  Title = col_character(),\n",
      "  Year = col_integer(),\n",
      "  `Source title` = col_character(),\n",
      "  Volume = col_character(),\n",
      "  Issue = col_character(),\n",
      "  `Art. No.` = col_character(),\n",
      "  `Page start` = col_character(),\n",
      "  `Page end` = col_character(),\n",
      "  `Page count` = col_character(),\n",
      "  `Cited by` = col_integer(),\n",
      "  DOI = col_character(),\n",
      "  Link = col_character(),\n",
      "  `Document Type` = col_character(),\n",
      "  Source = col_character(),\n",
      "  EID = col_character()\n",
      ")\n",
      "Warning message in rbind(names(probs), probs_f):\n",
      "\"number of columns of result is not a multiple of vector length (arg 1)\"Warning message:\n",
      "\"4 parsing failures.\n",
      "row # A tibble: 4 x 5 col     row col          expected           actual file                           expected   <int> <chr>        <chr>              <chr>  <chr>                          actual 1  1038 Source title delimiter or quote D      'transcriptomics_scopus_1.csv' file 2  1038 Source title delimiter or quote \" \"    'transcriptomics_scopus_1.csv' row 3  5690 Source title delimiter or quote D      'transcriptomics_scopus_1.csv' col 4  5690 Source title delimiter or quote \" \"    'transcriptomics_scopus_1.csv'\n",
      "\"Parsed with column specification:\n",
      "cols(\n",
      "  Authors = col_character(),\n",
      "  Title = col_character(),\n",
      "  Year = col_integer(),\n",
      "  `Source title` = col_character(),\n",
      "  Volume = col_character(),\n",
      "  Issue = col_character(),\n",
      "  `Art. No.` = col_character(),\n",
      "  `Page start` = col_character(),\n",
      "  `Page end` = col_character(),\n",
      "  `Page count` = col_character(),\n",
      "  `Cited by` = col_integer(),\n",
      "  DOI = col_character(),\n",
      "  Link = col_character(),\n",
      "  `Document Type` = col_character(),\n",
      "  Source = col_character(),\n",
      "  EID = col_character()\n",
      ")\n",
      "Warning message:\n",
      "\"Missing column names filled in: 'X1' [1]\"Warning message:\n",
      "\"Duplicated column names deduplicated: 'X1' => 'X1_1' [3]\"Parsed with column specification:\n",
      "cols(\n",
      "  .default = col_character(),\n",
      "  X1 = col_integer(),\n",
      "  X1_1 = col_integer(),\n",
      "  Citation = col_integer(),\n",
      "  Year = col_integer(),\n",
      "  Page.count = col_integer(),\n",
      "  PubMed.ID = col_integer()\n",
      ")\n",
      "See spec(...) for full column specifications.\n",
      "Parsed with column specification:\n",
      "cols(\n",
      "  `Publication Year` = col_integer(),\n",
      "  `Document Title` = col_character(),\n",
      "  Authors = col_character(),\n",
      "  ISSN = col_character(),\n",
      "  `Journal Title` = col_character(),\n",
      "  Volume = col_character(),\n",
      "  Issue = col_character(),\n",
      "  `13` = col_integer(),\n",
      "  `417` = col_integer(),\n",
      "  `2389` = col_integer(),\n",
      "  `5837` = col_integer(),\n",
      "  `10328` = col_integer(),\n",
      "  `16461` = col_integer(),\n",
      "  `24152` = col_integer(),\n",
      "  `34936` = col_integer(),\n",
      "  `40776` = col_integer(),\n",
      "  `135296` = col_integer(),\n",
      "  `125204` = col_integer(),\n",
      "  `260513` = col_integer()\n",
      ")\n",
      "Parsed with column specification:\n",
      "cols(\n",
      "  Authors = col_character(),\n",
      "  Title = col_character(),\n",
      "  Year = col_integer(),\n",
      "  `Source title` = col_character(),\n",
      "  Volume = col_character(),\n",
      "  Issue = col_character(),\n",
      "  `Art. No.` = col_character(),\n",
      "  `Page start` = col_character(),\n",
      "  `Page end` = col_character(),\n",
      "  `Page count` = col_character(),\n",
      "  `Cited by` = col_integer(),\n",
      "  DOI = col_character(),\n",
      "  Link = col_character(),\n",
      "  `Document Type` = col_character(),\n",
      "  Source = col_character(),\n",
      "  EID = col_character()\n",
      ")\n",
      "Warning message:\n",
      "\"2 parsing failures.\n",
      "row # A tibble: 2 x 5 col     row col          expected           actual     file                      expected   <int> <chr>        <chr>              <chr>      <chr>                     actual 1   713 Source title delimiter or quote S          'metabolomics_scopus.csv' file 2   713 <NA>         16 columns         17 columns 'metabolomics_scopus.csv'\n",
      "\"Joining, by = c(\"DOI\", \"Citation\", \"Field\")\n",
      "Joining, by = c(\"DOI\", \"Citation\", \"Field\")\n",
      "Joining, by = c(\"DOI\", \"Citation\", \"Field\")\n"
     ]
    }
   ],
   "source": [
    "proteomics_citation_data = merge(\n",
    "    rbind(\n",
    "        read_csv(\"proteomics_citation_1.csv\",skip=6) %>% select(c(1:7,ncol(.))) %>% rename(\"Citation\" = !!names(.[8])),\n",
    "        read_csv(\"proteomics_citation_2.csv\",skip=6) %>% select(c(1:7,ncol(.))) %>% rename(\"Citation\" = !!names(.[8]))\n",
    "        ) %>% distinct() %>% rename(\"Title\" = \"Document Title\"),\n",
    "    rbind(\n",
    "        read_csv(\"proteomics_scopus_1.csv\"),\n",
    "        read_csv(\"proteomics_scopus_2.csv\")\n",
    "        ) %>% distinct(),\n",
    "    by='Title')  %>% \n",
    "select(DOI,Citation) %>% mutate(Citation=as.numeric(Citation),Field=\"Proteomics\")\n",
    "\n",
    "genomics_citation_data = merge(\n",
    "    rbind(\n",
    "        read_csv(\"genomics_citation_1.csv\",skip=6) %>% select(c(1:7,ncol(.))) %>% rename(\"Citation\" = !!names(.[8])),\n",
    "        read_csv(\"genomics_citation_2.csv\",skip=6) %>% select(c(1:7,ncol(.))) %>% rename(\"Citation\" = !!names(.[8]))\n",
    "        ) %>% distinct() %>% rename(\"Title\" = \"Document Title\"),\n",
    "    rbind(\n",
    "        read_csv(\"genomics_scopus_1.csv\"),\n",
    "        read_csv(\"genomics_scopus_2.csv\")\n",
    "        ) %>% distinct(),\n",
    "    by='Title')  %>% \n",
    "select(DOI,Citation) %>% mutate(Citation=as.numeric(Citation),Field=\"Genomics\")\n",
    "\n",
    "transcriptomics_citation_data = merge(\n",
    "    rbind(\n",
    "        read_csv(\"transcriptomics_citation_1.csv\",skip=6) %>% select(c(1:7,ncol(.))) %>% rename(\"Citation\" = !!names(.[8])),\n",
    "        read_csv(\"transcriptomics_citation_2.csv\",skip=6) %>% select(c(1:7,ncol(.))) %>% rename(\"Citation\" = !!names(.[8]))\n",
    "        ) %>% distinct() %>% rename(\"Title\" = \"Document Title\"),\n",
    "    rbind(\n",
    "        read_csv(\"transcriptomics_scopus_1.csv\"),\n",
    "        read_csv(\"transcriptomics_scopus_2.csv\")\n",
    "        ) %>% distinct(),\n",
    "    by='Title')  %>% \n",
    "select(DOI,Citation) %>% mutate(Citation=as.numeric(Citation),Field=\"Transcriptomics\")\n",
    "\n",
    "metabolomics_scopus_data=read_csv('metabolomics_scopus_data.csv')\n",
    "\n",
    "metabolomics_citation_data = merge(\n",
    "        read_csv(\"metabolomics_citation.csv\",skip=6) %>% select(c(1:7,ncol(.))) %>% rename(\"Citation\" = !!names(.[8]))\n",
    "        %>% rename(\"Title\" = \"Document Title\"),\n",
    "        read_csv(\"metabolomics_scopus.csv\"),\n",
    "    by='Title')  %>% \n",
    "select(DOI,Citation) %>% mutate(Citation=as.numeric(Citation),Field=\"Metabolomics\")\n",
    "\n",
    "citation=proteomics_citation_data %>% \n",
    "full_join(.,genomics_citation_data) %>%\n",
    "full_join(.,transcriptomics_citation_data) %>%\n",
    "full_join(.,metabolomics_citation_data)  %>% \n",
    "distinct() %>% \n",
    "mutate(Field=as.factor(Field),doi=as.character(DOI))"
   ]
  },
  {
   "cell_type": "markdown",
   "metadata": {},
   "source": [
    "## Integration of sources of information"
   ]
  },
  {
   "cell_type": "markdown",
   "metadata": {},
   "source": [
    "First, we can evaluate the different datasets to integrate with the p-value dataset."
   ]
  },
  {
   "cell_type": "code",
   "execution_count": 13,
   "metadata": {},
   "outputs": [
    {
     "data": {
      "text/plain": [
       "  EntrezUID            Country                  Field            pmid         \n",
       " Length:157299      China  :37730   Genomics       :82422   Min.   : 1282491  \n",
       " Class :character   Germany:24410   Metabolomics   :14482   1st Qu.:21043482  \n",
       " Mode  :character   US     :14829   Proteomics     :34202   Median :24670775  \n",
       "                    Canada :13785   Transcriptomics:26193   Mean   :23375615  \n",
       "                    France :13764                           3rd Qu.:26631584  \n",
       "                    Japan  :13637                           Max.   :28878260  \n",
       "                    (Other):39144                           NA's   :40        "
      ]
     },
     "metadata": {},
     "output_type": "display_data"
    }
   ],
   "source": [
    "summary(country)"
   ]
  },
  {
   "cell_type": "code",
   "execution_count": 14,
   "metadata": {},
   "outputs": [
    {
     "data": {
      "text/plain": [
       "  EntrezUID             Species                   Field       \n",
       " Length:297088      Animal  :103494   Genomics       :155620  \n",
       " Class :character   Bacteria: 45017   Metabolomics   :  6027  \n",
       " Mode  :character   Human   :107044   Proteomics     : 79237  \n",
       "                    Plant   : 41533   Transcriptomics: 56204  \n",
       "                                                              \n",
       "                                                              \n",
       "                                                              \n",
       "      pmid         \n",
       " Min.   : 1282491  \n",
       " 1st Qu.:18674278  \n",
       " Median :23017455  \n",
       " Mean   :21840316  \n",
       " 3rd Qu.:25809453  \n",
       " Max.   :28840100  \n",
       " NA's   :16        "
      ]
     },
     "metadata": {},
     "output_type": "display_data"
    }
   ],
   "source": [
    "summary(species)"
   ]
  },
  {
   "cell_type": "code",
   "execution_count": 15,
   "metadata": {},
   "outputs": [
    {
     "data": {
      "text/plain": [
       "     DOI               Citation                    Field      \n",
       " Length:104689      Min.   :    0.00   Genomics       :33392  \n",
       " Class :character   1st Qu.:    6.00   Metabolomics   : 8574  \n",
       " Mode  :character   Median :   15.00   Proteomics     :36593  \n",
       "                    Mean   :   33.19   Transcriptomics:26130  \n",
       "                    3rd Qu.:   32.00                          \n",
       "                    Max.   :21776.00                          \n",
       "     doi           \n",
       " Length:104689     \n",
       " Class :character  \n",
       " Mode  :character  \n",
       "                   \n",
       "                   \n",
       "                   "
      ]
     },
     "metadata": {},
     "output_type": "display_data"
    }
   ],
   "source": [
    "summary(citation)"
   ]
  },
  {
   "cell_type": "code",
   "execution_count": 16,
   "metadata": {},
   "outputs": [
    {
     "data": {
      "text/plain": [
       "     pvalue             year          doi                 pmid         \n",
       " Min.   : 0.0000   Min.   :1967   Length:3574058     Min.   : 1284032  \n",
       " 1st Qu.: 0.0014   1st Qu.:2011   Class :character   1st Qu.:21193574  \n",
       " Median : 0.0230   Median :2012   Mode  :character   Median :23139356  \n",
       " Mean   : 0.0871   Mean   :2012                      Mean   :22268413  \n",
       " 3rd Qu.: 0.0500   3rd Qu.:2013                      3rd Qu.:24379671  \n",
       " Max.   :10.0000   Max.   :2015                      Max.   :28140909  \n",
       "                                                     NA's   :21003     \n",
       "    dataset     \n",
       " Min.   :1.000  \n",
       " 1st Qu.:1.500  \n",
       " Median :1.500  \n",
       " Mean   :1.625  \n",
       " 3rd Qu.:2.000  \n",
       " Max.   :2.000  \n",
       "                "
      ]
     },
     "metadata": {},
     "output_type": "display_data"
    }
   ],
   "source": [
    "summary(allp)"
   ]
  },
  {
   "cell_type": "markdown",
   "metadata": {},
   "source": [
    "The scientific article to study has to be present in all four datasets in order to be integrated its information in the final training dataset. It seems the citation dataset is the bottleneck as is the one with a lower sample size."
   ]
  },
  {
   "cell_type": "markdown",
   "metadata": {},
   "source": [
    "Before merging the citation, species and country datasets to the p-value dataset, we need to translate the DOI of the citation dataset into a Pubmed ID. To do this, we will take use of the information present in the allp dataset to build a translator of DOI into Pubmed ID. Then, we will perform the translation of the DOI information in the citaiton dataset."
   ]
  },
  {
   "cell_type": "code",
   "execution_count": 17,
   "metadata": {},
   "outputs": [],
   "source": [
    "pmed_doi_translator=unique(allp%>%select(doi,pmid))%>%na.omit()\n",
    "\n",
    "citation=citation %>%\n",
    "left_join(.,pmed_doi_translator,by=c(\"DOI\"=\"doi\")) %>% \n",
    "select(-c(doi,DOI))%>%na.omit()"
   ]
  },
  {
   "cell_type": "code",
   "execution_count": 18,
   "metadata": {},
   "outputs": [
    {
     "data": {
      "text/plain": [
       "    Citation                   Field           pmid         \n",
       " Min.   :   0.00   Genomics       :3993   Min.   :16920744  \n",
       " 1st Qu.:   8.00   Metabolomics   : 954   1st Qu.:21489291  \n",
       " Median :  16.00   Proteomics     :3273   Median :23226273  \n",
       " Mean   :  32.22   Transcriptomics:6331   Mean   :22748199  \n",
       " 3rd Qu.:  33.00                          3rd Qu.:24392655  \n",
       " Max.   :4358.00                          Max.   :25608477  "
      ]
     },
     "metadata": {},
     "output_type": "display_data"
    }
   ],
   "source": [
    "summary(citation)"
   ]
  },
  {
   "cell_type": "markdown",
   "metadata": {},
   "source": [
    "Now, we can combine the information of the three datasets."
   ]
  },
  {
   "cell_type": "code",
   "execution_count": 19,
   "metadata": {},
   "outputs": [],
   "source": [
    "combined_info=country%>%\n",
    "full_join(.,citation,by=c(\"Field\", \"pmid\"))%>%\n",
    "full_join(.,species,by=c(\"Field\", \"pmid\"))%>%\n",
    "filter(!is.na(pmid))%>%\n",
    "select(-c(EntrezUID.x,EntrezUID.y))"
   ]
  },
  {
   "cell_type": "code",
   "execution_count": 20,
   "metadata": {},
   "outputs": [
    {
     "data": {
      "text/plain": [
       "    Country                   Field             pmid             Citation     \n",
       " China  : 46102   Genomics       :189778   Min.   : 1282491   Min.   :   0.0  \n",
       " Germany: 30367   Metabolomics   : 16664   1st Qu.:19280682   1st Qu.:   8.0  \n",
       " US     : 18137   Proteomics     : 88050   Median :23521840   Median :  16.0  \n",
       " France : 17236   Transcriptomics: 62977   Mean   :22275108   Mean   :  31.8  \n",
       " Canada : 17056                            3rd Qu.:26104761   3rd Qu.:  33.0  \n",
       " (Other): 64748                            Max.   :28878260   Max.   :4358.0  \n",
       " NA's   :163823                                               NA's   :338624  \n",
       "     Species      \n",
       " Animal  :107905  \n",
       " Bacteria: 47705  \n",
       " Human   :114681  \n",
       " Plant   : 44160  \n",
       " NA's    : 43018  \n",
       "                  \n",
       "                  "
      ]
     },
     "metadata": {},
     "output_type": "display_data"
    }
   ],
   "source": [
    "summary(combined_info)"
   ]
  },
  {
   "cell_type": "markdown",
   "metadata": {},
   "source": [
    "And join this information with the one of the p-value dataset:"
   ]
  },
  {
   "cell_type": "code",
   "execution_count": 21,
   "metadata": {},
   "outputs": [],
   "source": [
    "allp_reduced=allp%>%\n",
    "filter(pmid %in% combined_info$pmid)%>%\n",
    "left_join(combined_info,by=\"pmid\")%>%\n",
    "select(pvalue,year,dataset,Country,Field,Species,Citation)"
   ]
  },
  {
   "cell_type": "markdown",
   "metadata": {},
   "source": [
    "Basic information of the resulting p-value dataset:"
   ]
  },
  {
   "cell_type": "code",
   "execution_count": 22,
   "metadata": {},
   "outputs": [
    {
     "data": {
      "text/plain": [
       "     pvalue              year         dataset         Country     \n",
       " Min.   : 0.00000   Min.   :2001   Min.   :1.000   US     :24132  \n",
       " 1st Qu.: 0.00100   1st Qu.:2011   1st Qu.:1.500   China  :19506  \n",
       " Median : 0.02000   Median :2013   Median :2.000   Germany:12161  \n",
       " Mean   : 0.05953   Mean   :2012   Mean   :1.772   Canada : 8671  \n",
       " 3rd Qu.: 0.05000   3rd Qu.:2014   3rd Qu.:2.000   France : 8525  \n",
       " Max.   : 9.99989   Max.   :2015   Max.   :2.000   (Other):28657  \n",
       "                                                   NA's   :89728  \n",
       "             Field           Species         Citation      \n",
       " Genomics       :96498   Animal  :58430   Min.   :   0.00  \n",
       " Metabolomics   : 9536   Bacteria:19655   1st Qu.:   8.00  \n",
       " Proteomics     :26779   Human   :62659   Median :  16.00  \n",
       " Transcriptomics:58567   Plant   :17235   Mean   :  30.66  \n",
       "                         NA's    :33401   3rd Qu.:  33.00  \n",
       "                                          Max.   :4358.00  \n",
       "                                          NA's   :75045    "
      ]
     },
     "metadata": {},
     "output_type": "display_data"
    }
   ],
   "source": [
    "summary(allp_reduced)"
   ]
  },
  {
   "cell_type": "code",
   "execution_count": 23,
   "metadata": {},
   "outputs": [
    {
     "data": {
      "text/html": [
       "<ol class=list-inline>\n",
       "\t<li>191380</li>\n",
       "\t<li>7</li>\n",
       "</ol>\n"
      ],
      "text/latex": [
       "\\begin{enumerate*}\n",
       "\\item 191380\n",
       "\\item 7\n",
       "\\end{enumerate*}\n"
      ],
      "text/markdown": [
       "1. 191380\n",
       "2. 7\n",
       "\n",
       "\n"
      ],
      "text/plain": [
       "[1] 191380      7"
      ]
     },
     "metadata": {},
     "output_type": "display_data"
    }
   ],
   "source": [
    "dim(allp_reduced)"
   ]
  },
  {
   "cell_type": "markdown",
   "metadata": {},
   "source": [
    "There are 191380 p-values (with associated information) in the dataset.\n",
    "\n",
    "Now, let's evaluate how many of these rows have complete information (\"TRUE\") and in how many rows there is a missing value in at least one of the features (\"FALSE\"):"
   ]
  },
  {
   "cell_type": "code",
   "execution_count": 24,
   "metadata": {},
   "outputs": [
    {
     "data": {
      "text/plain": [
       "\n",
       " FALSE   TRUE \n",
       "139551  51829 "
      ]
     },
     "metadata": {},
     "output_type": "display_data"
    }
   ],
   "source": [
    "table(complete.cases(allp_reduced))"
   ]
  },
  {
   "cell_type": "markdown",
   "metadata": {},
   "source": [
    "It can be seen that most rows have missing information in one or more features. This missing information can be imputed thanks e.g. to state-of-the-art random forest based methods. However, there is a trade-off between sample size and imputation of missing values:\n",
    "\n",
    "- The higher the sample size the better the machine learning model trained.\n",
    "- The higher the proportion of imputed values in the dataset the lower the quality of the dataset and the worse the model trained.\n",
    "\n",
    "Therefore, several exploratory studies were performed to find the best combination of sample size and need of imputation of missing values. The final treatment chosen is explained in the next section."
   ]
  },
  {
   "cell_type": "markdown",
   "metadata": {},
   "source": [
    "## Further treatment of data before training models"
   ]
  },
  {
   "cell_type": "markdown",
   "metadata": {},
   "source": [
    "Now, we perform the next actions:\n",
    "\n",
    "* Removal of non-significant p-values (although it might be interesting to analyze if there are factors which explain higher tendency not to report non-significant p-values).\n",
    "* Dichotomization of significant p-values into lower than 0.01 (high p-values) and between 0.01 and 0.05 (low p-values). A thorough explanation of the convenience to perform this kind of binning is present on the \"p_value_distribution_exploratory_analysis.ipynb\" notebook.\n",
    "\n",
    "In addition, to ensure the possible use of packages in later steps, the names of categories and column names are adapted to the R notation."
   ]
  },
  {
   "cell_type": "code",
   "execution_count": 25,
   "metadata": {},
   "outputs": [],
   "source": [
    "p_value_final=allp_reduced%>%\n",
    "  mutate(pvalue=cut(pvalue,breaks=c(min(pvalue),0.01,0.05)))%>%\n",
    "filter(!is.na(pvalue))%>%\n",
    "mutate(pvalue=as.factor(make.names(pvalue)))\n",
    "\n",
    "names(p_value_final)=make.names(names(p_value_final))"
   ]
  },
  {
   "cell_type": "markdown",
   "metadata": {},
   "source": [
    "The summary of the updated p-value dataset:"
   ]
  },
  {
   "cell_type": "code",
   "execution_count": 26,
   "metadata": {},
   "outputs": [
    {
     "data": {
      "text/plain": [
       "          pvalue           year         dataset        Country     \n",
       " X.0.0.01.   :89937   Min.   :2001   Min.   :1.00   US     :21289  \n",
       " X.0.01.0.05.:78888   1st Qu.:2011   1st Qu.:1.50   China  :17757  \n",
       "                      Median :2013   Median :2.00   Germany:10527  \n",
       "                      Mean   :2012   Mean   :1.78   Canada : 7655  \n",
       "                      3rd Qu.:2014   3rd Qu.:2.00   France : 7501  \n",
       "                      Max.   :2015   Max.   :2.00   (Other):25180  \n",
       "                                                    NA's   :78916  \n",
       "             Field           Species         Citation     \n",
       " Genomics       :83401   Animal  :52056   Min.   :   0.0  \n",
       " Metabolomics   : 8502   Bacteria:17629   1st Qu.:   8.0  \n",
       " Proteomics     :24137   Human   :54798   Median :  16.0  \n",
       " Transcriptomics:52785   Plant   :15549   Mean   :  30.4  \n",
       "                         NA's    :28793   3rd Qu.:  32.0  \n",
       "                                          Max.   :4358.0  \n",
       "                                          NA's   :65732   "
      ]
     },
     "metadata": {},
     "output_type": "display_data"
    }
   ],
   "source": [
    "summary(p_value_final)"
   ]
  },
  {
   "cell_type": "markdown",
   "metadata": {},
   "source": [
    "Approx. a 10% of rows have been lost as these were non-significant p-values.\n",
    "\n",
    "The pre-processing of the missing values is the next one:\n",
    "\n",
    "- The rows with NA in the 'Citation' feature are removed, as the imputation of missing values worsened the performance of the final prediction model.\n",
    "- The NAs in the Species and Country features are imputed as a new category."
   ]
  },
  {
   "cell_type": "code",
   "execution_count": 27,
   "metadata": {},
   "outputs": [],
   "source": [
    "p_value_final=p_value_final%>%\n",
    "filter(!is.na(Citation))%>%\n",
    "mutate(Country=addNA(Country),Species=addNA(Species))"
   ]
  },
  {
   "cell_type": "markdown",
   "metadata": {},
   "source": [
    "Summary of the updated p-value dataset:"
   ]
  },
  {
   "cell_type": "code",
   "execution_count": 28,
   "metadata": {},
   "outputs": [
    {
     "data": {
      "text/plain": [
       "          pvalue           year         dataset         Country     \n",
       " X.0.0.01.   :53927   Min.   :2006   Min.   :1.000   NA     :50822  \n",
       " X.0.01.0.05.:49166   1st Qu.:2011   1st Qu.:1.500   US     :14394  \n",
       "                      Median :2013   Median :2.000   China  : 9464  \n",
       "                      Mean   :2012   Mean   :1.778   Germany: 6244  \n",
       "                      3rd Qu.:2014   3rd Qu.:2.000   France : 4359  \n",
       "                      Max.   :2014   Max.   :2.000   Canada : 4134  \n",
       "                                                     (Other):13676  \n",
       "             Field           Species         Citation     \n",
       " Genomics       :24568   Animal  :28638   Min.   :   0.0  \n",
       " Metabolomics   : 8157   Bacteria: 9853   1st Qu.:   8.0  \n",
       " Proteomics     :20116   Human   :32970   Median :  16.0  \n",
       " Transcriptomics:50252   Plant   : 9302   Mean   :  30.4  \n",
       "                         NA      :22330   3rd Qu.:  32.0  \n",
       "                                          Max.   :4358.0  \n",
       "                                                          "
      ]
     },
     "metadata": {},
     "output_type": "display_data"
    }
   ],
   "source": [
    "summary(p_value_final)"
   ]
  },
  {
   "cell_type": "markdown",
   "metadata": {},
   "source": [
    "We can observe the number of high p-values ('X.0.0.01.') is approx. 10% than the number of low p-values ('X.0.01.0.05.'). This class imbalance might exert an influence in the training of the prediction model. Therefore, the Cohen's Kappa metric will be chosen during model training."
   ]
  },
  {
   "cell_type": "markdown",
   "metadata": {},
   "source": [
    "## Building of model"
   ]
  },
  {
   "cell_type": "markdown",
   "metadata": {},
   "source": [
    "Predictions will be done by a 10-fold cross-validation approach. We need to save the predictions generated to later interpret the model."
   ]
  },
  {
   "cell_type": "code",
   "execution_count": 9,
   "metadata": {},
   "outputs": [],
   "source": [
    "train_control <- trainControl(method = \"cv\",\n",
    "                              number = 10,\n",
    "                              classProbs=TRUE,\n",
    "                              savePredictions = \"final\")"
   ]
  },
  {
   "cell_type": "markdown",
   "metadata": {},
   "source": [
    "After some exploration of the optimal hyperparameters, we decide to set these ones as the same ones for every model created in order to ensure that results cannot be possibly explained by the variance in the hyperparameter values."
   ]
  },
  {
   "cell_type": "code",
   "execution_count": 10,
   "metadata": {},
   "outputs": [],
   "source": [
    "xgb_grid <- expand.grid(\n",
    "                        nrounds = 300,\n",
    "                       max_depth = 9,\n",
    "                       min_child_weight = 3,\n",
    "                       subsample = 0.8,\n",
    "                       gamma = 0,\n",
    "                       colsample_bytree = 0.8,\n",
    "                       eta = 0.3)"
   ]
  },
  {
   "cell_type": "markdown",
   "metadata": {},
   "source": [
    "Now it is the moment to create the general model. The metric chosen to train and evaluate the model is Cohen's Kappa. The algorithm will be gradient boosting."
   ]
  },
  {
   "cell_type": "code",
   "execution_count": 11,
   "metadata": {},
   "outputs": [
    {
     "data": {
      "text/plain": [
       "   user  system elapsed \n",
       " 748.07  206.33  466.21 "
      ]
     },
     "metadata": {},
     "output_type": "display_data"
    }
   ],
   "source": [
    "set.seed(1);system.time(xgboost_model <- train(pvalue ~ ., \n",
    "                p_value_final, \n",
    "                method = \"xgbTree\",\n",
    "                metric = \"Kappa\",\n",
    "                tuneGrid = xgb_grid,\n",
    "                trControl = train_control))"
   ]
  },
  {
   "cell_type": "markdown",
   "metadata": {},
   "source": [
    "Which is the performance of the model generated in each one of the folds?"
   ]
  },
  {
   "cell_type": "code",
   "execution_count": 12,
   "metadata": {},
   "outputs": [
    {
     "data": {
      "text/html": [
       "<table>\n",
       "<thead><tr><th scope=col>Accuracy</th><th scope=col>Kappa</th><th scope=col>Resample</th></tr></thead>\n",
       "<tbody>\n",
       "\t<tr><td>0.6505966</td><td>0.2975326</td><td>Fold01   </td></tr>\n",
       "\t<tr><td>0.6512756</td><td>0.2997256</td><td>Fold02   </td></tr>\n",
       "\t<tr><td>0.6642739</td><td>0.3254334</td><td>Fold03   </td></tr>\n",
       "\t<tr><td>0.6620757</td><td>0.3202428</td><td>Fold04   </td></tr>\n",
       "\t<tr><td>0.6543797</td><td>0.3048436</td><td>Fold05   </td></tr>\n",
       "\t<tr><td>0.6490105</td><td>0.2938707</td><td>Fold06   </td></tr>\n",
       "\t<tr><td>0.6532493</td><td>0.3023937</td><td>Fold07   </td></tr>\n",
       "\t<tr><td>0.6507906</td><td>0.2975657</td><td>Fold08   </td></tr>\n",
       "\t<tr><td>0.6601358</td><td>0.3165623</td><td>Fold09   </td></tr>\n",
       "\t<tr><td>0.6607177</td><td>0.3177571</td><td>Fold10   </td></tr>\n",
       "</tbody>\n",
       "</table>\n"
      ],
      "text/latex": [
       "\\begin{tabular}{r|lll}\n",
       " Accuracy & Kappa & Resample\\\\\n",
       "\\hline\n",
       "\t 0.6505966 & 0.2975326 & Fold01   \\\\\n",
       "\t 0.6512756 & 0.2997256 & Fold02   \\\\\n",
       "\t 0.6642739 & 0.3254334 & Fold03   \\\\\n",
       "\t 0.6620757 & 0.3202428 & Fold04   \\\\\n",
       "\t 0.6543797 & 0.3048436 & Fold05   \\\\\n",
       "\t 0.6490105 & 0.2938707 & Fold06   \\\\\n",
       "\t 0.6532493 & 0.3023937 & Fold07   \\\\\n",
       "\t 0.6507906 & 0.2975657 & Fold08   \\\\\n",
       "\t 0.6601358 & 0.3165623 & Fold09   \\\\\n",
       "\t 0.6607177 & 0.3177571 & Fold10   \\\\\n",
       "\\end{tabular}\n"
      ],
      "text/markdown": [
       "\n",
       "Accuracy | Kappa | Resample | \n",
       "|---|---|---|---|---|---|---|---|---|---|\n",
       "| 0.6505966 | 0.2975326 | Fold01    | \n",
       "| 0.6512756 | 0.2997256 | Fold02    | \n",
       "| 0.6642739 | 0.3254334 | Fold03    | \n",
       "| 0.6620757 | 0.3202428 | Fold04    | \n",
       "| 0.6543797 | 0.3048436 | Fold05    | \n",
       "| 0.6490105 | 0.2938707 | Fold06    | \n",
       "| 0.6532493 | 0.3023937 | Fold07    | \n",
       "| 0.6507906 | 0.2975657 | Fold08    | \n",
       "| 0.6601358 | 0.3165623 | Fold09    | \n",
       "| 0.6607177 | 0.3177571 | Fold10    | \n",
       "\n",
       "\n"
      ],
      "text/plain": [
       "   Accuracy  Kappa     Resample\n",
       "1  0.6505966 0.2975326 Fold01  \n",
       "2  0.6512756 0.2997256 Fold02  \n",
       "3  0.6642739 0.3254334 Fold03  \n",
       "4  0.6620757 0.3202428 Fold04  \n",
       "5  0.6543797 0.3048436 Fold05  \n",
       "6  0.6490105 0.2938707 Fold06  \n",
       "7  0.6532493 0.3023937 Fold07  \n",
       "8  0.6507906 0.2975657 Fold08  \n",
       "9  0.6601358 0.3165623 Fold09  \n",
       "10 0.6607177 0.3177571 Fold10  "
      ]
     },
     "metadata": {},
     "output_type": "display_data"
    }
   ],
   "source": [
    "xgboost_model$resample"
   ]
  },
  {
   "cell_type": "markdown",
   "metadata": {},
   "source": [
    "Cohen's Kappa is quite stable (0.3 approx.). This is equivalent to predicting correctly approx. two of every three observations only with the information reported (i.e., without any actual need to read the article in order to evaluate its quality).\n",
    "\n",
    "It is possible to evaluate more metrics by the 'confusionMatrix' function:"
   ]
  },
  {
   "cell_type": "code",
   "execution_count": 20,
   "metadata": {},
   "outputs": [
    {
     "data": {
      "text/html": [
       "<table>\n",
       "<thead><tr><th scope=col>nrounds</th><th scope=col>max_depth</th><th scope=col>eta</th><th scope=col>gamma</th><th scope=col>colsample_bytree</th><th scope=col>min_child_weight</th><th scope=col>subsample</th><th scope=col>pred</th><th scope=col>obs</th><th scope=col>X.0.0.01.</th><th scope=col>X.0.01.0.05.</th><th scope=col>rowIndex</th><th scope=col>Resample</th></tr></thead>\n",
       "<tbody>\n",
       "\t<tr><td>300         </td><td>9           </td><td>0.3         </td><td>0           </td><td>0.8         </td><td>3           </td><td>0.8         </td><td>X.0.01.0.05.</td><td>X.0.01.0.05.</td><td>0.0319582   </td><td>0.9680418   </td><td> 2          </td><td>Fold01      </td></tr>\n",
       "\t<tr><td>300         </td><td>9           </td><td>0.3         </td><td>0           </td><td>0.8         </td><td>3           </td><td>0.8         </td><td>X.0.0.01.   </td><td>X.0.0.01.   </td><td>0.5282021   </td><td>0.4717979   </td><td>14          </td><td>Fold01      </td></tr>\n",
       "\t<tr><td>300         </td><td>9           </td><td>0.3         </td><td>0           </td><td>0.8         </td><td>3           </td><td>0.8         </td><td>X.0.01.0.05.</td><td>X.0.0.01.   </td><td>0.4913545   </td><td>0.5086455   </td><td>17          </td><td>Fold01      </td></tr>\n",
       "\t<tr><td>300         </td><td>9           </td><td>0.3         </td><td>0           </td><td>0.8         </td><td>3           </td><td>0.8         </td><td>X.0.01.0.05.</td><td>X.0.01.0.05.</td><td>0.3382576   </td><td>0.6617424   </td><td>26          </td><td>Fold01      </td></tr>\n",
       "\t<tr><td>300         </td><td>9           </td><td>0.3         </td><td>0           </td><td>0.8         </td><td>3           </td><td>0.8         </td><td>X.0.0.01.   </td><td>X.0.0.01.   </td><td>0.6480796   </td><td>0.3519204   </td><td>32          </td><td>Fold01      </td></tr>\n",
       "\t<tr><td>300         </td><td>9           </td><td>0.3         </td><td>0           </td><td>0.8         </td><td>3           </td><td>0.8         </td><td>X.0.0.01.   </td><td>X.0.0.01.   </td><td>0.7622784   </td><td>0.2377216   </td><td>49          </td><td>Fold01      </td></tr>\n",
       "</tbody>\n",
       "</table>\n"
      ],
      "text/latex": [
       "\\begin{tabular}{r|lllllllllllll}\n",
       " nrounds & max\\_depth & eta & gamma & colsample\\_bytree & min\\_child\\_weight & subsample & pred & obs & X.0.0.01. & X.0.01.0.05. & rowIndex & Resample\\\\\n",
       "\\hline\n",
       "\t 300          & 9            & 0.3          & 0            & 0.8          & 3            & 0.8          & X.0.01.0.05. & X.0.01.0.05. & 0.0319582    & 0.9680418    &  2           & Fold01      \\\\\n",
       "\t 300          & 9            & 0.3          & 0            & 0.8          & 3            & 0.8          & X.0.0.01.    & X.0.0.01.    & 0.5282021    & 0.4717979    & 14           & Fold01      \\\\\n",
       "\t 300          & 9            & 0.3          & 0            & 0.8          & 3            & 0.8          & X.0.01.0.05. & X.0.0.01.    & 0.4913545    & 0.5086455    & 17           & Fold01      \\\\\n",
       "\t 300          & 9            & 0.3          & 0            & 0.8          & 3            & 0.8          & X.0.01.0.05. & X.0.01.0.05. & 0.3382576    & 0.6617424    & 26           & Fold01      \\\\\n",
       "\t 300          & 9            & 0.3          & 0            & 0.8          & 3            & 0.8          & X.0.0.01.    & X.0.0.01.    & 0.6480796    & 0.3519204    & 32           & Fold01      \\\\\n",
       "\t 300          & 9            & 0.3          & 0            & 0.8          & 3            & 0.8          & X.0.0.01.    & X.0.0.01.    & 0.7622784    & 0.2377216    & 49           & Fold01      \\\\\n",
       "\\end{tabular}\n"
      ],
      "text/markdown": [
       "\n",
       "nrounds | max_depth | eta | gamma | colsample_bytree | min_child_weight | subsample | pred | obs | X.0.0.01. | X.0.01.0.05. | rowIndex | Resample | \n",
       "|---|---|---|---|---|---|\n",
       "| 300          | 9            | 0.3          | 0            | 0.8          | 3            | 0.8          | X.0.01.0.05. | X.0.01.0.05. | 0.0319582    | 0.9680418    |  2           | Fold01       | \n",
       "| 300          | 9            | 0.3          | 0            | 0.8          | 3            | 0.8          | X.0.0.01.    | X.0.0.01.    | 0.5282021    | 0.4717979    | 14           | Fold01       | \n",
       "| 300          | 9            | 0.3          | 0            | 0.8          | 3            | 0.8          | X.0.01.0.05. | X.0.0.01.    | 0.4913545    | 0.5086455    | 17           | Fold01       | \n",
       "| 300          | 9            | 0.3          | 0            | 0.8          | 3            | 0.8          | X.0.01.0.05. | X.0.01.0.05. | 0.3382576    | 0.6617424    | 26           | Fold01       | \n",
       "| 300          | 9            | 0.3          | 0            | 0.8          | 3            | 0.8          | X.0.0.01.    | X.0.0.01.    | 0.6480796    | 0.3519204    | 32           | Fold01       | \n",
       "| 300          | 9            | 0.3          | 0            | 0.8          | 3            | 0.8          | X.0.0.01.    | X.0.0.01.    | 0.7622784    | 0.2377216    | 49           | Fold01       | \n",
       "\n",
       "\n"
      ],
      "text/plain": [
       "  nrounds max_depth eta gamma colsample_bytree min_child_weight subsample\n",
       "1 300     9         0.3 0     0.8              3                0.8      \n",
       "2 300     9         0.3 0     0.8              3                0.8      \n",
       "3 300     9         0.3 0     0.8              3                0.8      \n",
       "4 300     9         0.3 0     0.8              3                0.8      \n",
       "5 300     9         0.3 0     0.8              3                0.8      \n",
       "6 300     9         0.3 0     0.8              3                0.8      \n",
       "  pred         obs          X.0.0.01. X.0.01.0.05. rowIndex Resample\n",
       "1 X.0.01.0.05. X.0.01.0.05. 0.0319582 0.9680418     2       Fold01  \n",
       "2 X.0.0.01.    X.0.0.01.    0.5282021 0.4717979    14       Fold01  \n",
       "3 X.0.01.0.05. X.0.0.01.    0.4913545 0.5086455    17       Fold01  \n",
       "4 X.0.01.0.05. X.0.01.0.05. 0.3382576 0.6617424    26       Fold01  \n",
       "5 X.0.0.01.    X.0.0.01.    0.6480796 0.3519204    32       Fold01  \n",
       "6 X.0.0.01.    X.0.0.01.    0.7622784 0.2377216    49       Fold01  "
      ]
     },
     "metadata": {},
     "output_type": "display_data"
    }
   ],
   "source": [
    "head(xgboost_model$pred)"
   ]
  },
  {
   "cell_type": "code",
   "execution_count": 18,
   "metadata": {},
   "outputs": [
    {
     "name": "stdout",
     "output_type": "stream",
     "text": [
      "Confusion Matrix and Statistics\n",
      "\n",
      "              Reference\n",
      "Prediction     X.0.0.01. X.0.01.0.05.\n",
      "  X.0.0.01.        37975        19548\n",
      "  X.0.01.0.05.     15952        29618\n",
      "                                          \n",
      "               Accuracy : 0.6557          \n",
      "                 95% CI : (0.6527, 0.6586)\n",
      "    No Information Rate : 0.5231          \n",
      "    P-Value [Acc > NIR] : < 2.2e-16       \n",
      "                                          \n",
      "                  Kappa : 0.3076          \n",
      " Mcnemar's Test P-Value : < 2.2e-16       \n",
      "                                          \n",
      "            Sensitivity : 0.6024          \n",
      "            Specificity : 0.7042          \n",
      "         Pos Pred Value : 0.6499          \n",
      "         Neg Pred Value : 0.6602          \n",
      "              Precision : 0.6499          \n",
      "                 Recall : 0.6024          \n",
      "                     F1 : 0.6253          \n",
      "             Prevalence : 0.4769          \n",
      "         Detection Rate : 0.2873          \n",
      "   Detection Prevalence : 0.4420          \n",
      "      Balanced Accuracy : 0.6533          \n",
      "                                          \n",
      "       'Positive' Class : X.0.01.0.05.    \n",
      "                                          \n"
     ]
    }
   ],
   "source": [
    "print(confusionMatrix(xgboost_model$pred$pred,xgboost_model$pred$obs,positive = \"X.0.01.0.05.\",mode=\"everything\"))"
   ]
  },
  {
   "cell_type": "markdown",
   "metadata": {},
   "source": [
    "The F1 score is 0.6253 (the weak p-value os the 'positive' class). However, this metric might be increased by choosing a different threshold to classify low or high p-values (at the expense of decreasing the accuracy in the p-value classification).\n",
    "\n",
    "Let's check if the calibration curve of the model presents problems:"
   ]
  },
  {
   "cell_type": "code",
   "execution_count": 22,
   "metadata": {},
   "outputs": [
    {
     "data": {},
     "metadata": {},
     "output_type": "display_data"
    },
    {
     "data": {
      "image/png": "[encoded data removed]",
      "text/plain": [
       "plot without title"
      ]
     },
     "metadata": {},
     "output_type": "display_data"
    }
   ],
   "source": [
    "options(repr.plot.width=4, repr.plot.height=4)\n",
    "\n",
    "testProbs <- data.frame(obs = xgboost_model$pred$obs, pred = xgboost_model$pred$X.0.01.0.05.)\n",
    "\n",
    "calPlotData <- calibration(obs ~ pred, data = testProbs,class=\"X.0.01.0.05.\")\n",
    "\n",
    "xyplot(calPlotData, auto.key = list(columns = 2))"
   ]
  },
  {
   "cell_type": "markdown",
   "metadata": {},
   "source": [
    "## Interpretability of the model"
   ]
  },
  {
   "cell_type": "markdown",
   "metadata": {},
   "source": [
    "### Variable importance"
   ]
  },
  {
   "cell_type": "markdown",
   "metadata": {},
   "source": [
    "To be able to interpret the model, we will use the DALEX package. First, we need to create a model explainer:"
   ]
  },
  {
   "cell_type": "code",
   "execution_count": 24,
   "metadata": {},
   "outputs": [],
   "source": [
    "data=p_value_final%>%\n",
    "        filter(!(seq(nrow(p_value_final)) %in% train_idx))\n",
    "\n",
    "model_explainer <- DALEX::explain(xgboost_model, \n",
    "                                   data=data%>%select(-pvalue),\n",
    "                                   y=as.vector(as.numeric(data$pvalue)))\n"
   ]
  },
  {
   "cell_type": "markdown",
   "metadata": {},
   "source": [
    "Then we can plot the importance of each factor in the performance of the model with a dropout-based method. Thin kind of method helps evalauting how the model is worsened by the elimination of random information in the features. As this method can give some variance in the results, these results are averaged and normalized in 20 iterations. The higher the value in the feature the higher the importance of the feature in the model. If a variable shows a value similar to the one of '_full_model_', it is not relevant in the prediction."
   ]
  },
  {
   "cell_type": "code",
   "execution_count": 25,
   "metadata": {},
   "outputs": [],
   "source": [
    "dummy=variable_dropout(model_explainer)\n",
    "variable_dropout_results=matrix(NA,nrow(dummy),20)\n",
    "rownames(variable_dropout_results)=sort(dummy$variable)\n",
    "\n",
    "for (i in 1:20) {\n",
    "    set.seed(i);var_drop_res=variable_dropout(model_explainer)\n",
    "    variable_dropout_results[,i]=(var_drop_res$dropout_loss[order(var_drop_res$variable)])/max(var_drop_res$dropout_loss)\n",
    "}"
   ]
  },
  {
   "cell_type": "code",
   "execution_count": 26,
   "metadata": {},
   "outputs": [
    {
     "data": {
      "text/html": [
       "<dl class=dl-horizontal>\n",
       "\t<dt>_baseline_</dt>\n",
       "\t\t<dd>1</dd>\n",
       "\t<dt>Citation</dt>\n",
       "\t\t<dd>0.911618483030511</dd>\n",
       "\t<dt>Country</dt>\n",
       "\t\t<dd>0.807313931019875</dd>\n",
       "\t<dt>year</dt>\n",
       "\t\t<dd>0.787969688068223</dd>\n",
       "\t<dt>Field</dt>\n",
       "\t\t<dd>0.756844782096777</dd>\n",
       "\t<dt>Species</dt>\n",
       "\t\t<dd>0.724793267290327</dd>\n",
       "\t<dt>dataset</dt>\n",
       "\t\t<dd>0.71401558054038</dd>\n",
       "\t<dt>_full_model_</dt>\n",
       "\t\t<dd>0.581060437762262</dd>\n",
       "</dl>\n"
      ],
      "text/latex": [
       "\\begin{description*}\n",
       "\\item[\\textbackslash{}\\_baseline\\textbackslash{}\\_] 1\n",
       "\\item[Citation] 0.911618483030511\n",
       "\\item[Country] 0.807313931019875\n",
       "\\item[year] 0.787969688068223\n",
       "\\item[Field] 0.756844782096777\n",
       "\\item[Species] 0.724793267290327\n",
       "\\item[dataset] 0.71401558054038\n",
       "\\item[\\textbackslash{}\\_full\\textbackslash{}\\_model\\textbackslash{}\\_] 0.581060437762262\n",
       "\\end{description*}\n"
      ],
      "text/markdown": [
       "_baseline_\n",
       ":   1Citation\n",
       ":   0.911618483030511Country\n",
       ":   0.807313931019875year\n",
       ":   0.787969688068223Field\n",
       ":   0.756844782096777Species\n",
       ":   0.724793267290327dataset\n",
       ":   0.71401558054038_full_model_\n",
       ":   0.581060437762262\n",
       "\n"
      ],
      "text/plain": [
       "  _baseline_     Citation      Country         year        Field      Species \n",
       "   1.0000000    0.9116185    0.8073139    0.7879697    0.7568448    0.7247933 \n",
       "     dataset _full_model_ \n",
       "   0.7140156    0.5810604 "
      ]
     },
     "metadata": {},
     "output_type": "display_data"
    }
   ],
   "source": [
    "sort(rowMeans(variable_dropout_results),decreasing=T)"
   ]
  },
  {
   "cell_type": "markdown",
   "metadata": {},
   "source": [
    "We see that the citation count information is, as expected, the most important feature in the prediction of low and high p-values: there is a reason it has been chosen as the default method to try to parameterize the quality of a study.\n",
    "\n",
    "However, all the variables analyzed show capacity to help in the prediction of low and high p-values. Therefore, these features related to socioeconomic information or dependency paths are actually relevant in the final distribution of p-values achieved (and, presumably, in the quality of the research performed) and might be taken into account when evaluating the possible quality of the study or the need to improve the minimum requirements in order to publish studies. According to the dropout method, the most important features of these ones are the year of publication and the country of affiliation. "
   ]
  },
  {
   "cell_type": "markdown",
   "metadata": {},
   "source": [
    "A validation that each of these features is relevant in the prediction of the p-value class is performed in the 'ablation_studies.ipynb' notebook."
   ]
  },
  {
   "cell_type": "markdown",
   "metadata": {},
   "source": [
    "### Variable response"
   ]
  },
  {
   "cell_type": "markdown",
   "metadata": {},
   "source": [
    "Now, it is the moment to interpret how each variable affects to the model. This is performed with the help of:\n",
    "\n",
    "- In the case of numeric variables, Accumulated local effects (ALE) plots. In contrast to partial dependence plots (PDPs), this kind of analysis is robust to the effect of correlated covariates, then it ensures the right interpretability of the effect of each numeric feature. https://christophm.github.io/interpretable-ml-book/ale.html\n",
    "\n",
    "- In the case of categorical variables, with the Addaptive Post-Hoc Fusing of Groups. https://mi2datalab.github.io/factorMerger/\n",
    "\n",
    "In the kinds of plots generated, there is a direct relationship between the prediction of low p-values and the y-axis. For example, it is expected that a higher citation count in the x-axis means a lower value in the y-axis, as we know from the exploratory analysis that a higher citation count means a lower proportion of low p-values."
   ]
  },
  {
   "cell_type": "markdown",
   "metadata": {},
   "source": [
    "#### Citation count:"
   ]
  },
  {
   "cell_type": "code",
   "execution_count": 34,
   "metadata": {},
   "outputs": [
    {
     "name": "stderr",
     "output_type": "stream",
     "text": [
      "`geom_smooth()` using method = 'loess' and formula 'y ~ x'\n"
     ]
    },
    {
     "data": {},
     "metadata": {},
     "output_type": "display_data"
    },
    {
     "data": {
      "image/png": "[encoded data removed]",
      "text/plain": [
       "plot without title"
      ]
     },
     "metadata": {},
     "output_type": "display_data"
    }
   ],
   "source": [
    "options(repr.plot.width=7, repr.plot.height=4)\n",
    "pdp_citation_data=data[data$Citation<100,]\n",
    "dummy <- DALEX::explain(xgboost_model, \n",
    "                                   data=pdp_citation_data%>%\n",
    "                                     select(-pvalue),\n",
    "                                   y=as.vector(as.numeric(pdp_citation_data$pvalue)))\n",
    "plot(variable_response(dummy, variable =  \"Citation\", type = \"ale\"))+geom_smooth()"
   ]
  },
  {
   "cell_type": "markdown",
   "metadata": {},
   "source": [
    "According to this analysis, there is a clear relationship between the citation count and the output of low p-values until arriving to approx. 20 citations. When having approx. more than 20 citations, this effect saturates: a higher number of citations is not clearly associated with a lower proportion of low p-values (and, possibly, to a higher quality of research)."
   ]
  },
  {
   "cell_type": "markdown",
   "metadata": {},
   "source": [
    "#### Year of publication:"
   ]
  },
  {
   "cell_type": "code",
   "execution_count": 28,
   "metadata": {},
   "outputs": [
    {
     "data": {},
     "metadata": {},
     "output_type": "display_data"
    },
    {
     "data": {
      "image/png": "[encoded data removed]",
      "text/plain": [
       "plot without title"
      ]
     },
     "metadata": {},
     "output_type": "display_data"
    }
   ],
   "source": [
    "plot(variable_response(model_explainer, variable =  \"year\", type = \"ale\"))\n"
   ]
  },
  {
   "cell_type": "markdown",
   "metadata": {},
   "source": [
    "A more recency of the publication is related to a lower generation of low p-values. As explained during the exploratory analysis, the inverse trend found in the exploratory analysis is possibly related to confounders such as the dataset the p-value was extracted from."
   ]
  },
  {
   "cell_type": "markdown",
   "metadata": {},
   "source": [
    "#### Country of affiliation:"
   ]
  },
  {
   "cell_type": "code",
   "execution_count": 29,
   "metadata": {},
   "outputs": [
    {
     "name": "stderr",
     "output_type": "stream",
     "text": [
      "Variable Country  is of the class factor. Type of explainer changed to 'factor'.\n",
      "Scale for 'x' is already present. Adding another scale for 'x', which will\n",
      "replace the existing scale.\n"
     ]
    },
    {
     "data": {},
     "metadata": {},
     "output_type": "display_data"
    },
    {
     "data": {
      "image/png": "[encoded data removed]",
      "text/plain": [
       "plot without title"
      ]
     },
     "metadata": {},
     "output_type": "display_data"
    }
   ],
   "source": [
    "options(repr.plot.width=7, repr.plot.height=7)\n",
    "\n",
    "plot(variable_response(model_explainer, variable =  \"Country\"))\n"
   ]
  },
  {
   "cell_type": "markdown",
   "metadata": {},
   "source": [
    "As inferrred during the exploratory analysis, the articles with China as country of affiliation are the most associated ones with a higher generation of low p-values. This effect is possibly related to the current output of studies of lower impact (caused by the recent emergence of scientific research in this country) which cannot be fully parameterized by the citation count. \n",
    "\n",
    "On the other hand, Germany and the Netherlands show the lowest proportion of low p-values in their studies. The high generation of low p-values in Spain in the exploratory analysis becomes less important in this analysis: possibly this high generation of low p-values was related to a research of lower impact which is well parameterized by the citation count."
   ]
  },
  {
   "cell_type": "markdown",
   "metadata": {},
   "source": [
    "#### -Omics field:"
   ]
  },
  {
   "cell_type": "code",
   "execution_count": 30,
   "metadata": {},
   "outputs": [
    {
     "name": "stderr",
     "output_type": "stream",
     "text": [
      "Variable Field  is of the class factor. Type of explainer changed to 'factor'.\n",
      "Scale for 'x' is already present. Adding another scale for 'x', which will\n",
      "replace the existing scale.\n"
     ]
    },
    {
     "data": {},
     "metadata": {},
     "output_type": "display_data"
    },
    {
     "data": {
      "image/png": "[encoded data removed]",
      "text/plain": [
       "plot without title"
      ]
     },
     "metadata": {},
     "output_type": "display_data"
    }
   ],
   "source": [
    "plot(variable_response(model_explainer, variable =  \"Field\", type = \"ale\"))\n"
   ]
  },
  {
   "cell_type": "markdown",
   "metadata": {},
   "source": [
    "The results found here are coherent with the conclusions achieved during the exploratory analysis. These reuslts suggest it might be necessary to improve the minimum conditions to publish a study in fields where the phenotype exerts more influence (proteomics, metabolomics) as therem ight be an excessive generation of low p-values related to irreproducible results."
   ]
  },
  {
   "cell_type": "markdown",
   "metadata": {},
   "source": [
    "#### Species/kingdom analyzed:"
   ]
  },
  {
   "cell_type": "code",
   "execution_count": 31,
   "metadata": {},
   "outputs": [
    {
     "name": "stderr",
     "output_type": "stream",
     "text": [
      "Variable Species  is of the class factor. Type of explainer changed to 'factor'.\n",
      "Scale for 'x' is already present. Adding another scale for 'x', which will\n",
      "replace the existing scale.\n"
     ]
    },
    {
     "data": {},
     "metadata": {},
     "output_type": "display_data"
    },
    {
     "data": {
      "image/png": "[encoded data removed]",
      "text/plain": [
       "plot without title"
      ]
     },
     "metadata": {},
     "output_type": "display_data"
    }
   ],
   "source": [
    "plot(variable_response(model_explainer, variable =  \"Species\", type = \"ale\"))\n"
   ]
  },
  {
   "cell_type": "markdown",
   "metadata": {},
   "source": [
    "The results found here are coherent with the conclusions acchieved during the exploratory analysis. These results suggest it might be necessary to improve the minimum conditions to publish a study when studying bacteria or plants as the current output of low p-values might be excessive."
   ]
  },
  {
   "cell_type": "markdown",
   "metadata": {},
   "source": [
    "#### p-value dataset source:"
   ]
  },
  {
   "cell_type": "code",
   "execution_count": 32,
   "metadata": {},
   "outputs": [
    {
     "data": {},
     "metadata": {},
     "output_type": "display_data"
    },
    {
     "data": {
      "image/png": "[encoded data removed]",
      "text/plain": [
       "plot without title"
      ]
     },
     "metadata": {},
     "output_type": "display_data"
    }
   ],
   "source": [
    "plot(variable_response(model_explainer, variable =  \"dataset\", type = \"ale\"))\n"
   ]
  },
  {
   "cell_type": "markdown",
   "metadata": {},
   "source": [
    "As expected, the 'chavalarias2016' dataset (dataset==2) has a higher proportion of low p-values. Therefore, this confounder needs to be monitored in any study which uses the same repository of p-values like the one used in this study."
   ]
  },
  {
   "cell_type": "code",
   "execution_count": 33,
   "metadata": {},
   "outputs": [],
   "source": [
    "save.image(\"notebook_06_01_2019.RData\")"
   ]
  },
  {
   "cell_type": "code",
   "execution_count": null,
   "metadata": {},
   "outputs": [],
   "source": []
  }
 ],
 "metadata": {
  "kernelspec": {
   "display_name": "R",
   "language": "R",
   "name": "ir"
  },
  "language_info": {
   "codemirror_mode": "r",
   "file_extension": ".r",
   "mimetype": "text/x-r-source",
   "name": "R",
   "pygments_lexer": "r",
   "version": "3.5.2"
  }
 },
 "nbformat": 4,
 "nbformat_minor": 2
}
