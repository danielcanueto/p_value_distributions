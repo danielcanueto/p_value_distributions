{
 "cells": [
  {
   "cell_type": "markdown",
   "metadata": {},
   "source": [
    "# Exploratory analysis of the p-value dsitribution"
   ]
  },
  {
   "cell_type": "markdown",
   "metadata": {},
   "source": [
    "## Introduction"
   ]
  },
  {
   "cell_type": "markdown",
   "metadata": {},
   "source": [
    "To understand the solution designed to perform the analysis of p-value distributions, an exploratory analysis is hereafter shown. This analysis might help readers to understand the found distributions of reported p-values and the complexities in the analysis of factors which might influence the distribution of p-values."
   ]
  },
  {
   "cell_type": "markdown",
   "metadata": {},
   "source": [
    "The folder where the data is located is set as the working directory and the necessary libraries to perform the analysis are loaded."
   ]
  },
  {
   "cell_type": "code",
   "execution_count": 2,
   "metadata": {},
   "outputs": [],
   "source": [
    "setwd(\"C:\\\\Users\\\\dani5\\\\Documents\\\\Projects\\\\PhD\\\\p_value_dist\\\\data\")"
   ]
  },
  {
   "cell_type": "code",
   "execution_count": 3,
   "metadata": {},
   "outputs": [
    {
     "name": "stderr",
     "output_type": "stream",
     "text": [
      "\n",
      "Attaching package: 'dplyr'\n",
      "\n",
      "The following object is masked from 'package:gridExtra':\n",
      "\n",
      "    combine\n",
      "\n",
      "The following objects are masked from 'package:stats':\n",
      "\n",
      "    filter, lag\n",
      "\n",
      "The following objects are masked from 'package:base':\n",
      "\n",
      "    intersect, setdiff, setequal, union\n",
      "\n",
      "Loading required package: lattice\n"
     ]
    }
   ],
   "source": [
    "library(readr)\n",
    "library(tidypvals)\n",
    "library(ggplot2)\n",
    "library(grid)\n",
    "library(gridExtra)\n",
    "library(dplyr)\n",
    "library(caret)\n",
    "library(reshape2)"
   ]
  },
  {
   "cell_type": "markdown",
   "metadata": {},
   "source": [
    "## Loading of information"
   ]
  },
  {
   "cell_type": "markdown",
   "metadata": {},
   "source": [
    "The 'tidypvals' package contains a repository of milions of p-values with additional information such as the year of publication, the Pubmed ID and/or DOI of the article or the scientific field whom the article belongs to.\n",
    "\n",
    "https://github.com/jtleek/tidypvals\n",
    "\n",
    "From this repository, we create a dataset of p-values which merges the p-values (and associated information) extracted from two studies:\n",
    "\n",
    "head2015: http://journals.plos.org/plosbiology/article?id=10.1371/journal.pbio.1002106\n",
    "\n",
    "chavalarias2016: https://jamanetwork.com/journals/jama/fullarticle/10.1001/jama.2016.1952\n",
    "\n",
    "We also rename some columns to ease later integration of information with the one coming from other datasets."
   ]
  },
  {
   "cell_type": "code",
   "execution_count": 11,
   "metadata": {},
   "outputs": [
    {
     "name": "stderr",
     "output_type": "stream",
     "text": [
      "Joining, by = c(\"pvalue\", \"year\", \"journal\", \"field\", \"abstract\", \"operator\", \"doi\", \"pmid\")\n",
      "Joining, by = c(\"pvalue\", \"year\", \"journal\", \"field\", \"abstract\", \"operator\", \"doi\", \"pmid\")\n",
      "Joining, by = c(\"pvalue\", \"year\", \"journal\", \"field\", \"abstract\", \"operator\", \"doi\", \"pmid\")\n"
     ]
    }
   ],
   "source": [
    "#Merge of both study datasets (taking into account that some p-values are present in both datasets)\n",
    "aj1 = anti_join(head2015,chavalarias2016)%>%mutate(dataset=\"head2015\")\n",
    "aj2 = anti_join(chavalarias2016,head2015)%>%mutate(dataset=\"chavalarias2016\")\n",
    "sj1 = semi_join(head2015,chavalarias2016)%>%mutate(dataset=\"both\")\n",
    "\n",
    "allp = rbind(aj1,aj2,sj1) %>% \n",
    "#Renaming of columns to ease later integration of information\n",
    "mutate(EntrezUID=as.character(pmid),DOI=as.character(doi),dataset=as.factor(dataset)) %>%\n",
    "#Selection of relevant columns\n",
    "select(pvalue,EntrezUID,DOI,year,dataset)%>%\n",
    "#Filtering of incomplete data of identifiers (there are some p-vlaues without article identifier)\n",
    "na.omit(.)"
   ]
  },
  {
   "cell_type": "code",
   "execution_count": 12,
   "metadata": {},
   "outputs": [],
   "source": [
    "rm(aj1)\n",
    "rm(aj2)\n",
    "rm(sj1)"
   ]
  },
  {
   "cell_type": "markdown",
   "metadata": {},
   "source": [
    "The final p-values dataset ('allp') contains millions of p-values of multiple fields. However, we want to restrict the analysis of relevant factors in the distribution of p-values to the analysis of -omics fields in order to ensure accurate interpretability of the results.\n",
    "\n",
    "Therefore, the articles (and article identifiers) from four different -omics fields (genomics, transcriptomics, proteomics, metabolomics) have been found with search engines like Pubmed and Scopus. The article identifiers have been then used to filter the p-values only related to the study of one of the -omics fields ('allp_reduced')."
   ]
  },
  {
   "cell_type": "code",
   "execution_count": null,
   "metadata": {},
   "outputs": [],
   "source": [
    "#Loading of articles related to one of the -omics fields studied.\n",
    "\n",
    "omics_information=rbind(\n",
    "    read_csv(\"genomics.csv\")%>%select(EntrezUID)%>%mutate(Field=as.factor(\"Genomics\")),\n",
    "    read_csv(\"transcriptomics.csv\")%>%select(EntrezUID)%>%mutate(Field=as.factor(\"Transcriptomics\")),\n",
    "    read_csv(\"proteomics.csv\")%>%select(EntrezUID)%>%mutate(Field=as.factor(\"Proteomics\")),\n",
    "    read_csv('metabolomics_scopus_data.csv')%>%select(PubMed.ID)%>%rename(\"EntrezUID\" = \"PubMed.ID\")%>%\n",
    "    mutate(Field=as.factor(\"Metabolomics\")))"
   ]
  },
  {
   "cell_type": "code",
   "execution_count": 14,
   "metadata": {},
   "outputs": [],
   "source": [
    "#Filtering of the p-value dataset to contain only articles realted to the -omics fields.\n",
    "\n",
    "allp_reduced=allp %>%\n",
    "# filter(EntrezUID %in% omics_information$EntrezUID) %>% \n",
    "inner_join(.,omics_information,by=\"EntrezUID\")"
   ]
  },
  {
   "cell_type": "markdown",
   "metadata": {},
   "source": [
    "This is the summary of the final dataset of p-values obtained"
   ]
  },
  {
   "cell_type": "code",
   "execution_count": 15,
   "metadata": {},
   "outputs": [
    {
     "data": {
      "text/plain": [
       "     pvalue          EntrezUID             DOI                 year     \n",
       " Min.   : 0.00000   Length:138889      Length:138889      Min.   :2001  \n",
       " 1st Qu.: 0.00100   Class :character   Class :character   1st Qu.:2011  \n",
       " Median : 0.01900   Mode  :character   Mode  :character   Median :2012  \n",
       " Mean   : 0.06052                                         Mean   :2012  \n",
       " 3rd Qu.: 0.05000                                         3rd Qu.:2014  \n",
       " Max.   : 9.99989                                         Max.   :2015  \n",
       "            dataset                  Field      \n",
       " both           :49889   Genomics       :77287  \n",
       " chavalarias2016:81199   Transcriptomics:38174  \n",
       " head2015       : 7801   Proteomics     :17071  \n",
       "                         Metabolomics   : 6357  \n",
       "                                                \n",
       "                                                "
      ]
     },
     "metadata": {},
     "output_type": "display_data"
    }
   ],
   "source": [
    "summary(allp_reduced)"
   ]
  },
  {
   "cell_type": "markdown",
   "metadata": {},
   "source": [
    "An histogram of the numeric columns in the dataset shows this shape:"
   ]
  },
  {
   "cell_type": "code",
   "execution_count": 16,
   "metadata": {},
   "outputs": [
    {
     "name": "stderr",
     "output_type": "stream",
     "text": [
      "`stat_bin()` using `bins = 30`. Pick better value with `binwidth`.\n"
     ]
    },
    {
     "data": {},
     "metadata": {},
     "output_type": "display_data"
    },
    {
     "data": {
      "image/png": "[encoded data removed]",
      "text/plain": [
       "plot without title"
      ]
     },
     "metadata": {},
     "output_type": "display_data"
    }
   ],
   "source": [
    "options(repr.plot.width=7, repr.plot.height=3)\n",
    "allp_reduced %>%\n",
    "  purrr::keep(is.numeric) %>%\n",
    "  tidyr::gather() %>%\n",
    "  ggplot(aes(value)) +\n",
    "  facet_wrap(~ key, scales = \"free\") +\n",
    "  geom_histogram()"
   ]
  },
  {
   "cell_type": "markdown",
   "metadata": {},
   "source": [
    "We can see that the distribution of articles by year of publication is right tailed and that the distribution of p-values is extremely left-tailed. This is caused by the publication bias i.e. the tendency to report only p-values lower than 0.05.\n",
    "\n",
    "The best kind of visualization to analyze the distribution of p-values in the dataset is with a density plot with a logarithmic x-axis:"
   ]
  },
  {
   "cell_type": "code",
   "execution_count": 25,
   "metadata": {},
   "outputs": [
    {
     "name": "stderr",
     "output_type": "stream",
     "text": [
      "Warning message:\n",
      "\"Transformation introduced infinite values in continuous x-axis\"Warning message:\n",
      "\"Removed 18874 rows containing non-finite values (stat_density).\""
     ]
    },
    {
     "data": {},
     "metadata": {},
     "output_type": "display_data"
    },
    {
     "data": {
      "image/png": "[encoded data removed]",
      "text/plain": [
       "plot without title"
      ]
     },
     "metadata": {},
     "output_type": "display_data"
    }
   ],
   "source": [
    "options(repr.plot.width=7, repr.plot.height=3)\n",
    "\n",
    "allp_reduced %>%\n",
    "ggplot(aes(x=pvalue)) +\n",
    "geom_density(alpha=0.1,size=1.2,adjust = 1/2) +\n",
    "scale_x_log10(breaks=c(1e-6,1e-5,1e-4,0.001,0.005,0.01,0.05,0.1,1),limits=c(5e-5,0.2))+\n",
    "scale_color_brewer(palette = \"Set1\") +\n",
    "theme_bw() +\n",
    "theme(legend.position=\"bottom\",panel.border = element_blank(), panel.grid.major = element_blank(),\n",
    "                     panel.grid.minor = element_blank(), axis.line = element_line(colour = \"black\"))+\n",
    "labs(x = \"p-value\",y='Density')"
   ]
  },
  {
   "cell_type": "markdown",
   "metadata": {},
   "source": [
    "Several clear modes of density of reported p-values can be observed in the p-value distribution. The most important ones are 0.0001, 0.001, 0.01, 0.05.\n",
    "\n",
    "These modes are caused by the tendency to round the p-values to traditional thresholds depending on the \"intensity\" of the significant result. For example, a p-value of 0.008 would be probably rounded to the nearest higher mode (<=0.01). A p-value of 0.02 would be rounded to the nearest higher mode (<=0.05).\n",
    "\n",
    "In this study, according to this analysis of the p-value dsitribution, we make the assumption that the p-values rounded to one of those modes can actually be between this mode and the next lower one (i.e between 0.01 and 0.05). Therefore, when trying to perform studies like the one performed for this dataset, the binning behavior when reporting p-values needs to be reproduced with a binning of p-values in the dataset in order to accurately reflect the data present (i.e. (0,0.0001], (0.0001,0.001],(0.001,0.01],(0.01,0.05]). "
   ]
  },
  {
   "cell_type": "markdown",
   "metadata": {},
   "source": [
    "## Example of the influence of interactions between covariates"
   ]
  },
  {
   "cell_type": "markdown",
   "metadata": {},
   "source": [
    "With the obtained p-value dataset, we can start implementing analyses of the interaction between the analyzed features and the distribution of p-values.\n",
    "\n",
    "A first analysis can be related to the influence of the year of publication with the distribtuion of p-values:\n",
    "\n",
    "1. We cap the year of publication to between 2009 and 2014 to ease visualization.\n",
    "2. We transform the year of publication into a categorical variable.\n",
    "3. We correct the class imbalance in the categorical variable (by downsampling) to ensure the density plots can be accurately compared."
   ]
  },
  {
   "cell_type": "code",
   "execution_count": 26,
   "metadata": {},
   "outputs": [
    {
     "name": "stderr",
     "output_type": "stream",
     "text": [
      "Warning message:\n",
      "\"Transformation introduced infinite values in continuous x-axis\"Warning message:\n",
      "\"Removed 9553 rows containing non-finite values (stat_density).\""
     ]
    },
    {
     "data": {},
     "metadata": {},
     "output_type": "display_data"
    },
    {
     "data": {
      "image/png": "[encoded data removed]",
      "text/plain": [
       "plot without title"
      ]
     },
     "metadata": {},
     "output_type": "display_data"
    }
   ],
   "source": [
    "options(repr.plot.width=7, repr.plot.height=7)\n",
    "\n",
    "data=allp_reduced %>%\n",
    "mutate(year=cut(year,c(0,2009.5,2010.5,2011.5,2012.5,2013.5,2020),c(\"<=2009\",\"2010\",\"2011\",\"2012\",\"2013\",\">=2014\")))\n",
    "\n",
    "\n",
    "data=downSample(data,data$year,list=T)$x\n",
    "\n",
    "ggplot(data=data, aes(x=pvalue, colour=year))+\n",
    "geom_density(alpha=0.1,size=1.2,adjust = 1/2) +\n",
    "scale_x_log10(breaks=c(1e-6,1e-5,1e-4,0.001,0.005,0.01,0.05,0.1,1),limits=c(5e-5,0.2))+\n",
    "scale_color_brewer(palette = \"Set1\") + \n",
    "theme_bw() + \n",
    "theme(legend.position=\"bottom\",panel.border = element_blank(), panel.grid.major = element_blank(),\n",
    "                     panel.grid.minor = element_blank(), axis.line = element_line(colour = \"black\"))+\n",
    "  labs(x = \"p-value\",y='Density',title=\"Density plot of p values by year of publication\",colour='Year')"
   ]
  },
  {
   "cell_type": "markdown",
   "metadata": {},
   "source": [
    "According to the generated figure, we observe that, in theory, there is a clear correlation between the year of publication and the distribution of p-values. The articles from 2014 or later (yellow trace) have clearly the highest mode in the <=0.05 mode, while the articles from 2009 or before (red trace) have the lowest mode.\n",
    "\n",
    "We might start inferring from this figure possible attractive hypotheses about why recent articles have higher proportion of <=0.05 p-values  (e.g. higher pressure to publish, progresively more complex hypotheses tested with lower effect size).\n",
    "\n",
    "However, the actual cause behind the above shown figures might be the different data properties of the two p-value datasets used in this study. These two daasets were collected in different years. The 'chavalarias2016' dataset (blue trace) has a much higher proportion of p-values from 2014 or later:"
   ]
  },
  {
   "cell_type": "code",
   "execution_count": 27,
   "metadata": {},
   "outputs": [
    {
     "data": {},
     "metadata": {},
     "output_type": "display_data"
    },
    {
     "data": {
      "image/png": "[encoded data removed]",
      "text/plain": [
       "plot without title"
      ]
     },
     "metadata": {},
     "output_type": "display_data"
    }
   ],
   "source": [
    "set.seed(1);data=downSample(allp_reduced,allp_reduced$dataset,list=T)$x\n",
    "\n",
    "ggplot(data=data, aes(x=year, colour=dataset))+\n",
    "  geom_density(alpha=0.3,size=1.2) +\n",
    "# scale_x_log10() +\n",
    "scale_color_brewer(palette = \"Set1\") + \n",
    "theme_bw() + \n",
    "theme(legend.position=\"bottom\",panel.border = element_blank(), panel.grid.major = element_blank(),\n",
    "                     panel.grid.minor = element_blank(), axis.line = element_line(colour = \"black\"))+\n",
    "  labs(x = \"year\",y='Density',title=\"Density plot of articles per year by dataset\",colour='Dataset')"
   ]
  },
  {
   "cell_type": "markdown",
   "metadata": {},
   "source": [
    "The 'chavalarias2016' dataset has also a higher quantity of p-values between 0.01 and 0.05 (blue trace):"
   ]
  },
  {
   "cell_type": "code",
   "execution_count": 28,
   "metadata": {},
   "outputs": [
    {
     "name": "stderr",
     "output_type": "stream",
     "text": [
      "Warning message:\n",
      "\"Transformation introduced infinite values in continuous x-axis\"Warning message:\n",
      "\"Removed 2991 rows containing non-finite values (stat_density).\""
     ]
    },
    {
     "data": {},
     "metadata": {},
     "output_type": "display_data"
    },
    {
     "data": {
      "image/png": "[encoded data removed]",
      "text/plain": [
       "plot without title"
      ]
     },
     "metadata": {},
     "output_type": "display_data"
    }
   ],
   "source": [
    "options(repr.plot.width=7, repr.plot.height=7)\n",
    "\n",
    "data=downSample(allp_reduced,allp_reduced$dataset,list=T)$x\n",
    "\n",
    "ggplot(data=data, aes(x=pvalue, colour=dataset))+\n",
    "geom_density(alpha=0.1,size=1.2,adjust = 1/2) +\n",
    "scale_x_log10(breaks=c(1e-6,1e-5,1e-4,0.001,0.005,0.01,0.05,0.1,1),limits=c(5e-5,0.2))+\n",
    "scale_color_brewer(palette = \"Set1\") + \n",
    "theme_bw() + \n",
    "theme(legend.position=\"bottom\",panel.border = element_blank(), panel.grid.major = element_blank(),\n",
    "                     panel.grid.minor = element_blank(), axis.line = element_line(colour = \"black\"))+\n",
    "  labs(x = \"p-value\",y='Density',title=\"Density plot of p values by p-value dataset\",colour='Dataset')"
   ]
  },
  {
   "cell_type": "markdown",
   "metadata": {},
   "source": [
    "Therefore, the effect of the year of publication in the distribution of p-values might be caused by the much higher presence of articles from the 'chavalarias2016' dataset in the output of articles from 2014. Actually, the results of the training of a model predicting p-values ('pvalue_prediction_model_training.ipynb') suggests that the actual effect of the year of publciation in the distribution of p-valeus would be the opposite one."
   ]
  },
  {
   "cell_type": "markdown",
   "metadata": {},
   "source": [
    "This kind of interaction between covariates is constant and high between the several factors analyzed in the dataset and greatly challenges the possible implementation of statistical modelling approaches which try to model the several interactions present in the dataset. Any kind of statistical model and inference about the influecnce of the factors in the output of p-values should be very careful and open about the process performed.\n",
    "\n",
    "Because of this, our study consists of a machine learning based implementation of the prediction of p-values according to the factors studied (with later interpretability analyses of how each factor influences the distribution of p-values). ML prediction models are not focused on inference but on the prediction performance; therefore, they are not strict in the need of assumptions or pre-specification of interactions.\n",
    "\n",
    "The demonstration that the analyzed features can help improve the prediction of p-values would be a demonstration of the need to take into account these factors when analyzing the possibile quality of a study. In aiddition, the analysis of the effect of each variable to the prediction will help suggest possible measures to improvements the requirements to publish a study (e.g., -omics fields which show a higher output of low p-values should have higher requirements to publish a study).\n",
    "\n",
    "This ML-based study is shown in the 'pvalue_prediction_model_training.ipynb' notebook. The rest of this notebook shows exploratory analyses about how each factor might influence the distribution of p-values in order to get helpful insights which helped make choices to train the best possible prediction model."
   ]
  },
  {
   "cell_type": "markdown",
   "metadata": {},
   "source": [
    "## Exploratory analysis of the importance of the -omics field "
   ]
  },
  {
   "cell_type": "code",
   "execution_count": 5,
   "metadata": {},
   "outputs": [
    {
     "name": "stderr",
     "output_type": "stream",
     "text": [
      "Warning message:\n",
      "\"Transformation introduced infinite values in continuous x-axis\"Warning message:\n",
      "\"Removed 2767 rows containing non-finite values (stat_density).\""
     ]
    },
    {
     "data": {},
     "metadata": {},
     "output_type": "display_data"
    },
    {
     "data": {
      "image/png": "[encoded data removed]",
      "text/plain": [
       "plot without title"
      ]
     },
     "metadata": {},
     "output_type": "display_data"
    }
   ],
   "source": [
    "options(repr.plot.width=7, repr.plot.height=7)\n",
    "\n",
    "data=downSample(allp_reduced,allp_reduced$Field,list=T)$x\n",
    "\n",
    "ggplot(data=data, aes(x=pvalue, colour=Field))+\n",
    "geom_density(alpha=0.1,size=1.2,adjust = 1/2) +\n",
    "scale_x_log10(breaks=c(1e-6,1e-5,1e-4,0.001,0.005,0.01,0.05,0.1,1),limits=c(5e-5,0.2))+\n",
    "scale_color_brewer(palette = \"Set1\") + \n",
    "theme_bw() + \n",
    "theme(legend.position=\"bottom\",panel.border = element_blank(), panel.grid.major = element_blank(),\n",
    "                     panel.grid.minor = element_blank(), axis.line = element_line(colour = \"black\"))+\n",
    "  labs(x = \"p-value\",y='Density',title=\"Density plot of p values by -omics field\",colour='Field')"
   ]
  },
  {
   "cell_type": "markdown",
   "metadata": {},
   "source": [
    "It should be expected that the higher the influence of the phenotype in the field studied, the higher the variance in the effect size and the higher the possibility of reporting \"high\" p-values (i.e., between 0.01 and 0.05). In concordance with this intuition, the highest <=0.05 mode of p-values is found with -omics fields such as proteomics or metabolomics, and the lowest mode is found in the p-values of the genomics field. The <=0.01 mode shows a similar pattern.\n",
    "\n",
    "In addition, the higher variance in the dataset might oblige to perform multiple pre-processing steps to the dataset which give room to maneuver to find significant p-values accidentally. \n",
    "\n",
    "However, it should not be discarded that the journals of certain -omics fields have more tendency to round p-values than the journals in other fields."
   ]
  },
  {
   "cell_type": "markdown",
   "metadata": {},
   "source": [
    "## Exploratory analysis of relationship between citation count and distribution of p-values"
   ]
  },
  {
   "cell_type": "markdown",
   "metadata": {},
   "source": [
    "The citation count of an article is the best parameter present in scientific research to infer the possible quality of an article without reading it.\n",
    "\n",
    "If the distribution of p-values is a good indicator of the quality of research, there should be a relationship between the citation count and the dsitribution of p-values.\n",
    "\n",
    "To confirm this hypothesis, the citation count of the articles from the p-value dataset was when possible extracted and added to the p-value dataset. Next, the citation count was binned into four quartiles to allow visualization of p-value dsitributions. The citation binning was grouped by the -omics field, as the citation count is dependent on the number of research groups and studies performed in each -omic field. "
   ]
  },
  {
   "cell_type": "code",
   "execution_count": null,
   "metadata": {},
   "outputs": [],
   "source": [
    "genomics_citation_data = merge(\n",
    "    rbind(\n",
    "        read_csv(\"genomics_citation_1.csv\",skip=6) %>% select(c(1:7,ncol(.))) %>% rename(\"Citation\" = !!names(.[8])),\n",
    "        read_csv(\"genomics_citation_2.csv\",skip=6) %>% select(c(1:7,ncol(.))) %>% rename(\"Citation\" = !!names(.[8]))\n",
    "        ) %>% distinct() %>% rename(\"Title\" = \"Document Title\"),\n",
    "    rbind(\n",
    "        read_csv(\"genomics_scopus_1.csv\"),\n",
    "        read_csv(\"genomics_scopus_2.csv\")\n",
    "        ) %>% distinct(),\n",
    "    by='Title')  %>% \n",
    "select(DOI,Citation) %>% \n",
    "mutate(Field=\"Genomics\",Citation=cut(as.numeric(Citation), \n",
    "    quantile(Citation,seq(0,1,0.25)), \n",
    "    labels = c('4th quartile','3rd quartile','2nd quartile','1st quartile'),\n",
    "    include.lowest = T))\n",
    "\n",
    "transcriptomics_citation_data = merge(\n",
    "    rbind(\n",
    "        read_csv(\"transcriptomics_citation_1.csv\",skip=6) %>% select(c(1:7,ncol(.))) %>% rename(\"Citation\" = !!names(.[8])),\n",
    "        read_csv(\"transcriptomics_citation_2.csv\",skip=6) %>% select(c(1:7,ncol(.))) %>% rename(\"Citation\" = !!names(.[8]))\n",
    "        ) %>% distinct() %>% rename(\"Title\" = \"Document Title\"),\n",
    "    rbind(\n",
    "        read_csv(\"transcriptomics_scopus_1.csv\"),\n",
    "        read_csv(\"transcriptomics_scopus_2.csv\")\n",
    "        ) %>% distinct(),\n",
    "    by='Title')  %>% \n",
    "select(DOI,Citation) %>% \n",
    "mutate(Field=\"Transcriptomics\",Citation=cut(as.numeric(Citation), \n",
    "    quantile(Citation,seq(0,1,0.25)), \n",
    "    labels = c('4th quartile','3rd quartile','2nd quartile','1st quartile'),\n",
    "    include.lowest = T))\n",
    "\n",
    "proteomics_citation_data = merge(\n",
    "    rbind(\n",
    "        read_csv(\"proteomics_citation_1.csv\",skip=6) %>% select(c(1:7,ncol(.))) %>% rename(\"Citation\" = !!names(.[8])),\n",
    "        read_csv(\"proteomics_citation_2.csv\",skip=6) %>% select(c(1:7,ncol(.))) %>% rename(\"Citation\" = !!names(.[8]))\n",
    "        ) %>% distinct() %>% rename(\"Title\" = \"Document Title\"),\n",
    "    rbind(\n",
    "        read_csv(\"proteomics_scopus_1.csv\"),\n",
    "        read_csv(\"proteomics_scopus_2.csv\")\n",
    "        ) %>% distinct(),\n",
    "    by='Title')  %>% \n",
    "select(DOI,Citation) %>% \n",
    "mutate(Field=\"Proteomics\",Citation=cut(as.numeric(Citation), \n",
    "    quantile(Citation,seq(0,1,0.25)), \n",
    "    labels = c('4th quartile','3rd quartile','2nd quartile','1st quartile'),\n",
    "    include.lowest = T))\n",
    "\n",
    "metabolomics_citation_data = merge(\n",
    "        read_csv(\"metabolomics_citation.csv\",skip=6) %>% select(c(1:7,ncol(.))) %>% rename(\"Citation\" = !!names(.[8]))\n",
    "        %>% rename(\"Title\" = \"Document Title\"),\n",
    "        read_csv(\"metabolomics_scopus.csv\"),\n",
    "    by='Title')  %>% \n",
    "select(DOI,Citation) %>% \n",
    "mutate(Field=\"Metabolomics\",Citation=cut(as.numeric(Citation), \n",
    "    quantile(Citation,seq(0,1,0.25)), \n",
    "    labels = c('4th quartile','3rd quartile','2nd quartile','1st quartile'),\n",
    "    include.lowest = T))"
   ]
  },
  {
   "cell_type": "code",
   "execution_count": 48,
   "metadata": {},
   "outputs": [],
   "source": [
    "citation_information=rbind(genomics_citation_data,\n",
    "              transcriptomics_citation_data,\n",
    "              proteomics_citation_data,\n",
    "              metabolomics_citation_data)"
   ]
  },
  {
   "cell_type": "code",
   "execution_count": 49,
   "metadata": {},
   "outputs": [],
   "source": [
    "data=allp_reduced %>%\n",
    "left_join(citation_information,by=\"DOI\")%>%\n",
    "mutate(Field=Field.x)%>%\n",
    "filter(!is.na(Citation))\n",
    "\n",
    "data=downSample(data,data$Citation,list=T)$x"
   ]
  },
  {
   "cell_type": "code",
   "execution_count": 51,
   "metadata": {},
   "outputs": [
    {
     "name": "stderr",
     "output_type": "stream",
     "text": [
      "Warning message:\n",
      "\"Transformation introduced infinite values in continuous x-axis\"Warning message:\n",
      "\"Removed 8524 rows containing non-finite values (stat_density).\""
     ]
    },
    {
     "data": {},
     "metadata": {},
     "output_type": "display_data"
    },
    {
     "data": {
      "image/png": "[encoded data removed]",
      "text/plain": [
       "plot without title"
      ]
     },
     "metadata": {},
     "output_type": "display_data"
    }
   ],
   "source": [
    "options(repr.plot.width=8, repr.plot.height=7)\n",
    "\n",
    "ggplot(data=data, aes(x=pvalue, colour=Citation))+\n",
    "  facet_wrap(~ Field, scales = \"free\") +\n",
    "geom_density(alpha=0.1,size=1.2,adjust = 1/2) +\n",
    "scale_x_log10(breaks=c(1e-6,1e-5,1e-4,0.001,0.005,0.01,0.05,0.1,1),limits=c(5e-5,0.2))+\n",
    "scale_color_brewer(palette = \"Set1\") +\n",
    "theme_bw() +\n",
    "theme(legend.position=\"bottom\",panel.border = element_blank(), panel.grid.major = element_blank(),\n",
    "                     panel.grid.minor = element_blank(), axis.line = element_line(colour = \"black\"))+\n",
    "labs(x = \"p-value\",y='Density',colour='Citation',title=\"Density plot of p values by citation\")\n"
   ]
  },
  {
   "cell_type": "markdown",
   "metadata": {},
   "source": [
    "In all -omics fields, it can be confirmed that there is a relationship between the dsitribution of p-values and the citation count. The articles in the first quartile of citation count (purple trace) show the lowest reporting of <=0.05 p-values,the articles in the fourth quartile (red trace) show the highest reporting of <=0.05 p-values.\n",
    "\n",
    "Interestingly, the starkest differences between quartiles are present in the proteomics and metabolomics fields, in consonance with the importance of the -omic field observed in the previous section."
   ]
  },
  {
   "cell_type": "markdown",
   "metadata": {},
   "source": [
    "## Exploratory analysis of importance of country affiliation"
   ]
  },
  {
   "cell_type": "markdown",
   "metadata": {},
   "source": [
    "The information about the country of affiliation analyzed is loaded and then merged with the p-value dataset, before downsampling and plotting the figure."
   ]
  },
  {
   "cell_type": "code",
   "execution_count": null,
   "metadata": {},
   "outputs": [],
   "source": [
    "country_proteomics=rbind(\n",
    "    read_csv(\"germany_proteomics.csv\")%>%mutate(Country=\"Germany\"),\n",
    "    read_csv(\"china_proteomics.csv\")%>%mutate(Country=\"China\"),\n",
    "    read_csv(\"us_proteomics.csv\")%>%mutate(Country=\"US\"),\n",
    "    read_csv(\"spain_proteomics.csv\")%>%mutate(Country=\"Spain\"),\n",
    "    read_csv(\"uk_proteomics.csv\")%>%mutate(Country=\"UK\"),\n",
    "    read_csv(\"france_proteomics.csv\")%>%mutate(Country=\"France\"),\n",
    "    read_csv(\"italy_proteomics.csv\")%>%mutate(Country=\"Italy\"),\n",
    "    read_csv(\"japan_proteomics.csv\")%>%mutate(Country=\"Japan\"),\n",
    "    read_csv(\"netherlands_proteomics.csv\")%>%mutate(Country=\"Netherlands\"),\n",
    "    read_csv(\"canada_proteomics.csv\")%>%mutate(Country=\"Canada\")\n",
    ") %>% select(EntrezUID,Country) %>% mutate(Field=as.factor(\"Proteomics\"),Country=as.factor(Country))\n",
    "\n",
    "country_genomics=rbind(\n",
    "    read_csv(\"germany_genomics.csv\")%>%mutate(Country=\"Germany\"),\n",
    "    read_csv(\"china_genomics.csv\")%>%mutate(Country=\"China\"),\n",
    "    read_csv(\"us_genomics.csv\")%>%mutate(Country=\"US\"),\n",
    "    read_csv(\"spain_genomics.csv\")%>%mutate(Country=\"Spain\"),\n",
    "    read_csv(\"uk_genomics.csv\")%>%mutate(Country=\"UK\"),\n",
    "    read_csv(\"france_genomics.csv\")%>%mutate(Country=\"France\"),\n",
    "    read_csv(\"italy_genomics.csv\")%>%mutate(Country=\"Italy\"),\n",
    "    read_csv(\"japan_genomics.csv\")%>%mutate(Country=\"Japan\"),\n",
    "    read_csv(\"netherlands_genomics.csv\")%>%mutate(Country=\"Netherlands\"),\n",
    "    read_csv(\"canada_genomics.csv\")%>%mutate(Country=\"Canada\")\n",
    ") %>% select(EntrezUID,Country) %>% mutate(Field=as.factor(\"Genomics\"),Country=as.factor(Country))\n",
    "\n",
    "country_transcriptomics=rbind(\n",
    "    read_csv(\"germany_transcriptomics.csv\")%>%mutate(Country=\"Germany\"),\n",
    "    read_csv(\"china_transcriptomics.csv\")%>%mutate(Country=\"China\"),\n",
    "    read_csv(\"us_transcriptomics.csv\")%>%mutate(Country=\"US\"),\n",
    "    read_csv(\"spain_transcriptomics.csv\")%>%mutate(Country=\"Spain\"),\n",
    "    read_csv(\"uk_transcriptomics.csv\")%>%mutate(Country=\"UK\"),\n",
    "    read_csv(\"france_transcriptomics.csv\")%>%mutate(Country=\"France\"),\n",
    "    read_csv(\"italy_transcriptomics.csv\")%>%mutate(Country=\"Italy\"),\n",
    "    read_csv(\"japan_transcriptomics.csv\")%>%mutate(Country=\"Japan\"),\n",
    "    read_csv(\"netherlands_transcriptomics.csv\")%>%mutate(Country=\"Netherlands\"),\n",
    "    read_csv(\"canada_transcriptomics.csv\")%>%mutate(Country=\"Canada\")\n",
    ") %>% select(EntrezUID,Country) %>% mutate(Field=as.factor(\"Transcriptomics\"),Country=as.factor(Country))\n",
    "\n",
    "metabolomics_scopus_data=read_csv('metabolomics_scopus_data.csv')\n",
    "\n",
    "country_metabolomics=rbind(\n",
    "    metabolomics_scopus_data[grep('Germany',metabolomics_scopus_data$Affiliations),]%>%mutate(Country=\"Germany\"),\n",
    "    metabolomics_scopus_data[grep('China',metabolomics_scopus_data$Affiliations),]%>%mutate(Country=\"China\"),\n",
    "    metabolomics_scopus_data[grep('United States',metabolomics_scopus_data$Affiliations),]%>%mutate(Country=\"US\"),\n",
    "    metabolomics_scopus_data[grep('Spain',metabolomics_scopus_data$Affiliations),]%>%mutate(Country=\"Spain\"),\n",
    "    metabolomics_scopus_data[grep('United Kingdom',metabolomics_scopus_data$Affiliations),]%>%mutate(Country=\"UK\"),\n",
    "    metabolomics_scopus_data[grep('France',metabolomics_scopus_data$Affiliations),]%>%mutate(Country=\"France\"),\n",
    "    metabolomics_scopus_data[grep('Italy',metabolomics_scopus_data$Affiliations),]%>%mutate(Country=\"Italy\"),\n",
    "    metabolomics_scopus_data[grep('Japan',metabolomics_scopus_data$Affiliations),]%>%mutate(Country=\"Japan\"),\n",
    "    metabolomics_scopus_data[grep('Netherlands',metabolomics_scopus_data$Affiliations),]%>%mutate(Country=\"Netherlands\"),\n",
    "    metabolomics_scopus_data[grep('Canada',metabolomics_scopus_data$Affiliations),]%>%mutate(Country=\"Canada\")\n",
    ") %>% mutate(Field=as.factor(\"Metabolomics\"),EntrezUID=as.character(PubMed.ID),Country=as.factor(Country)) %>% \n",
    "select(EntrezUID,Country,Field) \n",
    "\n"
   ]
  },
  {
   "cell_type": "code",
   "execution_count": 36,
   "metadata": {},
   "outputs": [],
   "source": [
    "country_information=rbind(country_genomics,\n",
    "              country_transcriptomics,\n",
    "              country_proteomics,\n",
    "              country_metabolomics) %>% select(-Field)"
   ]
  },
  {
   "cell_type": "code",
   "execution_count": 37,
   "metadata": {},
   "outputs": [],
   "source": [
    "data=allp_reduced %>%\n",
    "left_join(country_information,by=\"EntrezUID\") %>%\n",
    "filter(!is.na(Country))\n",
    "\n",
    "data=downSample(data,data$Country,list=T)$x\n",
    "\n",
    "data$EU=\"EU Countries\"\n",
    "data$EU[data$Country %in% c(\"Canada\",\"China\",\"Japan\",\"US\")]=\"Not EU countries\"\n",
    "data$EU=as.factor(data$EU)"
   ]
  },
  {
   "cell_type": "code",
   "execution_count": 41,
   "metadata": {},
   "outputs": [
    {
     "name": "stderr",
     "output_type": "stream",
     "text": [
      "Warning message:\n",
      "\"Transformation introduced infinite values in continuous x-axis\"Warning message:\n",
      "\"Removed 6515 rows containing non-finite values (stat_density).\""
     ]
    },
    {
     "data": {},
     "metadata": {},
     "output_type": "display_data"
    },
    {
     "data": {
      "image/png": "[encoded data removed]",
      "text/plain": [
       "plot without title"
      ]
     },
     "metadata": {},
     "output_type": "display_data"
    }
   ],
   "source": [
    "options(repr.plot.width=8, repr.plot.height=7)\n",
    "\n",
    "ggplot(data=data, aes(x=pvalue, colour=Country))+\n",
    "  facet_wrap(~ EU, scales = \"free\") +\n",
    "geom_density(alpha=0.1,size=1.2,adjust = 1/2) +\n",
    "scale_x_log10(breaks=c(1e-6,1e-5,1e-4,0.001,0.005,0.01,0.05,0.1,1),limits=c(5e-5,0.2))+\n",
    "scale_y_continuous(limits=c(0,5))+\n",
    "scale_color_brewer(palette = \"Paired\") +\n",
    "theme_bw() +\n",
    "theme(legend.position=\"bottom\",panel.border = element_blank(), panel.grid.major = element_blank(),\n",
    "                     panel.grid.minor = element_blank(), axis.line = element_line(colour = \"black\"))+\n",
    "labs(x = \"p-value\",y='Density',colour='Country',title=\"Density plot of p values by country of affiliation\")"
   ]
  },
  {
   "cell_type": "markdown",
   "metadata": {},
   "source": [
    "Most countries show a similar distribution of p-values. Regarding the mode of <=0.05 p-values, the interesting patterns are the low modes of UK (violet, left figure) and Japan (dark red, right figure) articles, the high mode of p-values of articles with Spanish affiliation (dark orange, left figure) and the very different patterns of articles with China as country affiliation (dark blue, right figure).\n",
    "\n",
    "A very important confounder in this analysis is the effect of the impact of the research performed. Countries which still tend to develop research of lower impact (because of recent scientific emergence) might present studies with lower sample sizes and hypotheses of lower effect size. These challenges might mediate the high generation of (0.01-0.05] p-values."
   ]
  },
  {
   "cell_type": "markdown",
   "metadata": {},
   "source": [
    "## Exploratory analysis of importance of species/kingdom studied"
   ]
  },
  {
   "cell_type": "markdown",
   "metadata": {},
   "source": [
    "The information about the species/kingdom analyzed is loaded and then merged with the p-value dataset, before downsampling and plotting the figure."
   ]
  },
  {
   "cell_type": "code",
   "execution_count": null,
   "metadata": {},
   "outputs": [],
   "source": [
    "species_proteomics=rbind(\n",
    "    read_csv(\"human_proteomics.csv\")%>%mutate(Species=\"Human\"),\n",
    "    read_csv(\"animal_proteomics.csv\")%>%mutate(Species=\"Animal\"),\n",
    "    read_csv(\"plant_proteomics.csv\")%>%mutate(Species=\"Plant\"),\n",
    "    read_csv(\"bacteria_proteomics.csv\")%>%mutate(Species=\"Bacteria\")\n",
    ") %>% select(EntrezUID,Species) %>% mutate(Field=as.factor(\"Proteomics\"),Species=as.factor(Species))\n",
    "\n",
    "species_genomics=rbind(\n",
    "    read_csv(\"human_genomics.csv\")%>%mutate(Species=\"Human\"),\n",
    "    read_csv(\"animal_genomics.csv\")%>%mutate(Species=\"Animal\"),\n",
    "    read_csv(\"plant_genomics.csv\")%>%mutate(Species=\"Plant\"),\n",
    "    read_csv(\"bacteria_genomics.csv\")%>%mutate(Species=\"Bacteria\")\n",
    ") %>% select(EntrezUID,Species) %>% mutate(Field=as.factor(\"Genomics\"),Species=as.factor(Species))\n",
    "\n",
    "\n",
    "species_transcriptomics=rbind(\n",
    "    read_csv(\"human_transcriptomics.csv\")%>%mutate(Species=\"Human\"),\n",
    "    read_csv(\"animal_transcriptomics.csv\")%>%mutate(Species=\"Animal\"),\n",
    "    read_csv(\"plant_transcriptomics.csv\")%>%mutate(Species=\"Plant\"),\n",
    "    read_csv(\"bacteria_transcriptomics.csv\")%>%mutate(Species=\"Bacteria\")\n",
    ") %>% select(EntrezUID,Species) %>% mutate(Field=as.factor(\"Transcriptomics\"),Species=as.factor(Species))\n",
    "\n",
    "species_metabolomics=rbind(\n",
    "    metabolomics_scopus_data[grep('human',metabolomics_scopus_data$Abstract),]%>%mutate(Species=\"Human\"),\n",
    "    metabolomics_scopus_data[grep('animal',metabolomics_scopus_data$Abstract),]%>%mutate(Species=\"Animal\"),\n",
    "    metabolomics_scopus_data[grep('plant',metabolomics_scopus_data$Abstract),]%>%mutate(Species=\"Plant\"),\n",
    "    metabolomics_scopus_data[grep('bacteria',metabolomics_scopus_data$Abstract),]%>%mutate(Species=\"Bacteria\")\n",
    ") %>% mutate(Field=as.factor(\"Metabolomics\"),EntrezUID=as.character(PubMed.ID),Species=as.factor(Species)) %>% \n",
    "select(EntrezUID,Species,Field) \n"
   ]
  },
  {
   "cell_type": "code",
   "execution_count": 43,
   "metadata": {},
   "outputs": [],
   "source": [
    "species_information=rbind(species_genomics,\n",
    "              species_transcriptomics,\n",
    "              species_proteomics,\n",
    "              species_metabolomics) %>% select(-Field)"
   ]
  },
  {
   "cell_type": "code",
   "execution_count": 44,
   "metadata": {},
   "outputs": [],
   "source": [
    "data=allp_reduced %>%\n",
    "left_join(species_information,by=\"EntrezUID\")%>%\n",
    "filter(!is.na(Species))\n",
    "\n",
    "data=downSample(data,data$Species,list=T)$x"
   ]
  },
  {
   "cell_type": "code",
   "execution_count": 46,
   "metadata": {},
   "outputs": [
    {
     "name": "stderr",
     "output_type": "stream",
     "text": [
      "Warning message:\n",
      "\"Transformation introduced infinite values in continuous x-axis\"Warning message:\n",
      "\"Removed 10995 rows containing non-finite values (stat_density).\""
     ]
    },
    {
     "data": {},
     "metadata": {},
     "output_type": "display_data"
    },
    {
     "data": {
      "image/png": "[encoded data removed]",
      "text/plain": [
       "plot without title"
      ]
     },
     "metadata": {},
     "output_type": "display_data"
    }
   ],
   "source": [
    "options(repr.plot.width=7, repr.plot.height=7)\n",
    "\n",
    "ggplot(data=data, aes(x=pvalue, colour=Species))+\n",
    "geom_density(alpha=0.1,size=1.2,adjust = 1/2) +\n",
    "scale_x_log10(breaks=c(1e-6,1e-5,1e-4,0.001,0.005,0.01,0.05,0.1,1),limits=c(5e-5,0.2))+\n",
    "scale_color_brewer(palette = \"Set1\") +\n",
    "theme_bw() +\n",
    "theme(legend.position=\"bottom\",panel.border = element_blank(), panel.grid.major = element_blank(),\n",
    "                     panel.grid.minor = element_blank(), axis.line = element_line(colour = \"black\"))+\n",
    "labs(x = \"p-value\",y='Density',colour='Species',title=\"Density plot of p values by species/kingdom\")\n"
   ]
  },
  {
   "cell_type": "markdown",
   "metadata": {},
   "source": [
    "Articles whose species to study is humans show the lowest mode of <=0.01 and <=0.05 p-values. In contrast, articles which study plants show the highest mode of <=0.01 and <=0.05 p-values.\n",
    "\n",
    "An intuitive explanation to this result is the effect of the standardization of protocols: species which have been more studied (humans, certain animals) have developed more strict protocols which ensure lower varaiiblity in the preparation of samples or in the pre-processing of the obtained data."
   ]
  },
  {
   "cell_type": "code",
   "execution_count": 4,
   "metadata": {},
   "outputs": [],
   "source": [
    "save.image('exploratory_analysis.RData')"
   ]
  },
  {
   "cell_type": "code",
   "execution_count": 5,
   "metadata": {},
   "outputs": [
    {
     "name": "stderr",
     "output_type": "stream",
     "text": [
      "Parsed with column specification:\n",
      "cols(\n",
      "  `Publication Year` = col_double(),\n",
      "  `Document Title` = col_character(),\n",
      "  Authors = col_character(),\n",
      "  ISSN = col_character(),\n",
      "  `Journal Title` = col_character(),\n",
      "  Volume = col_character(),\n",
      "  Issue = col_character(),\n",
      "  `17` = col_double(),\n",
      "  `30` = col_double(),\n",
      "  `2` = col_double(),\n",
      "  `10` = col_double(),\n",
      "  `39` = col_double(),\n",
      "  `3585` = col_double(),\n",
      "  `24296` = col_double(),\n",
      "  `57856` = col_double(),\n",
      "  `94629` = col_double(),\n",
      "  `180447` = col_double(),\n",
      "  `324693` = col_double(),\n",
      "  `505157` = col_double()\n",
      ")\n",
      "Parsed with column specification:\n",
      "cols(\n",
      "  `Publication Year` = col_double(),\n",
      "  `Document Title` = col_character(),\n",
      "  Authors = col_character(),\n",
      "  ISSN = col_character(),\n",
      "  `Journal Title` = col_character(),\n",
      "  Volume = col_character(),\n",
      "  Issue = col_character(),\n",
      "  `78` = col_double(),\n",
      "  `4999` = col_double(),\n",
      "  `23787` = col_double(),\n",
      "  `51563` = col_double(),\n",
      "  `77816` = col_double(),\n",
      "  `106674` = col_double(),\n",
      "  `131524` = col_double(),\n",
      "  `134784` = col_double(),\n",
      "  `130552` = col_double(),\n",
      "  `661699` = col_double(),\n",
      "  `304299` = col_double(),\n",
      "  `966076` = col_double()\n",
      ")\n",
      "Parsed with column specification:\n",
      "cols(\n",
      "  Authors = col_character(),\n",
      "  Title = col_character(),\n",
      "  Year = col_double(),\n",
      "  `Source title` = col_character(),\n",
      "  Volume = col_character(),\n",
      "  Issue = col_character(),\n",
      "  `Art. No.` = col_character(),\n",
      "  `Page start` = col_character(),\n",
      "  `Page end` = col_character(),\n",
      "  `Page count` = col_character(),\n",
      "  `Cited by` = col_double(),\n",
      "  DOI = col_character(),\n",
      "  Link = col_character(),\n",
      "  `Document Type` = col_character(),\n",
      "  Source = col_character(),\n",
      "  EID = col_character()\n",
      ")\n",
      "Warning message:\n",
      "\"15 parsing failures.\n",
      " row          col           expected     actual                    file\n",
      " 431 NA           16 columns         18 columns 'genomics_scopus_1.csv'\n",
      " 804 NA           16 columns         18 columns 'genomics_scopus_1.csv'\n",
      "7261 Source title delimiter or quote P          'genomics_scopus_1.csv'\n",
      "7261 Source title delimiter or quote h          'genomics_scopus_1.csv'\n",
      "7261 NA           16 columns         7 columns  'genomics_scopus_1.csv'\n",
      ".... ............ .................. .......... .......................\n",
      "See problems(...) for more details.\n",
      "\"Parsed with column specification:\n",
      "cols(\n",
      "  Authors = col_character(),\n",
      "  Title = col_character(),\n",
      "  Year = col_double(),\n",
      "  `Source title` = col_character(),\n",
      "  Volume = col_character(),\n",
      "  Issue = col_character(),\n",
      "  `Art. No.` = col_character(),\n",
      "  `Page start` = col_character(),\n",
      "  `Page end` = col_character(),\n",
      "  `Page count` = col_character(),\n",
      "  `Cited by` = col_double(),\n",
      "  DOI = col_character(),\n",
      "  Link = col_character(),\n",
      "  `Document Type` = col_character(),\n",
      "  Source = col_character(),\n",
      "  EID = col_character()\n",
      ")\n",
      "Warning message:\n",
      "\"5 parsing failures.\n",
      "  row          col           expected     actual                    file\n",
      "  306 Source title delimiter or quote D          'genomics_scopus_2.csv'\n",
      "  306 Source title delimiter or quote            'genomics_scopus_2.csv'\n",
      " 2826 NA           16 columns         17 columns 'genomics_scopus_2.csv'\n",
      " 8250 NA           16 columns         17 columns 'genomics_scopus_2.csv'\n",
      "19302 NA           16 columns         17 columns 'genomics_scopus_2.csv'\n",
      "\"Parsed with column specification:\n",
      "cols(\n",
      "  `Publication Year` = col_double(),\n",
      "  `Document Title` = col_character(),\n",
      "  Authors = col_character(),\n",
      "  ISSN = col_character(),\n",
      "  `Journal Title` = col_character(),\n",
      "  Volume = col_character(),\n",
      "  Issue = col_character(),\n",
      "  `21` = col_double(),\n",
      "  `20` = col_double(),\n",
      "  `0` = col_double(),\n",
      "  `2` = col_double(),\n",
      "  `19` = col_double(),\n",
      "  `1026` = col_double(),\n",
      "  `14195` = col_double(),\n",
      "  `44240` = col_double(),\n",
      "  `84525` = col_double(),\n",
      "  `144027` = col_double(),\n",
      "  `323361` = col_double(),\n",
      "  `467409` = col_double()\n",
      ")\n",
      "Parsed with column specification:\n",
      "cols(\n",
      "  `Publication Year` = col_double(),\n",
      "  `Document Title` = col_character(),\n",
      "  Authors = col_character(),\n",
      "  ISSN = col_character(),\n",
      "  `Journal Title` = col_character(),\n",
      "  Volume = col_character(),\n",
      "  Issue = col_character(),\n",
      "  `42` = col_double(),\n",
      "  `1332` = col_double(),\n",
      "  `7373` = col_double(),\n",
      "  `16556` = col_double(),\n",
      "  `29007` = col_double(),\n",
      "  `42892` = col_double(),\n",
      "  `66527` = col_double(),\n",
      "  `96895` = col_double(),\n",
      "  `126457` = col_double(),\n",
      "  `387039` = col_double(),\n",
      "  `330820` = col_double(),\n",
      "  `717901` = col_double()\n",
      ")\n",
      "Parsed with column specification:\n",
      "cols(\n",
      "  Authors = col_character(),\n",
      "  Title = col_character(),\n",
      "  Year = col_double(),\n",
      "  `Source title` = col_character(),\n",
      "  Volume = col_character(),\n",
      "  Issue = col_character(),\n",
      "  `Art. No.` = col_character(),\n",
      "  `Page start` = col_character(),\n",
      "  `Page end` = col_character(),\n",
      "  `Page count` = col_character(),\n",
      "  `Cited by` = col_double(),\n",
      "  DOI = col_character(),\n",
      "  Link = col_character(),\n",
      "  `Document Type` = col_character(),\n",
      "  Source = col_character(),\n",
      "  EID = col_character()\n",
      ")\n",
      "Warning message:\n",
      "\"4 parsing failures.\n",
      " row          col           expected actual                           file\n",
      "1038 Source title delimiter or quote      D 'transcriptomics_scopus_1.csv'\n",
      "1038 Source title delimiter or quote        'transcriptomics_scopus_1.csv'\n",
      "5690 Source title delimiter or quote      D 'transcriptomics_scopus_1.csv'\n",
      "5690 Source title delimiter or quote        'transcriptomics_scopus_1.csv'\n",
      "\"Parsed with column specification:\n",
      "cols(\n",
      "  Authors = col_character(),\n",
      "  Title = col_character(),\n",
      "  Year = col_double(),\n",
      "  `Source title` = col_character(),\n",
      "  Volume = col_character(),\n",
      "  Issue = col_character(),\n",
      "  `Art. No.` = col_character(),\n",
      "  `Page start` = col_character(),\n",
      "  `Page end` = col_character(),\n",
      "  `Page count` = col_character(),\n",
      "  `Cited by` = col_double(),\n",
      "  DOI = col_character(),\n",
      "  Link = col_character(),\n",
      "  `Document Type` = col_character(),\n",
      "  Source = col_character(),\n",
      "  EID = col_character()\n",
      ")\n",
      "Parsed with column specification:\n",
      "cols(\n",
      "  `Publication Year` = col_double(),\n",
      "  `Document Title` = col_character(),\n",
      "  Authors = col_character(),\n",
      "  ISSN = col_character(),\n",
      "  `Journal Title` = col_character(),\n",
      "  Volume = col_character(),\n",
      "  Issue = col_character(),\n",
      "  `38` = col_double(),\n",
      "  `2` = col_double(),\n",
      "  `15` = col_double(),\n",
      "  `1079` = col_double(),\n",
      "  `14561` = col_double(),\n",
      "  `38530` = col_double(),\n",
      "  `64211` = col_double(),\n",
      "  `118398` = col_double(),\n",
      "  `214506` = col_double(),\n",
      "  `332942` = col_double()\n",
      ")\n",
      "Parsed with column specification:\n",
      "cols(\n",
      "  `Publication Year` = col_double(),\n",
      "  `Document Title` = col_character(),\n",
      "  Authors = col_character(),\n",
      "  ISSN = col_character(),\n",
      "  `Journal Title` = col_character(),\n",
      "  Volume = col_character(),\n",
      "  Issue = col_character(),\n",
      "  `27483` = col_double(),\n",
      "  `44770` = col_double(),\n",
      "  `68158` = col_double(),\n",
      "  `90447` = col_double(),\n",
      "  `100508` = col_double(),\n",
      "  `95765` = col_double(),\n",
      "  `88016` = col_double(),\n",
      "  `487664` = col_double(),\n",
      "  `194794` = col_double(),\n",
      "  `709941` = col_double()\n",
      ")\n",
      "Parsed with column specification:\n",
      "cols(\n",
      "  Authors = col_character(),\n",
      "  Title = col_character(),\n",
      "  Year = col_double(),\n",
      "  `Source title` = col_character(),\n",
      "  Volume = col_character(),\n",
      "  Issue = col_character(),\n",
      "  `Art. No.` = col_character(),\n",
      "  `Page start` = col_character(),\n",
      "  `Page end` = col_character(),\n",
      "  `Page count` = col_logical(),\n",
      "  `Cited by` = col_double(),\n",
      "  DOI = col_character(),\n",
      "  Link = col_character(),\n",
      "  `Document Type` = col_character(),\n",
      "  Source = col_character(),\n",
      "  EID = col_character()\n",
      ")\n",
      "Warning message:\n",
      "\"185 parsing failures.\n",
      " row          col           expected     actual                      file\n",
      "1808 Source title delimiter or quote S          'proteomics_scopus_1.csv'\n",
      "1808 NA           16 columns         17 columns 'proteomics_scopus_1.csv'\n",
      "1811 Source title delimiter or quote S          'proteomics_scopus_1.csv'\n",
      "1811 NA           16 columns         17 columns 'proteomics_scopus_1.csv'\n",
      "2611 Page count   1/0/T/F/TRUE/FALSE e2         'proteomics_scopus_1.csv'\n",
      ".... ............ .................. .......... .........................\n",
      "See problems(...) for more details.\n",
      "\"Parsed with column specification:\n",
      "cols(\n",
      "  Authors = col_character(),\n",
      "  Title = col_character(),\n",
      "  Year = col_double(),\n",
      "  `Source title` = col_character(),\n",
      "  Volume = col_character(),\n",
      "  Issue = col_character(),\n",
      "  `Art. No.` = col_character(),\n",
      "  `Page start` = col_character(),\n",
      "  `Page end` = col_character(),\n",
      "  `Page count` = col_logical(),\n",
      "  `Cited by` = col_double(),\n",
      "  DOI = col_character(),\n",
      "  Link = col_character(),\n",
      "  `Document Type` = col_character(),\n",
      "  Source = col_character(),\n",
      "  EID = col_character()\n",
      ")\n"
     ]
    },
    {
     "name": "stderr",
     "output_type": "stream",
     "text": [
      "Warning message:\n",
      "\"77 parsing failures.\n",
      " row        col           expected    actual                      file\n",
      "1228 Page count 1/0/T/F/TRUE/FALSE B21       'proteomics_scopus_2.csv'\n",
      "1707 Page count 1/0/T/F/TRUE/FALSE Unit 24.3 'proteomics_scopus_2.csv'\n",
      "1780 Page count 1/0/T/F/TRUE/FALSE S1        'proteomics_scopus_2.csv'\n",
      "1905 Page count 1/0/T/F/TRUE/FALSE Unit 13.5 'proteomics_scopus_2.csv'\n",
      "2149 Page count 1/0/T/F/TRUE/FALSE e83       'proteomics_scopus_2.csv'\n",
      ".... .......... .................. ......... .........................\n",
      "See problems(...) for more details.\n",
      "\"Parsed with column specification:\n",
      "cols(\n",
      "  `Publication Year` = col_double(),\n",
      "  `Document Title` = col_character(),\n",
      "  Authors = col_character(),\n",
      "  ISSN = col_character(),\n",
      "  `Journal Title` = col_character(),\n",
      "  Volume = col_character(),\n",
      "  Issue = col_character(),\n",
      "  `13` = col_double(),\n",
      "  `417` = col_double(),\n",
      "  `2389` = col_double(),\n",
      "  `5837` = col_double(),\n",
      "  `10328` = col_double(),\n",
      "  `16461` = col_double(),\n",
      "  `24152` = col_double(),\n",
      "  `34936` = col_double(),\n",
      "  `40776` = col_double(),\n",
      "  `135296` = col_double(),\n",
      "  `125204` = col_double(),\n",
      "  `260513` = col_double()\n",
      ")\n",
      "Parsed with column specification:\n",
      "cols(\n",
      "  Authors = col_character(),\n",
      "  Title = col_character(),\n",
      "  Year = col_double(),\n",
      "  `Source title` = col_character(),\n",
      "  Volume = col_character(),\n",
      "  Issue = col_character(),\n",
      "  `Art. No.` = col_character(),\n",
      "  `Page start` = col_character(),\n",
      "  `Page end` = col_character(),\n",
      "  `Page count` = col_logical(),\n",
      "  `Cited by` = col_double(),\n",
      "  DOI = col_character(),\n",
      "  Link = col_character(),\n",
      "  `Document Type` = col_character(),\n",
      "  Source = col_character(),\n",
      "  EID = col_character()\n",
      ")\n",
      "Warning message:\n",
      "\"38 parsing failures.\n",
      " row          col           expected     actual                      file\n",
      " 713 Source title delimiter or quote S          'metabolomics_scopus.csv'\n",
      " 713 NA           16 columns         17 columns 'metabolomics_scopus.csv'\n",
      "1819 Page count   1/0/T/F/TRUE/FALSE S11        'metabolomics_scopus.csv'\n",
      "2179 Page count   1/0/T/F/TRUE/FALSE e7         'metabolomics_scopus.csv'\n",
      "2251 Page count   1/0/T/F/TRUE/FALSE S9         'metabolomics_scopus.csv'\n",
      ".... ............ .................. .......... .........................\n",
      "See problems(...) for more details.\n",
      "\"Warning message:\n",
      "\"Transformation introduced infinite values in continuous y-axis\"Warning message:\n",
      "\"Removed 8512 rows containing missing values (geom_point).\""
     ]
    },
    {
     "data": {},
     "metadata": {},
     "output_type": "display_data"
    },
    {
     "data": {
      "image/png": "[encoded data removed]",
      "text/plain": [
       "plot without title"
      ]
     },
     "metadata": {},
     "output_type": "display_data"
    }
   ],
   "source": [
    "load('exploratory_analysis.RData')\n",
    "genomics_citation_data = merge(\n",
    "    rbind(\n",
    "        read_csv(\"genomics_citation_1.csv\",skip=6) %>% select(c(1:7,ncol(.))) %>% rename(\"Citation\" = !!names(.[8])),\n",
    "        read_csv(\"genomics_citation_2.csv\",skip=6) %>% select(c(1:7,ncol(.))) %>% rename(\"Citation\" = !!names(.[8]))\n",
    "        ) %>% distinct() %>% rename(\"Title\" = \"Document Title\"),\n",
    "    rbind(\n",
    "        read_csv(\"genomics_scopus_1.csv\"),\n",
    "        read_csv(\"genomics_scopus_2.csv\")\n",
    "        ) %>% distinct(),\n",
    "    by='Title')  %>% \n",
    "select(DOI,Citation) %>% \n",
    "mutate(Field=\"Genomics\",Citation=as.numeric(Citation))\n",
    "\n",
    "transcriptomics_citation_data = merge(\n",
    "    rbind(\n",
    "        read_csv(\"transcriptomics_citation_1.csv\",skip=6) %>% select(c(1:7,ncol(.))) %>% rename(\"Citation\" = !!names(.[8])),\n",
    "        read_csv(\"transcriptomics_citation_2.csv\",skip=6) %>% select(c(1:7,ncol(.))) %>% rename(\"Citation\" = !!names(.[8]))\n",
    "        ) %>% distinct() %>% rename(\"Title\" = \"Document Title\"),\n",
    "    rbind(\n",
    "        read_csv(\"transcriptomics_scopus_1.csv\"),\n",
    "        read_csv(\"transcriptomics_scopus_2.csv\")\n",
    "        ) %>% distinct(),\n",
    "    by='Title')  %>% \n",
    "select(DOI,Citation) %>% \n",
    "mutate(Field=\"Transcriptomics\",Citation=as.numeric(Citation))\n",
    "\n",
    "\n",
    "proteomics_citation_data = merge(\n",
    "    rbind(\n",
    "        read_csv(\"proteomics_citation_1.csv\",skip=6) %>% select(c(1:7,ncol(.))) %>% rename(\"Citation\" = !!names(.[8])),\n",
    "        read_csv(\"proteomics_citation_2.csv\",skip=6) %>% select(c(1:7,ncol(.))) %>% rename(\"Citation\" = !!names(.[8]))\n",
    "        ) %>% distinct() %>% rename(\"Title\" = \"Document Title\"),\n",
    "    rbind(\n",
    "        read_csv(\"proteomics_scopus_1.csv\"),\n",
    "        read_csv(\"proteomics_scopus_2.csv\")\n",
    "        ) %>% distinct(),\n",
    "    by='Title')  %>% \n",
    "select(DOI,Citation) %>% \n",
    "mutate(Field=\"Proteomics\",Citation=as.numeric(Citation))\n",
    "\n",
    "metabolomics_citation_data = merge(\n",
    "        read_csv(\"metabolomics_citation.csv\",skip=6) %>% select(c(1:7,ncol(.))) %>% rename(\"Citation\" = !!names(.[8]))\n",
    "        %>% rename(\"Title\" = \"Document Title\"),\n",
    "        read_csv(\"metabolomics_scopus.csv\"),\n",
    "    by='Title')  %>% \n",
    "select(DOI,Citation) %>% \n",
    "mutate(Field=\"Metabolomics\",Citation=as.numeric(Citation))\n"
   ]
  },
  {
   "cell_type": "code",
   "execution_count": 9,
   "metadata": {},
   "outputs": [],
   "source": [
    "citation_information=rbind(genomics_citation_data,\n",
    "              transcriptomics_citation_data,\n",
    "              proteomics_citation_data,\n",
    "              metabolomics_citation_data)"
   ]
  },
  {
   "cell_type": "code",
   "execution_count": 11,
   "metadata": {},
   "outputs": [
    {
     "name": "stderr",
     "output_type": "stream",
     "text": [
      "Warning message:\n",
      "\"Transformation introduced infinite values in continuous y-axis\"Warning message:\n",
      "\"Removed 12998 rows containing missing values (geom_point).\""
     ]
    },
    {
     "data": {},
     "metadata": {},
     "output_type": "display_data"
    },
    {
     "data": {
      "image/png": "[encoded data removed]",
      "text/plain": [
       "plot without title"
      ]
     },
     "metadata": {},
     "output_type": "display_data"
    }
   ],
   "source": [
    "data=allp_reduced %>%\n",
    "left_join(citation_information,by=\"DOI\")%>%\n",
    "mutate(Field=Field.x)%>%\n",
    "filter(!is.na(Citation))\n",
    "\n",
    "# data=downSample(data,data$Citation,list=T)$x\n",
    "\n",
    "options(repr.plot.width=8, repr.plot.height=7)\n",
    "\n",
    "ggplot(data=data, aes(y=pvalue, x=Citation))+\n",
    "#   facet_wrap(~ Field, scales = \"free\") +\n",
    "geom_point() +\n",
    "scale_y_log10(breaks=c(1e-6,1e-5,1e-4,0.001,0.005,0.01,0.05,0.1,1),limits=c(5e-5,0.2))+\n",
    "scale_x_continuous(c(0,50))+\n",
    "\n",
    "# scale_color_brewer(palette = \"Set1\") +\n",
    "theme_bw() +\n",
    "theme(legend.position=\"bottom\",panel.border = element_blank(), panel.grid.major = element_blank(),\n",
    "                     panel.grid.minor = element_blank(), axis.line = element_line(colour = \"black\"))+\n",
    "labs(x = \"p-value\",y='Density',colour='Citation',title=\"Density plot of p values by citation\")"
   ]
  },
  {
   "cell_type": "code",
   "execution_count": null,
   "metadata": {},
   "outputs": [],
   "source": []
  }
 ],
 "metadata": {
  "kernelspec": {
   "display_name": "R",
   "language": "R",
   "name": "ir"
  },
  "language_info": {
   "codemirror_mode": "r",
   "file_extension": ".r",
   "mimetype": "text/x-r-source",
   "name": "R",
   "pygments_lexer": "r",
   "version": "3.5.2"
  }
 },
 "nbformat": 4,
 "nbformat_minor": 2
}
