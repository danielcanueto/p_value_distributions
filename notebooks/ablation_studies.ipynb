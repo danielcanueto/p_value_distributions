{
 "cells": [
  {
   "cell_type": "markdown",
   "metadata": {},
   "source": [
    "# Ablation studies to demosntrate the importance of the factors analyzed in the model trained"
   ]
  },
  {
   "cell_type": "markdown",
   "metadata": {},
   "source": [
    "## Introduction"
   ]
  },
  {
   "cell_type": "markdown",
   "metadata": {},
   "source": [
    "The analysis of the variable importance of the model trained in the 'pvalue_prediction_model_training.ipynb' notebook showed that all the features analyzed were relevant in the prediction of low and high p-values. However, the high interaction effects between variables might exert an effect on the found results.\n",
    "\n",
    "To ensure that all the features are relevant to improve the p-value class prediction, ablation studies were performed. Ablation studies consist of the individual removal of features to evaluate if the model was worsened or not its performance."
   ]
  },
  {
   "cell_type": "code",
   "execution_count": 22,
   "metadata": {},
   "outputs": [],
   "source": [
    "setwd(\"C:\\\\Users\\\\dani5\\\\Documents\\\\Projects\\\\PhD\\\\p_value_dist\\\\data\")"
   ]
  },
  {
   "cell_type": "code",
   "execution_count": 23,
   "metadata": {},
   "outputs": [],
   "source": [
    "library(caret)\n",
    "library(dplyr)\n",
    "library(xgboost)\n",
    "library(DALEX)\n",
    "library(MLmetrics)\n",
    "library(onehot)\n",
    "library(pROC)"
   ]
  },
  {
   "cell_type": "markdown",
   "metadata": {},
   "source": [
    "First, we load the p-value dataset obtained in the previous notebook."
   ]
  },
  {
   "cell_type": "code",
   "execution_count": 24,
   "metadata": {},
   "outputs": [],
   "source": [
    "load(\"notebook_06_01_2019.RData\")"
   ]
  },
  {
   "cell_type": "markdown",
   "metadata": {},
   "source": [
    "## Training of models with feature removal"
   ]
  },
  {
   "cell_type": "markdown",
   "metadata": {},
   "source": [
    "To demonstrate that a model is improved or worsened after adding a feature, it is necessary to perform hypothesis testing of the analyzed metric with and without the variable.\n",
    "\n",
    "According to several sources (e.g. here: https://machinelearningmastery.com/statistical-significance-tests-for-comparing-machine-learning-algorithms/) the 5x2 (5 repeats, 2 50% folds) repeated cross-validation is the most robust approach to perform hypothesis (by paired t-tests) testing when comparing models. Ensuring the same folds are created in each model is vital so paired t-tests can be performed.\n",
    "\n",
    "These requirements are taken into account to update the setting and the hyperparameter of the model training:"
   ]
  },
  {
   "cell_type": "code",
   "execution_count": 25,
   "metadata": {},
   "outputs": [],
   "source": [
    "train_control <- trainControl(method = \"cv\",\n",
    "                              number = 10,\n",
    "                              classProbs=TRUE,\n",
    "                              savePredictions = \"final\")"
   ]
  },
  {
   "cell_type": "code",
   "execution_count": 26,
   "metadata": {},
   "outputs": [],
   "source": [
    "xgb_grid <- expand.grid(\n",
    "                        nrounds = 300,\n",
    "                       max_depth = 9,\n",
    "                       min_child_weight = 3,\n",
    "                       subsample = 0.8,\n",
    "                       gamma = 0,\n",
    "                       colsample_bytree = 0.8,\n",
    "                       eta = 0.3)"
   ]
  },
  {
   "cell_type": "markdown",
   "metadata": {},
   "source": [
    "As the setting have been changed, the model with all the features needs to be trained again:"
   ]
  },
  {
   "cell_type": "markdown",
   "metadata": {},
   "source": [
    "The AUC obtained with this kind of cross-validation (0.7010) is quite lower to the one (0.7416) obtained with .632 bootstrap during the prediction of the model. This lowering is caused by the much lower percentage of rows (50 % of the original dataset) taken during the generation of each repeat of the 2-fold cross-validation. "
   ]
  },
  {
   "cell_type": "markdown",
   "metadata": {},
   "source": [
    "Now it is the moment to train models removing each one of the six factors studied:"
   ]
  },
  {
   "cell_type": "code",
   "execution_count": 43,
   "metadata": {},
   "outputs": [],
   "source": [
    "set.seed(1);xgboost_model_no_country <- train(pvalue ~ ., \n",
    "                       p_value_final%>%select(-Country), \n",
    "                      method = \"xgbTree\",\n",
    "                       metric=\"Kappa\",\n",
    "                     tuneGrid = xgb_grid,\n",
    "                       trControl = train_control)\n",
    "set.seed(1);xgboost_model_no_species <- train(pvalue ~ ., \n",
    "                       p_value_final%>%select(-Species), \n",
    "                      method = \"xgbTree\", \n",
    "                      metric=\"Kappa\",\n",
    "                     tuneGrid = xgb_grid,\n",
    "                       trControl = train_control)\n",
    "set.seed(1);xgboost_model_no_field <- train(pvalue ~ ., \n",
    "                       p_value_final%>%select(-Field), \n",
    "                      method = \"xgbTree\", \n",
    "                       metric=\"Kappa\",\n",
    "                     tuneGrid = xgb_grid,\n",
    "                       trControl = train_control)\n",
    "set.seed(1);xgboost_model_no_dataset <- train(pvalue ~ ., \n",
    "                       p_value_final%>%select(-dataset), \n",
    "                      method = \"xgbTree\", \n",
    "                       metric=\"Kappa\",\n",
    "                     tuneGrid = xgb_grid,\n",
    "                       trControl = train_control)\n",
    "set.seed(1);xgboost_model_no_citation <- train(pvalue ~ ., \n",
    "                       p_value_final%>%select(-Citation), \n",
    "                      method = \"xgbTree\", \n",
    "                       metric=\"Kappa\",\n",
    "                     tuneGrid = xgb_grid,\n",
    "                       trControl = train_control)\n",
    "set.seed(1);xgboost_model_no_year <- train(pvalue ~ ., \n",
    "                       p_value_final%>%select(-year), \n",
    "                      method = \"xgbTree\", \n",
    "                       metric=\"Kappa\",\n",
    "                     tuneGrid = xgb_grid,\n",
    "                       trControl = train_control)\n"
   ]
  },
  {
   "cell_type": "markdown",
   "metadata": {},
   "source": [
    "## Results of hypothesis testing"
   ]
  },
  {
   "cell_type": "markdown",
   "metadata": {},
   "source": [
    "Now it is the moment to:\n",
    "* evaluate how the predictions worsen after removing each variable during model training.\n",
    "* prepare  McNemar's tests to evaluate if the difference in the predictions when removing the variable is significant or not.\n",
    "\n",
    "First, let's remember the metrics in the model trained with all variables."
   ]
  },
  {
   "cell_type": "code",
   "execution_count": 44,
   "metadata": {},
   "outputs": [
    {
     "name": "stdout",
     "output_type": "stream",
     "text": [
      "Confusion Matrix and Statistics\n",
      "\n",
      "              Reference\n",
      "Prediction     X.0.0.01. X.0.01.0.05.\n",
      "  X.0.0.01.        37975        19548\n",
      "  X.0.01.0.05.     15952        29618\n",
      "                                          \n",
      "               Accuracy : 0.6557          \n",
      "                 95% CI : (0.6527, 0.6586)\n",
      "    No Information Rate : 0.5231          \n",
      "    P-Value [Acc > NIR] : < 2.2e-16       \n",
      "                                          \n",
      "                  Kappa : 0.3076          \n",
      " Mcnemar's Test P-Value : < 2.2e-16       \n",
      "                                          \n",
      "            Sensitivity : 0.6024          \n",
      "            Specificity : 0.7042          \n",
      "         Pos Pred Value : 0.6499          \n",
      "         Neg Pred Value : 0.6602          \n",
      "              Precision : 0.6499          \n",
      "                 Recall : 0.6024          \n",
      "                     F1 : 0.6253          \n",
      "             Prevalence : 0.4769          \n",
      "         Detection Rate : 0.2873          \n",
      "   Detection Prevalence : 0.4420          \n",
      "      Balanced Accuracy : 0.6533          \n",
      "                                          \n",
      "       'Positive' Class : X.0.01.0.05.    \n",
      "                                          \n"
     ]
    }
   ],
   "source": [
    "print(confusionMatrix(xgboost_model$pred$pred,xgboost_model$pred$obs,positive = \"X.0.01.0.05.\",mode=\"everything\"))"
   ]
  },
  {
   "cell_type": "markdown",
   "metadata": {},
   "source": [
    "Citation count:"
   ]
  },
  {
   "cell_type": "code",
   "execution_count": 45,
   "metadata": {},
   "outputs": [
    {
     "name": "stdout",
     "output_type": "stream",
     "text": [
      "Confusion Matrix and Statistics\n",
      "\n",
      "              Reference\n",
      "Prediction     X.0.0.01. X.0.01.0.05.\n",
      "  X.0.0.01.        37209        26059\n",
      "  X.0.01.0.05.     16718        23107\n",
      "                                         \n",
      "               Accuracy : 0.5851         \n",
      "                 95% CI : (0.582, 0.5881)\n",
      "    No Information Rate : 0.5231         \n",
      "    P-Value [Acc > NIR] : < 2.2e-16      \n",
      "                                         \n",
      "                  Kappa : 0.1613         \n",
      " Mcnemar's Test P-Value : < 2.2e-16      \n",
      "                                         \n",
      "            Sensitivity : 0.4700         \n",
      "            Specificity : 0.6900         \n",
      "         Pos Pred Value : 0.5802         \n",
      "         Neg Pred Value : 0.5881         \n",
      "              Precision : 0.5802         \n",
      "                 Recall : 0.4700         \n",
      "                     F1 : 0.5193         \n",
      "             Prevalence : 0.4769         \n",
      "         Detection Rate : 0.2241         \n",
      "   Detection Prevalence : 0.3863         \n",
      "      Balanced Accuracy : 0.5800         \n",
      "                                         \n",
      "       'Positive' Class : X.0.01.0.05.   \n",
      "                                         \n"
     ]
    }
   ],
   "source": [
    "print(confusionMatrix(xgboost_model_no_citation$pred$pred,xgboost_model_no_citation$pred$obs,positive = \"X.0.01.0.05.\",mode=\"everything\"))"
   ]
  },
  {
   "cell_type": "markdown",
   "metadata": {},
   "source": [
    "Country of affiliation:"
   ]
  },
  {
   "cell_type": "code",
   "execution_count": 47,
   "metadata": {},
   "outputs": [
    {
     "name": "stdout",
     "output_type": "stream",
     "text": [
      "Confusion Matrix and Statistics\n",
      "\n",
      "              Reference\n",
      "Prediction     X.0.0.01. X.0.01.0.05.\n",
      "  X.0.0.01.        36172        20629\n",
      "  X.0.01.0.05.     17755        28537\n",
      "                                          \n",
      "               Accuracy : 0.6277          \n",
      "                 95% CI : (0.6247, 0.6306)\n",
      "    No Information Rate : 0.5231          \n",
      "    P-Value [Acc > NIR] : < 2.2e-16       \n",
      "                                          \n",
      "                  Kappa : 0.2518          \n",
      " Mcnemar's Test P-Value : < 2.2e-16       \n",
      "                                          \n",
      "            Sensitivity : 0.5804          \n",
      "            Specificity : 0.6708          \n",
      "         Pos Pred Value : 0.6165          \n",
      "         Neg Pred Value : 0.6368          \n",
      "              Precision : 0.6165          \n",
      "                 Recall : 0.5804          \n",
      "                     F1 : 0.5979          \n",
      "             Prevalence : 0.4769          \n",
      "         Detection Rate : 0.2768          \n",
      "   Detection Prevalence : 0.4490          \n",
      "      Balanced Accuracy : 0.6256          \n",
      "                                          \n",
      "       'Positive' Class : X.0.01.0.05.    \n",
      "                                          \n"
     ]
    }
   ],
   "source": [
    "print(confusionMatrix(xgboost_model_no_country$pred$pred,xgboost_model_no_country$pred$obs,positive = \"X.0.01.0.05.\",mode=\"everything\"))"
   ]
  },
  {
   "cell_type": "markdown",
   "metadata": {},
   "source": [
    "Year of publication:"
   ]
  },
  {
   "cell_type": "code",
   "execution_count": 49,
   "metadata": {},
   "outputs": [
    {
     "name": "stdout",
     "output_type": "stream",
     "text": [
      "Confusion Matrix and Statistics\n",
      "\n",
      "              Reference\n",
      "Prediction     X.0.0.01. X.0.01.0.05.\n",
      "  X.0.0.01.        37467        21592\n",
      "  X.0.01.0.05.     16460        27574\n",
      "                                          \n",
      "               Accuracy : 0.6309          \n",
      "                 95% CI : (0.6279, 0.6338)\n",
      "    No Information Rate : 0.5231          \n",
      "    P-Value [Acc > NIR] : < 2.2e-16       \n",
      "                                          \n",
      "                  Kappa : 0.2568          \n",
      " Mcnemar's Test P-Value : < 2.2e-16       \n",
      "                                          \n",
      "            Sensitivity : 0.5608          \n",
      "            Specificity : 0.6948          \n",
      "         Pos Pred Value : 0.6262          \n",
      "         Neg Pred Value : 0.6344          \n",
      "              Precision : 0.6262          \n",
      "                 Recall : 0.5608          \n",
      "                     F1 : 0.5917          \n",
      "             Prevalence : 0.4769          \n",
      "         Detection Rate : 0.2675          \n",
      "   Detection Prevalence : 0.4271          \n",
      "      Balanced Accuracy : 0.6278          \n",
      "                                          \n",
      "       'Positive' Class : X.0.01.0.05.    \n",
      "                                          \n"
     ]
    }
   ],
   "source": [
    "print(confusionMatrix(xgboost_model_no_year$pred$pred,xgboost_model_no_year$pred$obs,positive = \"X.0.01.0.05.\",mode=\"everything\"))"
   ]
  },
  {
   "cell_type": "markdown",
   "metadata": {},
   "source": [
    "p-value dataset source:"
   ]
  },
  {
   "cell_type": "code",
   "execution_count": 51,
   "metadata": {},
   "outputs": [
    {
     "name": "stdout",
     "output_type": "stream",
     "text": [
      "Confusion Matrix and Statistics\n",
      "\n",
      "              Reference\n",
      "Prediction     X.0.0.01. X.0.01.0.05.\n",
      "  X.0.0.01.        37854        21016\n",
      "  X.0.01.0.05.     16073        28150\n",
      "                                          \n",
      "               Accuracy : 0.6402          \n",
      "                 95% CI : (0.6373, 0.6432)\n",
      "    No Information Rate : 0.5231          \n",
      "    P-Value [Acc > NIR] : < 2.2e-16       \n",
      "                                          \n",
      "                  Kappa : 0.2757          \n",
      " Mcnemar's Test P-Value : < 2.2e-16       \n",
      "                                          \n",
      "            Sensitivity : 0.5726          \n",
      "            Specificity : 0.7019          \n",
      "         Pos Pred Value : 0.6365          \n",
      "         Neg Pred Value : 0.6430          \n",
      "              Precision : 0.6365          \n",
      "                 Recall : 0.5726          \n",
      "                     F1 : 0.6029          \n",
      "             Prevalence : 0.4769          \n",
      "         Detection Rate : 0.2731          \n",
      "   Detection Prevalence : 0.4290          \n",
      "      Balanced Accuracy : 0.6372          \n",
      "                                          \n",
      "       'Positive' Class : X.0.01.0.05.    \n",
      "                                          \n"
     ]
    }
   ],
   "source": [
    "print(confusionMatrix(xgboost_model_no_dataset$pred$pred,xgboost_model_no_dataset$pred$obs,positive = \"X.0.01.0.05.\",mode=\"everything\"))"
   ]
  },
  {
   "cell_type": "markdown",
   "metadata": {},
   "source": [
    "Species/kingdom analyzed:"
   ]
  },
  {
   "cell_type": "code",
   "execution_count": 53,
   "metadata": {},
   "outputs": [
    {
     "name": "stdout",
     "output_type": "stream",
     "text": [
      "Confusion Matrix and Statistics\n",
      "\n",
      "              Reference\n",
      "Prediction     X.0.0.01. X.0.01.0.05.\n",
      "  X.0.0.01.        37541        19775\n",
      "  X.0.01.0.05.     16386        29391\n",
      "                                          \n",
      "               Accuracy : 0.6492          \n",
      "                 95% CI : (0.6463, 0.6522)\n",
      "    No Information Rate : 0.5231          \n",
      "    P-Value [Acc > NIR] : < 2.2e-16       \n",
      "                                          \n",
      "                  Kappa : 0.2948          \n",
      " Mcnemar's Test P-Value : < 2.2e-16       \n",
      "                                          \n",
      "            Sensitivity : 0.5978          \n",
      "            Specificity : 0.6961          \n",
      "         Pos Pred Value : 0.6420          \n",
      "         Neg Pred Value : 0.6550          \n",
      "              Precision : 0.6420          \n",
      "                 Recall : 0.5978          \n",
      "                     F1 : 0.6191          \n",
      "             Prevalence : 0.4769          \n",
      "         Detection Rate : 0.2851          \n",
      "   Detection Prevalence : 0.4440          \n",
      "      Balanced Accuracy : 0.6470          \n",
      "                                          \n",
      "       'Positive' Class : X.0.01.0.05.    \n",
      "                                          \n"
     ]
    }
   ],
   "source": [
    "print(confusionMatrix(xgboost_model_no_species$pred$pred,xgboost_model_no_species$pred$obs,positive = \"X.0.01.0.05.\",mode=\"everything\"))"
   ]
  },
  {
   "cell_type": "markdown",
   "metadata": {},
   "source": [
    "-Omics field:"
   ]
  },
  {
   "cell_type": "code",
   "execution_count": 55,
   "metadata": {},
   "outputs": [
    {
     "name": "stdout",
     "output_type": "stream",
     "text": [
      "Confusion Matrix and Statistics\n",
      "\n",
      "              Reference\n",
      "Prediction     X.0.0.01. X.0.01.0.05.\n",
      "  X.0.0.01.        36834        20519\n",
      "  X.0.01.0.05.     17093        28647\n",
      "                                          \n",
      "               Accuracy : 0.6352          \n",
      "                 95% CI : (0.6322, 0.6381)\n",
      "    No Information Rate : 0.5231          \n",
      "    P-Value [Acc > NIR] : < 2.2e-16       \n",
      "                                          \n",
      "                  Kappa : 0.2665          \n",
      " Mcnemar's Test P-Value : < 2.2e-16       \n",
      "                                          \n",
      "            Sensitivity : 0.5827          \n",
      "            Specificity : 0.6830          \n",
      "         Pos Pred Value : 0.6263          \n",
      "         Neg Pred Value : 0.6422          \n",
      "              Precision : 0.6263          \n",
      "                 Recall : 0.5827          \n",
      "                     F1 : 0.6037          \n",
      "             Prevalence : 0.4769          \n",
      "         Detection Rate : 0.2779          \n",
      "   Detection Prevalence : 0.4437          \n",
      "      Balanced Accuracy : 0.6328          \n",
      "                                          \n",
      "       'Positive' Class : X.0.01.0.05.    \n",
      "                                          \n"
     ]
    }
   ],
   "source": [
    "print(confusionMatrix(xgboost_model_no_field$pred$pred,xgboost_model_no_field$pred$obs,positive = \"X.0.01.0.05.\",mode=\"everything\"))"
   ]
  },
  {
   "cell_type": "code",
   "execution_count": 66,
   "metadata": {},
   "outputs": [
    {
     "data": {
      "text/html": [
       "<table>\n",
       "<thead><tr><th scope=col>Accuracy</th><th scope=col>Accuracy.no_citation</th><th scope=col>Accuracy.no_country</th><th scope=col>Accuracy.no_dataset</th><th scope=col>Accuracy.no_field</th><th scope=col>Accuracy.no_species</th><th scope=col>Accuracy.no_year</th><th scope=col>Kappa</th><th scope=col>Kappa.no_citation</th><th scope=col>Kappa.no_country</th><th scope=col>Kappa.no_dataset</th><th scope=col>Kappa.no_field</th><th scope=col>Kappa.no_species</th><th scope=col>Kappa.no_year</th><th scope=col>Resample</th></tr></thead>\n",
       "<tbody>\n",
       "\t<tr><td>0.6505966</td><td>0.5814337</td><td>0.6265399</td><td>0.6332331</td><td>0.6280920</td><td>0.6413813</td><td>0.6243089</td><td>0.2975326</td><td>0.1540778</td><td>0.2497901</td><td>0.2616844</td><td>0.2521257</td><td>0.2790901</td><td>0.2438698</td><td>Fold01   </td></tr>\n",
       "\t<tr><td>0.6512756</td><td>0.5886119</td><td>0.6258609</td><td>0.6393443</td><td>0.6330391</td><td>0.6485595</td><td>0.6260549</td><td>0.2997256</td><td>0.1688564</td><td>0.2487715</td><td>0.2744649</td><td>0.2630915</td><td>0.2941951</td><td>0.2479682</td><td>Fold02   </td></tr>\n",
       "\t<tr><td>0.6642739</td><td>0.5841498</td><td>0.6308080</td><td>0.6493355</td><td>0.6410903</td><td>0.6552527</td><td>0.6437094</td><td>0.3254334</td><td>0.1595813</td><td>0.2586638</td><td>0.2945945</td><td>0.2786502</td><td>0.3077735</td><td>0.2829028</td><td>Fold03   </td></tr>\n",
       "\t<tr><td>0.6620757</td><td>0.5899127</td><td>0.6263822</td><td>0.6470417</td><td>0.6393792</td><td>0.6503395</td><td>0.6331717</td><td>0.3202428</td><td>0.1705395</td><td>0.2489166</td><td>0.2887645</td><td>0.2748880</td><td>0.2961846</td><td>0.2603149</td><td>Fold04   </td></tr>\n",
       "\t<tr><td>0.6543797</td><td>0.5846348</td><td>0.6224658</td><td>0.6407023</td><td>0.6345911</td><td>0.6536036</td><td>0.6292560</td><td>0.3048436</td><td>0.1604178</td><td>0.2410312</td><td>0.2765044</td><td>0.2652413</td><td>0.3031192</td><td>0.2537390</td><td>Fold05   </td></tr>\n",
       "\t<tr><td>0.6490105</td><td>0.5811021</td><td>0.6346527</td><td>0.6304812</td><td>0.6331975</td><td>0.6427047</td><td>0.6276678</td><td>0.2938707</td><td>0.1540334</td><td>0.2654620</td><td>0.2559962</td><td>0.2623437</td><td>0.2811651</td><td>0.2503385</td><td>Fold06   </td></tr>\n",
       "\t<tr><td>0.6532493</td><td>0.5820563</td><td>0.6300679</td><td>0.6380213</td><td>0.6383123</td><td>0.6499515</td><td>0.6284190</td><td>0.3023937</td><td>0.1554366</td><td>0.2567141</td><td>0.2709102</td><td>0.2723954</td><td>0.2961776</td><td>0.2520349</td><td>Fold07   </td></tr>\n",
       "\t<tr><td>0.6507906</td><td>0.5867688</td><td>0.6240178</td><td>0.6421573</td><td>0.6312930</td><td>0.6429334</td><td>0.6314871</td><td>0.2975657</td><td>0.1648668</td><td>0.2445681</td><td>0.2792214</td><td>0.2582464</td><td>0.2822836</td><td>0.2581297</td><td>Fold08   </td></tr>\n",
       "\t<tr><td>0.6601358</td><td>0.5881668</td><td>0.6304559</td><td>0.6407371</td><td>0.6311348</td><td>0.6521823</td><td>0.6322987</td><td>0.3165623</td><td>0.1677319</td><td>0.2573199</td><td>0.2772148</td><td>0.2584375</td><td>0.3009840</td><td>0.2589762</td><td>Fold09   </td></tr>\n",
       "\t<tr><td>0.6607177</td><td>0.5838021</td><td>0.6255092</td><td>0.6413191</td><td>0.6415131</td><td>0.6554801</td><td>0.6325897</td><td>0.3177571</td><td>0.1576688</td><td>0.2470600</td><td>0.2778652</td><td>0.2796974</td><td>0.3073374</td><td>0.2596495</td><td>Fold10   </td></tr>\n",
       "</tbody>\n",
       "</table>\n"
      ],
      "text/latex": [
       "\\begin{tabular}{r|lllllllllllllll}\n",
       " Accuracy & Accuracy.no\\_citation & Accuracy.no\\_country & Accuracy.no\\_dataset & Accuracy.no\\_field & Accuracy.no\\_species & Accuracy.no\\_year & Kappa & Kappa.no\\_citation & Kappa.no\\_country & Kappa.no\\_dataset & Kappa.no\\_field & Kappa.no\\_species & Kappa.no\\_year & Resample\\\\\n",
       "\\hline\n",
       "\t 0.6505966 & 0.5814337 & 0.6265399 & 0.6332331 & 0.6280920 & 0.6413813 & 0.6243089 & 0.2975326 & 0.1540778 & 0.2497901 & 0.2616844 & 0.2521257 & 0.2790901 & 0.2438698 & Fold01   \\\\\n",
       "\t 0.6512756 & 0.5886119 & 0.6258609 & 0.6393443 & 0.6330391 & 0.6485595 & 0.6260549 & 0.2997256 & 0.1688564 & 0.2487715 & 0.2744649 & 0.2630915 & 0.2941951 & 0.2479682 & Fold02   \\\\\n",
       "\t 0.6642739 & 0.5841498 & 0.6308080 & 0.6493355 & 0.6410903 & 0.6552527 & 0.6437094 & 0.3254334 & 0.1595813 & 0.2586638 & 0.2945945 & 0.2786502 & 0.3077735 & 0.2829028 & Fold03   \\\\\n",
       "\t 0.6620757 & 0.5899127 & 0.6263822 & 0.6470417 & 0.6393792 & 0.6503395 & 0.6331717 & 0.3202428 & 0.1705395 & 0.2489166 & 0.2887645 & 0.2748880 & 0.2961846 & 0.2603149 & Fold04   \\\\\n",
       "\t 0.6543797 & 0.5846348 & 0.6224658 & 0.6407023 & 0.6345911 & 0.6536036 & 0.6292560 & 0.3048436 & 0.1604178 & 0.2410312 & 0.2765044 & 0.2652413 & 0.3031192 & 0.2537390 & Fold05   \\\\\n",
       "\t 0.6490105 & 0.5811021 & 0.6346527 & 0.6304812 & 0.6331975 & 0.6427047 & 0.6276678 & 0.2938707 & 0.1540334 & 0.2654620 & 0.2559962 & 0.2623437 & 0.2811651 & 0.2503385 & Fold06   \\\\\n",
       "\t 0.6532493 & 0.5820563 & 0.6300679 & 0.6380213 & 0.6383123 & 0.6499515 & 0.6284190 & 0.3023937 & 0.1554366 & 0.2567141 & 0.2709102 & 0.2723954 & 0.2961776 & 0.2520349 & Fold07   \\\\\n",
       "\t 0.6507906 & 0.5867688 & 0.6240178 & 0.6421573 & 0.6312930 & 0.6429334 & 0.6314871 & 0.2975657 & 0.1648668 & 0.2445681 & 0.2792214 & 0.2582464 & 0.2822836 & 0.2581297 & Fold08   \\\\\n",
       "\t 0.6601358 & 0.5881668 & 0.6304559 & 0.6407371 & 0.6311348 & 0.6521823 & 0.6322987 & 0.3165623 & 0.1677319 & 0.2573199 & 0.2772148 & 0.2584375 & 0.3009840 & 0.2589762 & Fold09   \\\\\n",
       "\t 0.6607177 & 0.5838021 & 0.6255092 & 0.6413191 & 0.6415131 & 0.6554801 & 0.6325897 & 0.3177571 & 0.1576688 & 0.2470600 & 0.2778652 & 0.2796974 & 0.3073374 & 0.2596495 & Fold10   \\\\\n",
       "\\end{tabular}\n"
      ],
      "text/markdown": [
       "\n",
       "Accuracy | Accuracy.no_citation | Accuracy.no_country | Accuracy.no_dataset | Accuracy.no_field | Accuracy.no_species | Accuracy.no_year | Kappa | Kappa.no_citation | Kappa.no_country | Kappa.no_dataset | Kappa.no_field | Kappa.no_species | Kappa.no_year | Resample | \n",
       "|---|---|---|---|---|---|---|---|---|---|\n",
       "| 0.6505966 | 0.5814337 | 0.6265399 | 0.6332331 | 0.6280920 | 0.6413813 | 0.6243089 | 0.2975326 | 0.1540778 | 0.2497901 | 0.2616844 | 0.2521257 | 0.2790901 | 0.2438698 | Fold01    | \n",
       "| 0.6512756 | 0.5886119 | 0.6258609 | 0.6393443 | 0.6330391 | 0.6485595 | 0.6260549 | 0.2997256 | 0.1688564 | 0.2487715 | 0.2744649 | 0.2630915 | 0.2941951 | 0.2479682 | Fold02    | \n",
       "| 0.6642739 | 0.5841498 | 0.6308080 | 0.6493355 | 0.6410903 | 0.6552527 | 0.6437094 | 0.3254334 | 0.1595813 | 0.2586638 | 0.2945945 | 0.2786502 | 0.3077735 | 0.2829028 | Fold03    | \n",
       "| 0.6620757 | 0.5899127 | 0.6263822 | 0.6470417 | 0.6393792 | 0.6503395 | 0.6331717 | 0.3202428 | 0.1705395 | 0.2489166 | 0.2887645 | 0.2748880 | 0.2961846 | 0.2603149 | Fold04    | \n",
       "| 0.6543797 | 0.5846348 | 0.6224658 | 0.6407023 | 0.6345911 | 0.6536036 | 0.6292560 | 0.3048436 | 0.1604178 | 0.2410312 | 0.2765044 | 0.2652413 | 0.3031192 | 0.2537390 | Fold05    | \n",
       "| 0.6490105 | 0.5811021 | 0.6346527 | 0.6304812 | 0.6331975 | 0.6427047 | 0.6276678 | 0.2938707 | 0.1540334 | 0.2654620 | 0.2559962 | 0.2623437 | 0.2811651 | 0.2503385 | Fold06    | \n",
       "| 0.6532493 | 0.5820563 | 0.6300679 | 0.6380213 | 0.6383123 | 0.6499515 | 0.6284190 | 0.3023937 | 0.1554366 | 0.2567141 | 0.2709102 | 0.2723954 | 0.2961776 | 0.2520349 | Fold07    | \n",
       "| 0.6507906 | 0.5867688 | 0.6240178 | 0.6421573 | 0.6312930 | 0.6429334 | 0.6314871 | 0.2975657 | 0.1648668 | 0.2445681 | 0.2792214 | 0.2582464 | 0.2822836 | 0.2581297 | Fold08    | \n",
       "| 0.6601358 | 0.5881668 | 0.6304559 | 0.6407371 | 0.6311348 | 0.6521823 | 0.6322987 | 0.3165623 | 0.1677319 | 0.2573199 | 0.2772148 | 0.2584375 | 0.3009840 | 0.2589762 | Fold09    | \n",
       "| 0.6607177 | 0.5838021 | 0.6255092 | 0.6413191 | 0.6415131 | 0.6554801 | 0.6325897 | 0.3177571 | 0.1576688 | 0.2470600 | 0.2778652 | 0.2796974 | 0.3073374 | 0.2596495 | Fold10    | \n",
       "\n",
       "\n"
      ],
      "text/plain": [
       "   Accuracy  Accuracy.no_citation Accuracy.no_country Accuracy.no_dataset\n",
       "1  0.6505966 0.5814337            0.6265399           0.6332331          \n",
       "2  0.6512756 0.5886119            0.6258609           0.6393443          \n",
       "3  0.6642739 0.5841498            0.6308080           0.6493355          \n",
       "4  0.6620757 0.5899127            0.6263822           0.6470417          \n",
       "5  0.6543797 0.5846348            0.6224658           0.6407023          \n",
       "6  0.6490105 0.5811021            0.6346527           0.6304812          \n",
       "7  0.6532493 0.5820563            0.6300679           0.6380213          \n",
       "8  0.6507906 0.5867688            0.6240178           0.6421573          \n",
       "9  0.6601358 0.5881668            0.6304559           0.6407371          \n",
       "10 0.6607177 0.5838021            0.6255092           0.6413191          \n",
       "   Accuracy.no_field Accuracy.no_species Accuracy.no_year Kappa    \n",
       "1  0.6280920         0.6413813           0.6243089        0.2975326\n",
       "2  0.6330391         0.6485595           0.6260549        0.2997256\n",
       "3  0.6410903         0.6552527           0.6437094        0.3254334\n",
       "4  0.6393792         0.6503395           0.6331717        0.3202428\n",
       "5  0.6345911         0.6536036           0.6292560        0.3048436\n",
       "6  0.6331975         0.6427047           0.6276678        0.2938707\n",
       "7  0.6383123         0.6499515           0.6284190        0.3023937\n",
       "8  0.6312930         0.6429334           0.6314871        0.2975657\n",
       "9  0.6311348         0.6521823           0.6322987        0.3165623\n",
       "10 0.6415131         0.6554801           0.6325897        0.3177571\n",
       "   Kappa.no_citation Kappa.no_country Kappa.no_dataset Kappa.no_field\n",
       "1  0.1540778         0.2497901        0.2616844        0.2521257     \n",
       "2  0.1688564         0.2487715        0.2744649        0.2630915     \n",
       "3  0.1595813         0.2586638        0.2945945        0.2786502     \n",
       "4  0.1705395         0.2489166        0.2887645        0.2748880     \n",
       "5  0.1604178         0.2410312        0.2765044        0.2652413     \n",
       "6  0.1540334         0.2654620        0.2559962        0.2623437     \n",
       "7  0.1554366         0.2567141        0.2709102        0.2723954     \n",
       "8  0.1648668         0.2445681        0.2792214        0.2582464     \n",
       "9  0.1677319         0.2573199        0.2772148        0.2584375     \n",
       "10 0.1576688         0.2470600        0.2778652        0.2796974     \n",
       "   Kappa.no_species Kappa.no_year Resample\n",
       "1  0.2790901        0.2438698     Fold01  \n",
       "2  0.2941951        0.2479682     Fold02  \n",
       "3  0.3077735        0.2829028     Fold03  \n",
       "4  0.2961846        0.2603149     Fold04  \n",
       "5  0.3031192        0.2537390     Fold05  \n",
       "6  0.2811651        0.2503385     Fold06  \n",
       "7  0.2961776        0.2520349     Fold07  \n",
       "8  0.2822836        0.2581297     Fold08  \n",
       "9  0.3009840        0.2589762     Fold09  \n",
       "10 0.3073374        0.2596495     Fold10  "
      ]
     },
     "metadata": {},
     "output_type": "display_data"
    }
   ],
   "source": [
    "metric_comp=xgboost_model$resample%>%\n",
    "left_join(xgboost_model_no_field$resample,suffix=c(\"\", \".no_field\"),by='Resample')%>%\n",
    "left_join(xgboost_model_no_citation$resample,suffix=c(\"\", \".no_citation\"),by='Resample')%>%\n",
    "left_join(xgboost_model_no_dataset$resample,suffix=c(\"\", \".no_dataset\"),by='Resample')%>%\n",
    "left_join(xgboost_model_no_country$resample,suffix=c(\"\", \".no_country\"),by='Resample')%>%\n",
    "left_join(xgboost_model_no_year$resample,suffix=c(\"\", \".no_year\"),by='Resample')%>%\n",
    "left_join(xgboost_model_no_species$resample,suffix=c(\"\", \".no_species\"),by='Resample')\n",
    "\n",
    "metric_comp %>%select(noquote(order(colnames(metric_comp))))"
   ]
  },
  {
   "cell_type": "code",
   "execution_count": 67,
   "metadata": {},
   "outputs": [],
   "source": [
    "save.image(\"notebook_06_01_2019_ablation.RData\")\n"
   ]
  },
  {
   "cell_type": "code",
   "execution_count": null,
   "metadata": {},
   "outputs": [],
   "source": []
  }
 ],
 "metadata": {
  "kernelspec": {
   "display_name": "R",
   "language": "R",
   "name": "ir"
  },
  "language_info": {
   "codemirror_mode": "r",
   "file_extension": ".r",
   "mimetype": "text/x-r-source",
   "name": "R",
   "pygments_lexer": "r",
   "version": "3.5.2"
  }
 },
 "nbformat": 4,
 "nbformat_minor": 2
}
